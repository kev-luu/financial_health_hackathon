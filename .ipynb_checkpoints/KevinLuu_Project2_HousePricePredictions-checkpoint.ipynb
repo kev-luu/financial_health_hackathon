{
 "cells": [
  {
   "cell_type": "markdown",
   "id": "ef9e3cdf",
   "metadata": {},
   "source": [
    "#  PROJECT 2: AMES HOUSING PREDICTION CHALLENGE\n",
    "***BY: KEVIN LUU***\n",
    "\n",
    "## EXECUTIVE SUMMARY\n",
    "\n",
    "### PROBLEM STATEMENT\n",
    "Housing prices are skyrocketing each and everyday, making them very volitile and difficult to predict. With that being said, the goal of this project is to generate a model that can predict future house sale price based on past Ames, Iowa housing data provided by Kaggle's [Regression Challenge](https://www.kaggle.com/c/dsi-us-11-project-2-regression-challenge/overview).\n",
    "\n",
    "Kaggle has withheld a portion of the data's housing sale price, which represents the \"future\" sale price we're trying to predict. As a measure of success, Kaggle will generate a root mean squared error (RMSE) value based on the comparison between the predicted sale price from this project and the actual sale price that's been withheld.\n",
    "\n",
    "### DATA DICTIONARY\n",
    "Located directly on the Kaggle's competition [data tab](https://www.kaggle.com/c/dsi-us-11-project-2-regression-challenge/data)"
   ]
  },
  {
   "cell_type": "markdown",
   "id": "5ddc2cd2",
   "metadata": {},
   "source": [
    "# DATA CLEANING"
   ]
  },
  {
   "cell_type": "code",
   "execution_count": 1,
   "id": "5eb5b07a",
   "metadata": {},
   "outputs": [],
   "source": [
    "# Initial library imports\n",
    "import pandas as pd, numpy as np, seaborn as sns, matplotlib.pyplot as plt\n",
    "from sklearn.model_selection import train_test_split, cross_val_score\n",
    "from sklearn.linear_model import LinearRegression\n",
    "\n",
    "%matplotlib inline"
   ]
  },
  {
   "cell_type": "code",
   "execution_count": 2,
   "id": "aff2d4a0",
   "metadata": {},
   "outputs": [],
   "source": [
    "# Data imported\n",
    "\n",
    "train_df = pd.read_csv('../datasets/train.csv')\n",
    "test_df = pd.read_csv('../datasets/test.csv')"
   ]
  },
  {
   "cell_type": "markdown",
   "id": "65ca0b10",
   "metadata": {},
   "source": [
    "## CLEANING TRAINING DATA"
   ]
  },
  {
   "cell_type": "code",
   "execution_count": 3,
   "id": "1e79b704",
   "metadata": {
    "scrolled": true
   },
   "outputs": [
    {
     "name": "stdout",
     "output_type": "stream",
     "text": [
      "<class 'pandas.core.frame.DataFrame'>\n",
      "RangeIndex: 2051 entries, 0 to 2050\n",
      "Data columns (total 81 columns):\n",
      " #   Column           Non-Null Count  Dtype  \n",
      "---  ------           --------------  -----  \n",
      " 0   Id               2051 non-null   int64  \n",
      " 1   PID              2051 non-null   int64  \n",
      " 2   MS SubClass      2051 non-null   int64  \n",
      " 3   MS Zoning        2051 non-null   object \n",
      " 4   Lot Frontage     1721 non-null   float64\n",
      " 5   Lot Area         2051 non-null   int64  \n",
      " 6   Street           2051 non-null   object \n",
      " 7   Alley            140 non-null    object \n",
      " 8   Lot Shape        2051 non-null   object \n",
      " 9   Land Contour     2051 non-null   object \n",
      " 10  Utilities        2051 non-null   object \n",
      " 11  Lot Config       2051 non-null   object \n",
      " 12  Land Slope       2051 non-null   object \n",
      " 13  Neighborhood     2051 non-null   object \n",
      " 14  Condition 1      2051 non-null   object \n",
      " 15  Condition 2      2051 non-null   object \n",
      " 16  Bldg Type        2051 non-null   object \n",
      " 17  House Style      2051 non-null   object \n",
      " 18  Overall Qual     2051 non-null   int64  \n",
      " 19  Overall Cond     2051 non-null   int64  \n",
      " 20  Year Built       2051 non-null   int64  \n",
      " 21  Year Remod/Add   2051 non-null   int64  \n",
      " 22  Roof Style       2051 non-null   object \n",
      " 23  Roof Matl        2051 non-null   object \n",
      " 24  Exterior 1st     2051 non-null   object \n",
      " 25  Exterior 2nd     2051 non-null   object \n",
      " 26  Mas Vnr Type     2029 non-null   object \n",
      " 27  Mas Vnr Area     2029 non-null   float64\n",
      " 28  Exter Qual       2051 non-null   object \n",
      " 29  Exter Cond       2051 non-null   object \n",
      " 30  Foundation       2051 non-null   object \n",
      " 31  Bsmt Qual        1996 non-null   object \n",
      " 32  Bsmt Cond        1996 non-null   object \n",
      " 33  Bsmt Exposure    1993 non-null   object \n",
      " 34  BsmtFin Type 1   1996 non-null   object \n",
      " 35  BsmtFin SF 1     2050 non-null   float64\n",
      " 36  BsmtFin Type 2   1995 non-null   object \n",
      " 37  BsmtFin SF 2     2050 non-null   float64\n",
      " 38  Bsmt Unf SF      2050 non-null   float64\n",
      " 39  Total Bsmt SF    2050 non-null   float64\n",
      " 40  Heating          2051 non-null   object \n",
      " 41  Heating QC       2051 non-null   object \n",
      " 42  Central Air      2051 non-null   object \n",
      " 43  Electrical       2051 non-null   object \n",
      " 44  1st Flr SF       2051 non-null   int64  \n",
      " 45  2nd Flr SF       2051 non-null   int64  \n",
      " 46  Low Qual Fin SF  2051 non-null   int64  \n",
      " 47  Gr Liv Area      2051 non-null   int64  \n",
      " 48  Bsmt Full Bath   2049 non-null   float64\n",
      " 49  Bsmt Half Bath   2049 non-null   float64\n",
      " 50  Full Bath        2051 non-null   int64  \n",
      " 51  Half Bath        2051 non-null   int64  \n",
      " 52  Bedroom AbvGr    2051 non-null   int64  \n",
      " 53  Kitchen AbvGr    2051 non-null   int64  \n",
      " 54  Kitchen Qual     2051 non-null   object \n",
      " 55  TotRms AbvGrd    2051 non-null   int64  \n",
      " 56  Functional       2051 non-null   object \n",
      " 57  Fireplaces       2051 non-null   int64  \n",
      " 58  Fireplace Qu     1051 non-null   object \n",
      " 59  Garage Type      1938 non-null   object \n",
      " 60  Garage Yr Blt    1937 non-null   float64\n",
      " 61  Garage Finish    1937 non-null   object \n",
      " 62  Garage Cars      2050 non-null   float64\n",
      " 63  Garage Area      2050 non-null   float64\n",
      " 64  Garage Qual      1937 non-null   object \n",
      " 65  Garage Cond      1937 non-null   object \n",
      " 66  Paved Drive      2051 non-null   object \n",
      " 67  Wood Deck SF     2051 non-null   int64  \n",
      " 68  Open Porch SF    2051 non-null   int64  \n",
      " 69  Enclosed Porch   2051 non-null   int64  \n",
      " 70  3Ssn Porch       2051 non-null   int64  \n",
      " 71  Screen Porch     2051 non-null   int64  \n",
      " 72  Pool Area        2051 non-null   int64  \n",
      " 73  Pool QC          9 non-null      object \n",
      " 74  Fence            400 non-null    object \n",
      " 75  Misc Feature     65 non-null     object \n",
      " 76  Misc Val         2051 non-null   int64  \n",
      " 77  Mo Sold          2051 non-null   int64  \n",
      " 78  Yr Sold          2051 non-null   int64  \n",
      " 79  Sale Type        2051 non-null   object \n",
      " 80  SalePrice        2051 non-null   int64  \n",
      "dtypes: float64(11), int64(28), object(42)\n",
      "memory usage: 1.3+ MB\n"
     ]
    }
   ],
   "source": [
    "# Training data info\n",
    "train_df.info()"
   ]
  },
  {
   "cell_type": "code",
   "execution_count": 4,
   "id": "58d7024b",
   "metadata": {},
   "outputs": [
    {
     "data": {
      "text/plain": [
       "Index(['1st_flr_sf', '2nd_flr_sf', '3ssn_porch', 'alley', 'bedroom_abvgr',\n",
       "       'bldg_type', 'bsmt_cond', 'bsmt_exposure', 'bsmt_full_bath',\n",
       "       'bsmt_half_bath', 'bsmt_qual', 'bsmt_unf_sf', 'bsmtfin_sf_1',\n",
       "       'bsmtfin_sf_2', 'bsmtfin_type_1', 'bsmtfin_type_2', 'central_air',\n",
       "       'condition_1', 'condition_2', 'electrical', 'enclosed_porch',\n",
       "       'exter_cond', 'exter_qual', 'exterior_1st', 'exterior_2nd', 'fence',\n",
       "       'fireplace_qu', 'fireplaces', 'foundation', 'full_bath', 'functional',\n",
       "       'garage_area', 'garage_cars', 'garage_cond', 'garage_finish',\n",
       "       'garage_qual', 'garage_type', 'garage_yr_blt', 'gr_liv_area',\n",
       "       'half_bath', 'heating', 'heating_qc', 'house_style', 'id',\n",
       "       'kitchen_abvgr', 'kitchen_qual', 'land_contour', 'land_slope',\n",
       "       'lot_area', 'lot_config', 'lot_frontage', 'lot_shape',\n",
       "       'low_qual_fin_sf', 'mas_vnr_area', 'mas_vnr_type', 'misc_feature',\n",
       "       'misc_val', 'mo_sold', 'ms_subclass', 'ms_zoning', 'neighborhood',\n",
       "       'open_porch_sf', 'overall_cond', 'overall_qual', 'paved_drive', 'pid',\n",
       "       'pool_area', 'pool_qc', 'roof_matl', 'roof_style', 'sale_type',\n",
       "       'saleprice', 'screen_porch', 'street', 'total_bsmt_sf', 'totrms_abvgrd',\n",
       "       'utilities', 'wood_deck_sf', 'year_built', 'year_remod/add', 'yr_sold'],\n",
       "      dtype='object')"
      ]
     },
     "execution_count": 4,
     "metadata": {},
     "output_type": "execute_result"
    }
   ],
   "source": [
    "# Replaced spaces with _ and lowercased columns\n",
    "train_df.columns = train_df.columns.str.replace(\" \",\"_\").str.lower()\n",
    "\n",
    "# Confirmed\n",
    "train_df.columns.sort_values()"
   ]
  },
  {
   "cell_type": "code",
   "execution_count": 5,
   "id": "76e20e36",
   "metadata": {
    "scrolled": false
   },
   "outputs": [
    {
     "data": {
      "text/plain": [
       "pool_qc           2042\n",
       "misc_feature      1986\n",
       "alley             1911\n",
       "fence             1651\n",
       "fireplace_qu      1000\n",
       "lot_frontage       330\n",
       "garage_finish      114\n",
       "garage_qual        114\n",
       "garage_yr_blt      114\n",
       "garage_cond        114\n",
       "garage_type        113\n",
       "bsmt_exposure       58\n",
       "bsmtfin_type_2      56\n",
       "bsmtfin_type_1      55\n",
       "bsmt_cond           55\n",
       "bsmt_qual           55\n",
       "mas_vnr_area        22\n",
       "mas_vnr_type        22\n",
       "bsmt_half_bath       2\n",
       "bsmt_full_bath       2\n",
       "garage_area          1\n",
       "total_bsmt_sf        1\n",
       "bsmt_unf_sf          1\n",
       "bsmtfin_sf_2         1\n",
       "bsmtfin_sf_1         1\n",
       "garage_cars          1\n",
       "dtype: int64"
      ]
     },
     "execution_count": 5,
     "metadata": {},
     "output_type": "execute_result"
    }
   ],
   "source": [
    "# Columns with null entries, will review dtypes afterwards\n",
    "train_df.isnull().sum().sort_values(ascending=False).head(26)"
   ]
  },
  {
   "cell_type": "code",
   "execution_count": 6,
   "id": "0eee97c0",
   "metadata": {},
   "outputs": [
    {
     "data": {
      "text/plain": [
       "{'Ex', 'Fa', 'Gd', 'TA', nan}"
      ]
     },
     "execution_count": 6,
     "metadata": {},
     "output_type": "execute_result"
    }
   ],
   "source": [
    "# As per dictionary, the 2042 Pool QC NaN entries\n",
    "# indicates that there's no pool on that property\n",
    "set(train_df['pool_qc'])"
   ]
  },
  {
   "cell_type": "code",
   "execution_count": 7,
   "id": "3138908d",
   "metadata": {},
   "outputs": [
    {
     "data": {
      "text/plain": [
       "{'Elev', 'Gar2', 'Othr', 'Shed', 'TenC', nan}"
      ]
     },
     "execution_count": 7,
     "metadata": {},
     "output_type": "execute_result"
    }
   ],
   "source": [
    "# As per dictionary, the 1986 Misc Feature NaN entries\n",
    "# indicates that there's no other miscellaneous features \n",
    "set(train_df['misc_feature'])"
   ]
  },
  {
   "cell_type": "code",
   "execution_count": 8,
   "id": "3b551034",
   "metadata": {},
   "outputs": [
    {
     "data": {
      "text/plain": [
       "{'Grvl', 'Pave', nan}"
      ]
     },
     "execution_count": 8,
     "metadata": {},
     "output_type": "execute_result"
    }
   ],
   "source": [
    "# As per dictionary, the 1911 Alley NaN entries\n",
    "# indicates that there's no alley access\n",
    "set(train_df['alley'])"
   ]
  },
  {
   "cell_type": "markdown",
   "id": "f656b25a",
   "metadata": {},
   "source": [
    "**The same pattern of NaN = No \"feature\" continues. The NaN entries in the following columns do not represent anything and needs to be filled or removed:**\n",
    "- Lot Frontage missing  values\n",
    "- Garage Yr Blt missing values\n",
    "- Mas Vnr Type missing categories\n",
    "- Mas Vnr Area missing values (aligned with missing Mas Vnr Types)\n",
    "- Bsmt Half Bath missing values\n",
    "- Bsmt Full Bath missing values\n",
    "- Garage Area missing value\n",
    "- Total Bsmt SF missing value\n",
    "- Bsmt Unf SF missing value\n",
    "- BsmtFin SF 2 missing values\n",
    "- BsmtFin SF 1 missing values\n",
    "- Garage Cars missing values\n",
    "\n",
    "**The rest of the columns with missing values are categorical, which will be filled with 'NA' and label-encoded:**\n",
    "- Pool QC           \n",
    "- Misc Feature      \n",
    "- Alley             \n",
    "- Fence             \n",
    "- Fireplace Qu      \n",
    "- Garage Finish      \n",
    "- Garage Qual        \n",
    "- Garage Cond        \n",
    "- Garage Type        \n",
    "- Bsmt Exposure       \n",
    "- BsmtFin Type 2      \n",
    "- BsmtFin Type 1      \n",
    "- Bsmt Cond           \n",
    "- Bsmt Qual           "
   ]
  },
  {
   "cell_type": "markdown",
   "id": "3f93499a",
   "metadata": {},
   "source": [
    "***Before encoding features, we'll compare groups of similar features -- both categorical and quantitative.***"
   ]
  },
  {
   "cell_type": "markdown",
   "id": "099cfd12",
   "metadata": {},
   "source": [
    "### i. Garage features\n",
    "- garage_finish      114\n",
    "- garage_qual        114\n",
    "- garage_yr_blt      114\n",
    "- garage_cond        114\n",
    "- garage_type        113\n",
    "- garage_area          1\n",
    "- garage_cars          1"
   ]
  },
  {
   "cell_type": "code",
   "execution_count": 9,
   "id": "6453f985",
   "metadata": {},
   "outputs": [
    {
     "data": {
      "text/html": [
       "<div>\n",
       "<style scoped>\n",
       "    .dataframe tbody tr th:only-of-type {\n",
       "        vertical-align: middle;\n",
       "    }\n",
       "\n",
       "    .dataframe tbody tr th {\n",
       "        vertical-align: top;\n",
       "    }\n",
       "\n",
       "    .dataframe thead th {\n",
       "        text-align: right;\n",
       "    }\n",
       "</style>\n",
       "<table border=\"1\" class=\"dataframe\">\n",
       "  <thead>\n",
       "    <tr style=\"text-align: right;\">\n",
       "      <th></th>\n",
       "      <th>garage_type</th>\n",
       "      <th>garage_cond</th>\n",
       "      <th>garage_qual</th>\n",
       "      <th>garage_yr_blt</th>\n",
       "      <th>garage_cars</th>\n",
       "      <th>garage_area</th>\n",
       "    </tr>\n",
       "  </thead>\n",
       "  <tbody>\n",
       "    <tr>\n",
       "      <th>28</th>\n",
       "      <td>NaN</td>\n",
       "      <td>NaN</td>\n",
       "      <td>NaN</td>\n",
       "      <td>NaN</td>\n",
       "      <td>0.0</td>\n",
       "      <td>0.0</td>\n",
       "    </tr>\n",
       "    <tr>\n",
       "      <th>53</th>\n",
       "      <td>NaN</td>\n",
       "      <td>NaN</td>\n",
       "      <td>NaN</td>\n",
       "      <td>NaN</td>\n",
       "      <td>0.0</td>\n",
       "      <td>0.0</td>\n",
       "    </tr>\n",
       "    <tr>\n",
       "      <th>65</th>\n",
       "      <td>NaN</td>\n",
       "      <td>NaN</td>\n",
       "      <td>NaN</td>\n",
       "      <td>NaN</td>\n",
       "      <td>0.0</td>\n",
       "      <td>0.0</td>\n",
       "    </tr>\n",
       "    <tr>\n",
       "      <th>79</th>\n",
       "      <td>NaN</td>\n",
       "      <td>NaN</td>\n",
       "      <td>NaN</td>\n",
       "      <td>NaN</td>\n",
       "      <td>0.0</td>\n",
       "      <td>0.0</td>\n",
       "    </tr>\n",
       "    <tr>\n",
       "      <th>101</th>\n",
       "      <td>NaN</td>\n",
       "      <td>NaN</td>\n",
       "      <td>NaN</td>\n",
       "      <td>NaN</td>\n",
       "      <td>0.0</td>\n",
       "      <td>0.0</td>\n",
       "    </tr>\n",
       "    <tr>\n",
       "      <th>...</th>\n",
       "      <td>...</td>\n",
       "      <td>...</td>\n",
       "      <td>...</td>\n",
       "      <td>...</td>\n",
       "      <td>...</td>\n",
       "      <td>...</td>\n",
       "    </tr>\n",
       "    <tr>\n",
       "      <th>1991</th>\n",
       "      <td>NaN</td>\n",
       "      <td>NaN</td>\n",
       "      <td>NaN</td>\n",
       "      <td>NaN</td>\n",
       "      <td>0.0</td>\n",
       "      <td>0.0</td>\n",
       "    </tr>\n",
       "    <tr>\n",
       "      <th>2010</th>\n",
       "      <td>NaN</td>\n",
       "      <td>NaN</td>\n",
       "      <td>NaN</td>\n",
       "      <td>NaN</td>\n",
       "      <td>0.0</td>\n",
       "      <td>0.0</td>\n",
       "    </tr>\n",
       "    <tr>\n",
       "      <th>2027</th>\n",
       "      <td>NaN</td>\n",
       "      <td>NaN</td>\n",
       "      <td>NaN</td>\n",
       "      <td>NaN</td>\n",
       "      <td>0.0</td>\n",
       "      <td>0.0</td>\n",
       "    </tr>\n",
       "    <tr>\n",
       "      <th>2039</th>\n",
       "      <td>NaN</td>\n",
       "      <td>NaN</td>\n",
       "      <td>NaN</td>\n",
       "      <td>NaN</td>\n",
       "      <td>0.0</td>\n",
       "      <td>0.0</td>\n",
       "    </tr>\n",
       "    <tr>\n",
       "      <th>2042</th>\n",
       "      <td>NaN</td>\n",
       "      <td>NaN</td>\n",
       "      <td>NaN</td>\n",
       "      <td>NaN</td>\n",
       "      <td>0.0</td>\n",
       "      <td>0.0</td>\n",
       "    </tr>\n",
       "  </tbody>\n",
       "</table>\n",
       "<p>113 rows × 6 columns</p>\n",
       "</div>"
      ],
      "text/plain": [
       "     garage_type garage_cond garage_qual  garage_yr_blt  garage_cars  \\\n",
       "28           NaN         NaN         NaN            NaN          0.0   \n",
       "53           NaN         NaN         NaN            NaN          0.0   \n",
       "65           NaN         NaN         NaN            NaN          0.0   \n",
       "79           NaN         NaN         NaN            NaN          0.0   \n",
       "101          NaN         NaN         NaN            NaN          0.0   \n",
       "...          ...         ...         ...            ...          ...   \n",
       "1991         NaN         NaN         NaN            NaN          0.0   \n",
       "2010         NaN         NaN         NaN            NaN          0.0   \n",
       "2027         NaN         NaN         NaN            NaN          0.0   \n",
       "2039         NaN         NaN         NaN            NaN          0.0   \n",
       "2042         NaN         NaN         NaN            NaN          0.0   \n",
       "\n",
       "      garage_area  \n",
       "28            0.0  \n",
       "53            0.0  \n",
       "65            0.0  \n",
       "79            0.0  \n",
       "101           0.0  \n",
       "...           ...  \n",
       "1991          0.0  \n",
       "2010          0.0  \n",
       "2027          0.0  \n",
       "2039          0.0  \n",
       "2042          0.0  \n",
       "\n",
       "[113 rows x 6 columns]"
      ]
     },
     "execution_count": 9,
     "metadata": {},
     "output_type": "execute_result"
    }
   ],
   "source": [
    "# Comparing all garage_yr_blt (114 null) vs. garage_type (113 null)\n",
    "# it makes sense that the 113 homes with no garages built\n",
    "# would have no quality, condition, and year built \n",
    "train_df.loc[train_df['garage_yr_blt'].isna() & train_df['garage_type'].isna(),\n",
    "              ['garage_type','garage_cond','garage_qual','garage_yr_blt',\n",
    "               'garage_cars', 'garage_area']]\n",
    "\n",
    "## This means that garage_type with 113 NaNs has an invalid type\n",
    "## garage_yr_blt was not the one with missing values as mentioned in earlier findings"
   ]
  },
  {
   "cell_type": "code",
   "execution_count": 10,
   "id": "cc97085c",
   "metadata": {
    "scrolled": true
   },
   "outputs": [
    {
     "data": {
      "text/html": [
       "<div>\n",
       "<style scoped>\n",
       "    .dataframe tbody tr th:only-of-type {\n",
       "        vertical-align: middle;\n",
       "    }\n",
       "\n",
       "    .dataframe tbody tr th {\n",
       "        vertical-align: top;\n",
       "    }\n",
       "\n",
       "    .dataframe thead th {\n",
       "        text-align: right;\n",
       "    }\n",
       "</style>\n",
       "<table border=\"1\" class=\"dataframe\">\n",
       "  <thead>\n",
       "    <tr style=\"text-align: right;\">\n",
       "      <th></th>\n",
       "      <th>garage_type</th>\n",
       "      <th>garage_cond</th>\n",
       "      <th>garage_qual</th>\n",
       "      <th>garage_yr_blt</th>\n",
       "      <th>garage_cars</th>\n",
       "      <th>garage_area</th>\n",
       "    </tr>\n",
       "  </thead>\n",
       "  <tbody>\n",
       "    <tr>\n",
       "      <th>1712</th>\n",
       "      <td>Detchd</td>\n",
       "      <td>NaN</td>\n",
       "      <td>NaN</td>\n",
       "      <td>NaN</td>\n",
       "      <td>NaN</td>\n",
       "      <td>NaN</td>\n",
       "    </tr>\n",
       "  </tbody>\n",
       "</table>\n",
       "</div>"
      ],
      "text/plain": [
       "     garage_type garage_cond garage_qual  garage_yr_blt  garage_cars  \\\n",
       "1712      Detchd         NaN         NaN            NaN          NaN   \n",
       "\n",
       "      garage_area  \n",
       "1712          NaN  "
      ]
     },
     "execution_count": 10,
     "metadata": {},
     "output_type": "execute_result"
    }
   ],
   "source": [
    "# Confirmed that index 1712 has been assigned an invalid detached garage type\n",
    "# Also garage_area and garage_car should have values of 0.0 as above findings\n",
    "train_df.loc[train_df['garage_yr_blt'].isna() & train_df['garage_type'].notna(),\n",
    "              ['garage_type','garage_cond','garage_qual','garage_yr_blt',\n",
    "               'garage_cars', 'garage_area']]"
   ]
  },
  {
   "cell_type": "code",
   "execution_count": 11,
   "id": "886f83f1",
   "metadata": {},
   "outputs": [
    {
     "name": "stdout",
     "output_type": "stream",
     "text": [
      "nan\n",
      "0.0\n",
      "0.0\n"
     ]
    }
   ],
   "source": [
    "# Replaced garage features on index 1712 with NaN and 0.0\n",
    "train_df.loc[1712, 'garage_type'] = np.nan\n",
    "train_df.loc[1712, 'garage_cars'] = 0.0\n",
    "train_df.loc[1712, 'garage_area'] = 0.0\n",
    "\n",
    "# Confirmed\n",
    "print(train_df.loc[1712, 'garage_type'])\n",
    "print(train_df.loc[1712, 'garage_cars'])\n",
    "print(train_df.loc[1712, 'garage_cars'])"
   ]
  },
  {
   "cell_type": "code",
   "execution_count": 12,
   "id": "b07de710",
   "metadata": {},
   "outputs": [
    {
     "data": {
      "text/plain": [
       "pool_qc           2042\n",
       "misc_feature      1986\n",
       "alley             1911\n",
       "fence             1651\n",
       "fireplace_qu      1000\n",
       "lot_frontage       330\n",
       "garage_qual        114\n",
       "garage_finish      114\n",
       "garage_type        114\n",
       "garage_yr_blt      114\n",
       "garage_cond        114\n",
       "bsmt_exposure       58\n",
       "bsmtfin_type_2      56\n",
       "bsmt_cond           55\n",
       "bsmt_qual           55\n",
       "bsmtfin_type_1      55\n",
       "mas_vnr_area        22\n",
       "mas_vnr_type        22\n",
       "bsmt_half_bath       2\n",
       "bsmt_full_bath       2\n",
       "total_bsmt_sf        1\n",
       "bsmt_unf_sf          1\n",
       "bsmtfin_sf_2         1\n",
       "bsmtfin_sf_1         1\n",
       "garage_area          0\n",
       "mo_sold              0\n",
       "dtype: int64"
      ]
     },
     "execution_count": 12,
     "metadata": {},
     "output_type": "execute_result"
    }
   ],
   "source": [
    "# Null count confirmation -- all garage features aligned at 114 each\n",
    "train_df.isnull().sum().sort_values(ascending=False).head(26)"
   ]
  },
  {
   "cell_type": "markdown",
   "id": "df6bf963",
   "metadata": {},
   "source": [
    "**ALL GARAGE VARAIBLES ALIGNED AT 114 NaN (NO GARAGE HOMES)**"
   ]
  },
  {
   "cell_type": "markdown",
   "id": "87418675",
   "metadata": {},
   "source": [
    "### ii. Basement features\n",
    "<br>The categorical basement features (bsmt_exposure/bsmt_cond/bsmt_qual/bsmtfin_type_1/bsmtfin_type_2) all have different amounts of NaN entries.\n",
    "<br>Ranging from 55-58, meaning homes are misidentified as either having a basement or not having one.\n",
    "- bsmt_exposure       58\n",
    "- bsmtfin_type_2      56\n",
    "- bsmt_cond           55\n",
    "- bsmt_qual           55\n",
    "- bsmtfin_type_1      55\n",
    "- bsmt_half_bath       2\n",
    "- bsmt_full_bath       2\n",
    "- total_bsmt_sf        1\n",
    "- bsmt_unf_sf          1\n",
    "- bsmtfin_sf_2         1\n",
    "- bsmtfin_sf_1         1"
   ]
  },
  {
   "cell_type": "code",
   "execution_count": 13,
   "id": "4ba447a5",
   "metadata": {},
   "outputs": [
    {
     "data": {
      "text/html": [
       "<div>\n",
       "<style scoped>\n",
       "    .dataframe tbody tr th:only-of-type {\n",
       "        vertical-align: middle;\n",
       "    }\n",
       "\n",
       "    .dataframe tbody tr th {\n",
       "        vertical-align: top;\n",
       "    }\n",
       "\n",
       "    .dataframe thead th {\n",
       "        text-align: right;\n",
       "    }\n",
       "</style>\n",
       "<table border=\"1\" class=\"dataframe\">\n",
       "  <thead>\n",
       "    <tr style=\"text-align: right;\">\n",
       "      <th></th>\n",
       "      <th>bsmt_exposure</th>\n",
       "      <th>bsmt_cond</th>\n",
       "      <th>bsmt_qual</th>\n",
       "      <th>bsmtfin_type_1</th>\n",
       "      <th>bsmtfin_type_2</th>\n",
       "      <th>bsmt_full_bath</th>\n",
       "      <th>bsmt_half_bath</th>\n",
       "      <th>bsmt_unf_sf</th>\n",
       "      <th>bsmtfin_sf_1</th>\n",
       "      <th>bsmtfin_sf_2</th>\n",
       "      <th>total_bsmt_sf</th>\n",
       "    </tr>\n",
       "  </thead>\n",
       "  <tbody>\n",
       "    <tr>\n",
       "      <th>12</th>\n",
       "      <td>NaN</td>\n",
       "      <td>NaN</td>\n",
       "      <td>NaN</td>\n",
       "      <td>NaN</td>\n",
       "      <td>NaN</td>\n",
       "      <td>0.0</td>\n",
       "      <td>0.0</td>\n",
       "      <td>0.0</td>\n",
       "      <td>0.0</td>\n",
       "      <td>0.0</td>\n",
       "      <td>0.0</td>\n",
       "    </tr>\n",
       "    <tr>\n",
       "      <th>93</th>\n",
       "      <td>NaN</td>\n",
       "      <td>NaN</td>\n",
       "      <td>NaN</td>\n",
       "      <td>NaN</td>\n",
       "      <td>NaN</td>\n",
       "      <td>0.0</td>\n",
       "      <td>0.0</td>\n",
       "      <td>0.0</td>\n",
       "      <td>0.0</td>\n",
       "      <td>0.0</td>\n",
       "      <td>0.0</td>\n",
       "    </tr>\n",
       "    <tr>\n",
       "      <th>114</th>\n",
       "      <td>NaN</td>\n",
       "      <td>NaN</td>\n",
       "      <td>NaN</td>\n",
       "      <td>NaN</td>\n",
       "      <td>NaN</td>\n",
       "      <td>0.0</td>\n",
       "      <td>0.0</td>\n",
       "      <td>0.0</td>\n",
       "      <td>0.0</td>\n",
       "      <td>0.0</td>\n",
       "      <td>0.0</td>\n",
       "    </tr>\n",
       "    <tr>\n",
       "      <th>146</th>\n",
       "      <td>NaN</td>\n",
       "      <td>NaN</td>\n",
       "      <td>NaN</td>\n",
       "      <td>NaN</td>\n",
       "      <td>NaN</td>\n",
       "      <td>0.0</td>\n",
       "      <td>0.0</td>\n",
       "      <td>0.0</td>\n",
       "      <td>0.0</td>\n",
       "      <td>0.0</td>\n",
       "      <td>0.0</td>\n",
       "    </tr>\n",
       "    <tr>\n",
       "      <th>183</th>\n",
       "      <td>NaN</td>\n",
       "      <td>NaN</td>\n",
       "      <td>NaN</td>\n",
       "      <td>NaN</td>\n",
       "      <td>NaN</td>\n",
       "      <td>0.0</td>\n",
       "      <td>0.0</td>\n",
       "      <td>0.0</td>\n",
       "      <td>0.0</td>\n",
       "      <td>0.0</td>\n",
       "      <td>0.0</td>\n",
       "    </tr>\n",
       "  </tbody>\n",
       "</table>\n",
       "</div>"
      ],
      "text/plain": [
       "    bsmt_exposure bsmt_cond bsmt_qual bsmtfin_type_1 bsmtfin_type_2  \\\n",
       "12            NaN       NaN       NaN            NaN            NaN   \n",
       "93            NaN       NaN       NaN            NaN            NaN   \n",
       "114           NaN       NaN       NaN            NaN            NaN   \n",
       "146           NaN       NaN       NaN            NaN            NaN   \n",
       "183           NaN       NaN       NaN            NaN            NaN   \n",
       "\n",
       "     bsmt_full_bath  bsmt_half_bath  bsmt_unf_sf  bsmtfin_sf_1  bsmtfin_sf_2  \\\n",
       "12              0.0             0.0          0.0           0.0           0.0   \n",
       "93              0.0             0.0          0.0           0.0           0.0   \n",
       "114             0.0             0.0          0.0           0.0           0.0   \n",
       "146             0.0             0.0          0.0           0.0           0.0   \n",
       "183             0.0             0.0          0.0           0.0           0.0   \n",
       "\n",
       "     total_bsmt_sf  \n",
       "12             0.0  \n",
       "93             0.0  \n",
       "114            0.0  \n",
       "146            0.0  \n",
       "183            0.0  "
      ]
     },
     "execution_count": 13,
     "metadata": {},
     "output_type": "execute_result"
    }
   ],
   "source": [
    "# Initial comparison on all basement features\n",
    "train_df.loc[train_df['bsmt_exposure'].isna() & train_df['bsmtfin_type_1'].isna()\n",
    "             & train_df['bsmtfin_type_2'].isna() & train_df['bsmt_cond'].isna() \n",
    "             & train_df['bsmt_qual'].isna(),\n",
    "              ['bsmt_exposure','bsmt_cond','bsmt_qual','bsmtfin_type_1', 'bsmtfin_type_2',\n",
    "                'bsmt_full_bath','bsmt_half_bath','bsmt_unf_sf', 'bsmtfin_sf_1',\n",
    "               'bsmtfin_sf_2', 'total_bsmt_sf']].head()"
   ]
  },
  {
   "cell_type": "code",
   "execution_count": 14,
   "id": "1f0b5257",
   "metadata": {},
   "outputs": [
    {
     "data": {
      "text/plain": [
       "(55, 11)"
      ]
     },
     "execution_count": 14,
     "metadata": {},
     "output_type": "execute_result"
    }
   ],
   "source": [
    "# Confirmed 55 rows of NaN - equivalent to the lowest null-count basement features\n",
    "# bsmt_cond/bsmt_qual/bsmtfin_type_1\n",
    "train_df.loc[train_df['bsmt_exposure'].isna() & train_df['bsmtfin_type_1'].isna()\n",
    "             & train_df['bsmtfin_type_2'].isna() & train_df['bsmt_cond'].isna() \n",
    "             & train_df['bsmt_qual'].isna(),\n",
    "              ['bsmt_exposure','bsmt_cond','bsmt_qual','bsmtfin_type_1', 'bsmtfin_type_2',\n",
    "                'bsmt_full_bath','bsmt_half_bath','bsmt_unf_sf', 'bsmtfin_sf_1',\n",
    "               'bsmtfin_sf_2', 'total_bsmt_sf']].shape"
   ]
  },
  {
   "cell_type": "markdown",
   "id": "630fd1f1",
   "metadata": {},
   "source": [
    "**Amongst the 55 no-basement homes, all categorical basement features are aligned when one of them is NaN and the quantitative basement features have values of 0.0.\n",
    "<br> bsmt_cond will be used as the base commparison when reviewing the following mis-aligned basement features:**\n",
    "- Bsmt Exposure       58\n",
    "- BsmtFin Type 2      56\n",
    "- Bsmt Half Bath       2\n",
    "- Bsmt Full Bath       2\n",
    "- Bsmt Unf SF          1\n",
    "- BsmtFin SF 2         1\n",
    "- BsmtFin SF 1         1\n",
    "- Total Bsmt SF        1 "
   ]
  },
  {
   "cell_type": "markdown",
   "id": "f7b2b92c",
   "metadata": {},
   "source": [
    "**bsmt_exposure: 58 null count**"
   ]
  },
  {
   "cell_type": "code",
   "execution_count": 15,
   "id": "15ec9713",
   "metadata": {
    "scrolled": true
   },
   "outputs": [
    {
     "data": {
      "text/html": [
       "<div>\n",
       "<style scoped>\n",
       "    .dataframe tbody tr th:only-of-type {\n",
       "        vertical-align: middle;\n",
       "    }\n",
       "\n",
       "    .dataframe tbody tr th {\n",
       "        vertical-align: top;\n",
       "    }\n",
       "\n",
       "    .dataframe thead th {\n",
       "        text-align: right;\n",
       "    }\n",
       "</style>\n",
       "<table border=\"1\" class=\"dataframe\">\n",
       "  <thead>\n",
       "    <tr style=\"text-align: right;\">\n",
       "      <th></th>\n",
       "      <th>bsmt_exposure</th>\n",
       "      <th>bsmt_cond</th>\n",
       "      <th>bsmt_qual</th>\n",
       "      <th>bsmtfin_type_1</th>\n",
       "      <th>bsmtfin_type_2</th>\n",
       "      <th>bsmt_full_bath</th>\n",
       "      <th>bsmt_half_bath</th>\n",
       "      <th>bsmt_unf_sf</th>\n",
       "      <th>bsmtfin_sf_1</th>\n",
       "      <th>bsmtfin_sf_2</th>\n",
       "      <th>total_bsmt_sf</th>\n",
       "    </tr>\n",
       "  </thead>\n",
       "  <tbody>\n",
       "    <tr>\n",
       "      <th>1456</th>\n",
       "      <td>NaN</td>\n",
       "      <td>TA</td>\n",
       "      <td>Gd</td>\n",
       "      <td>Unf</td>\n",
       "      <td>Unf</td>\n",
       "      <td>0.0</td>\n",
       "      <td>0.0</td>\n",
       "      <td>725.0</td>\n",
       "      <td>0.0</td>\n",
       "      <td>0.0</td>\n",
       "      <td>725.0</td>\n",
       "    </tr>\n",
       "    <tr>\n",
       "      <th>1547</th>\n",
       "      <td>NaN</td>\n",
       "      <td>TA</td>\n",
       "      <td>Gd</td>\n",
       "      <td>Unf</td>\n",
       "      <td>Unf</td>\n",
       "      <td>0.0</td>\n",
       "      <td>0.0</td>\n",
       "      <td>1595.0</td>\n",
       "      <td>0.0</td>\n",
       "      <td>0.0</td>\n",
       "      <td>1595.0</td>\n",
       "    </tr>\n",
       "    <tr>\n",
       "      <th>1997</th>\n",
       "      <td>NaN</td>\n",
       "      <td>TA</td>\n",
       "      <td>Gd</td>\n",
       "      <td>Unf</td>\n",
       "      <td>Unf</td>\n",
       "      <td>0.0</td>\n",
       "      <td>0.0</td>\n",
       "      <td>936.0</td>\n",
       "      <td>0.0</td>\n",
       "      <td>0.0</td>\n",
       "      <td>936.0</td>\n",
       "    </tr>\n",
       "  </tbody>\n",
       "</table>\n",
       "</div>"
      ],
      "text/plain": [
       "     bsmt_exposure bsmt_cond bsmt_qual bsmtfin_type_1 bsmtfin_type_2  \\\n",
       "1456           NaN        TA        Gd            Unf            Unf   \n",
       "1547           NaN        TA        Gd            Unf            Unf   \n",
       "1997           NaN        TA        Gd            Unf            Unf   \n",
       "\n",
       "      bsmt_full_bath  bsmt_half_bath  bsmt_unf_sf  bsmtfin_sf_1  bsmtfin_sf_2  \\\n",
       "1456             0.0             0.0        725.0           0.0           0.0   \n",
       "1547             0.0             0.0       1595.0           0.0           0.0   \n",
       "1997             0.0             0.0        936.0           0.0           0.0   \n",
       "\n",
       "      total_bsmt_sf  \n",
       "1456          725.0  \n",
       "1547         1595.0  \n",
       "1997          936.0  "
      ]
     },
     "execution_count": 15,
     "metadata": {},
     "output_type": "execute_result"
    }
   ],
   "source": [
    "# 3 extra NaN entries in bsmt_exposure\n",
    "# They all have common bsmt_cond and bsmt_qual\n",
    "train_df.loc[train_df['bsmt_exposure'].isna() & train_df['bsmt_cond'].notna() ,\n",
    "              ['bsmt_exposure','bsmt_cond','bsmt_qual','bsmtfin_type_1', 'bsmtfin_type_2',\n",
    "                'bsmt_full_bath','bsmt_half_bath','bsmt_unf_sf', 'bsmtfin_sf_1',\n",
    "               'bsmtfin_sf_2', 'total_bsmt_sf']]"
   ]
  },
  {
   "cell_type": "code",
   "execution_count": 16,
   "id": "7b06f3b8",
   "metadata": {},
   "outputs": [
    {
     "data": {
      "text/plain": [
       "bsmt_exposure\n",
       "No    1229\n",
       "Av     272\n",
       "Gd     182\n",
       "Mn     148\n",
       "dtype: int64"
      ]
     },
     "execution_count": 16,
     "metadata": {},
     "output_type": "execute_result"
    }
   ],
   "source": [
    "# The majority of homes with typical basment conditions (TA) have no exposure\n",
    "train_df[train_df['bsmt_cond']=='TA'].value_counts('bsmt_exposure')"
   ]
  },
  {
   "cell_type": "code",
   "execution_count": 17,
   "id": "34d089b9",
   "metadata": {},
   "outputs": [
    {
     "data": {
      "text/plain": [
       "bsmt_exposure\n",
       "No    498\n",
       "Av    181\n",
       "Gd    106\n",
       "Mn     76\n",
       "dtype: int64"
      ]
     },
     "execution_count": 17,
     "metadata": {},
     "output_type": "execute_result"
    }
   ],
   "source": [
    "# Same applies to good basement quality (Gd)\n",
    "# It's safe to assume that we can replace NaN bsmt_exposure with 'No'\n",
    "train_df[train_df['bsmt_qual']=='Gd'].value_counts('bsmt_exposure')"
   ]
  },
  {
   "cell_type": "code",
   "execution_count": 18,
   "id": "639381a5",
   "metadata": {
    "scrolled": true
   },
   "outputs": [
    {
     "name": "stdout",
     "output_type": "stream",
     "text": [
      "No\n",
      "No\n",
      "No\n"
     ]
    }
   ],
   "source": [
    "# Replaced index 1456, 1547, 1997 bsmt_exposure NaN entries with 'No'\n",
    "train_df.loc[1456, 'bsmt_exposure'] = 'No'\n",
    "train_df.loc[1547, 'bsmt_exposure'] = 'No'\n",
    "train_df.loc[1997, 'bsmt_exposure'] = 'No'\n",
    "\n",
    "# Confirmed\n",
    "print(train_df.loc[1456, 'bsmt_exposure'])\n",
    "print(train_df.loc[1547, 'bsmt_exposure'])\n",
    "print(train_df.loc[1997, 'bsmt_exposure'])"
   ]
  },
  {
   "cell_type": "markdown",
   "id": "407c0b47",
   "metadata": {},
   "source": [
    "**bsmtfin_type_2: 56 null count**"
   ]
  },
  {
   "cell_type": "code",
   "execution_count": 19,
   "id": "bd9ac373",
   "metadata": {},
   "outputs": [
    {
     "data": {
      "text/html": [
       "<div>\n",
       "<style scoped>\n",
       "    .dataframe tbody tr th:only-of-type {\n",
       "        vertical-align: middle;\n",
       "    }\n",
       "\n",
       "    .dataframe tbody tr th {\n",
       "        vertical-align: top;\n",
       "    }\n",
       "\n",
       "    .dataframe thead th {\n",
       "        text-align: right;\n",
       "    }\n",
       "</style>\n",
       "<table border=\"1\" class=\"dataframe\">\n",
       "  <thead>\n",
       "    <tr style=\"text-align: right;\">\n",
       "      <th></th>\n",
       "      <th>bsmt_exposure</th>\n",
       "      <th>bsmt_cond</th>\n",
       "      <th>bsmt_qual</th>\n",
       "      <th>bsmtfin_type_1</th>\n",
       "      <th>bsmtfin_type_2</th>\n",
       "      <th>bsmt_full_bath</th>\n",
       "      <th>bsmt_half_bath</th>\n",
       "      <th>bsmt_unf_sf</th>\n",
       "      <th>bsmtfin_sf_1</th>\n",
       "      <th>bsmtfin_sf_2</th>\n",
       "      <th>total_bsmt_sf</th>\n",
       "    </tr>\n",
       "  </thead>\n",
       "  <tbody>\n",
       "    <tr>\n",
       "      <th>1147</th>\n",
       "      <td>No</td>\n",
       "      <td>TA</td>\n",
       "      <td>Gd</td>\n",
       "      <td>GLQ</td>\n",
       "      <td>NaN</td>\n",
       "      <td>1.0</td>\n",
       "      <td>0.0</td>\n",
       "      <td>1603.0</td>\n",
       "      <td>1124.0</td>\n",
       "      <td>479.0</td>\n",
       "      <td>3206.0</td>\n",
       "    </tr>\n",
       "  </tbody>\n",
       "</table>\n",
       "</div>"
      ],
      "text/plain": [
       "     bsmt_exposure bsmt_cond bsmt_qual bsmtfin_type_1 bsmtfin_type_2  \\\n",
       "1147            No        TA        Gd            GLQ            NaN   \n",
       "\n",
       "      bsmt_full_bath  bsmt_half_bath  bsmt_unf_sf  bsmtfin_sf_1  bsmtfin_sf_2  \\\n",
       "1147             1.0             0.0       1603.0        1124.0         479.0   \n",
       "\n",
       "      total_bsmt_sf  \n",
       "1147         3206.0  "
      ]
     },
     "execution_count": 19,
     "metadata": {},
     "output_type": "execute_result"
    }
   ],
   "source": [
    "# 1 extra NaN entry in bsmtfin_type_2\n",
    "train_df.loc[train_df['bsmtfin_type_2'].isna() & train_df['bsmt_cond'].notna() ,\n",
    "              ['bsmt_exposure','bsmt_cond','bsmt_qual','bsmtfin_type_1', 'bsmtfin_type_2',\n",
    "                'bsmt_full_bath','bsmt_half_bath','bsmt_unf_sf', 'bsmtfin_sf_1',\n",
    "               'bsmtfin_sf_2', 'total_bsmt_sf']]\n",
    "\n",
    "## We'll take a look at the common category for bsmtfin_type_2\n",
    "## When bsmtfin_type_1 = GLQ and bsmt_unf_sf > 1500"
   ]
  },
  {
   "cell_type": "code",
   "execution_count": 20,
   "id": "f874a513",
   "metadata": {},
   "outputs": [
    {
     "data": {
      "text/plain": [
       "bsmtfin_type_2\n",
       "Unf    569\n",
       "Rec     17\n",
       "ALQ     11\n",
       "LwQ     11\n",
       "BLQ      6\n",
       "dtype: int64"
      ]
     },
     "execution_count": 20,
     "metadata": {},
     "output_type": "execute_result"
    }
   ],
   "source": [
    "# When bsmtfin_type_1 = GLQ (good living quarters)\n",
    "# The most common bsmtfin_type_2 is 'Unf' (unfinished)\n",
    "train_df[train_df['bsmtfin_type_1']=='GLQ'].value_counts('bsmtfin_type_2')"
   ]
  },
  {
   "cell_type": "code",
   "execution_count": 21,
   "id": "7efc56da",
   "metadata": {},
   "outputs": [
    {
     "data": {
      "text/plain": [
       "bsmtfin_type_2\n",
       "Unf    95\n",
       "dtype: int64"
      ]
     },
     "execution_count": 21,
     "metadata": {},
     "output_type": "execute_result"
    }
   ],
   "source": [
    "# All homes with over 1500 square feet unfinished basements\n",
    "# have unfinished bsmtfin_type_2 (Unf)\n",
    "train_df[train_df['bsmt_unf_sf']>1500].value_counts('bsmtfin_type_2')"
   ]
  },
  {
   "cell_type": "code",
   "execution_count": 22,
   "id": "bc85b06e",
   "metadata": {},
   "outputs": [
    {
     "name": "stdout",
     "output_type": "stream",
     "text": [
      "Unf\n"
     ]
    }
   ],
   "source": [
    "# Based on the above findings, we can conclude that the\n",
    "# single NaN bsmtfin_type_2 entry is \"Unf\" \n",
    "\n",
    "# Replaced index 1147 bsmtfin_type_2 \"Nan\" with \"Unf\"\n",
    "train_df.loc[1147, 'bsmtfin_type_2'] = 'Unf'\n",
    "\n",
    "# Confirmed\n",
    "print(train_df.loc[1147, 'bsmtfin_type_2'])"
   ]
  },
  {
   "cell_type": "markdown",
   "id": "0adeb2ff",
   "metadata": {},
   "source": [
    "**Remaining 6 quantitative features:**\n",
    "- bsmt_full_bath: 2 null count\n",
    "- bsmt_half_bath: 2 null count\n",
    "- bsmt_unf_sf: 1 null count\n",
    "- bsmtfin_sf_1: 1 null count\n",
    "- bsmtfin_sf_2: 1 null count\n",
    "- total_bsmt_sf: 1 null count"
   ]
  },
  {
   "cell_type": "code",
   "execution_count": 23,
   "id": "5e901a52",
   "metadata": {},
   "outputs": [
    {
     "data": {
      "text/html": [
       "<div>\n",
       "<style scoped>\n",
       "    .dataframe tbody tr th:only-of-type {\n",
       "        vertical-align: middle;\n",
       "    }\n",
       "\n",
       "    .dataframe tbody tr th {\n",
       "        vertical-align: top;\n",
       "    }\n",
       "\n",
       "    .dataframe thead th {\n",
       "        text-align: right;\n",
       "    }\n",
       "</style>\n",
       "<table border=\"1\" class=\"dataframe\">\n",
       "  <thead>\n",
       "    <tr style=\"text-align: right;\">\n",
       "      <th></th>\n",
       "      <th>bsmt_exposure</th>\n",
       "      <th>bsmt_cond</th>\n",
       "      <th>bsmt_qual</th>\n",
       "      <th>bsmtfin_type_1</th>\n",
       "      <th>bsmtfin_type_2</th>\n",
       "      <th>bsmt_full_bath</th>\n",
       "      <th>bsmt_half_bath</th>\n",
       "      <th>bsmt_unf_sf</th>\n",
       "      <th>bsmtfin_sf_1</th>\n",
       "      <th>bsmtfin_sf_2</th>\n",
       "      <th>total_bsmt_sf</th>\n",
       "    </tr>\n",
       "  </thead>\n",
       "  <tbody>\n",
       "    <tr>\n",
       "      <th>616</th>\n",
       "      <td>NaN</td>\n",
       "      <td>NaN</td>\n",
       "      <td>NaN</td>\n",
       "      <td>NaN</td>\n",
       "      <td>NaN</td>\n",
       "      <td>NaN</td>\n",
       "      <td>NaN</td>\n",
       "      <td>0.0</td>\n",
       "      <td>0.0</td>\n",
       "      <td>0.0</td>\n",
       "      <td>0.0</td>\n",
       "    </tr>\n",
       "    <tr>\n",
       "      <th>1327</th>\n",
       "      <td>NaN</td>\n",
       "      <td>NaN</td>\n",
       "      <td>NaN</td>\n",
       "      <td>NaN</td>\n",
       "      <td>NaN</td>\n",
       "      <td>NaN</td>\n",
       "      <td>NaN</td>\n",
       "      <td>NaN</td>\n",
       "      <td>NaN</td>\n",
       "      <td>NaN</td>\n",
       "      <td>NaN</td>\n",
       "    </tr>\n",
       "  </tbody>\n",
       "</table>\n",
       "</div>"
      ],
      "text/plain": [
       "     bsmt_exposure bsmt_cond bsmt_qual bsmtfin_type_1 bsmtfin_type_2  \\\n",
       "616            NaN       NaN       NaN            NaN            NaN   \n",
       "1327           NaN       NaN       NaN            NaN            NaN   \n",
       "\n",
       "      bsmt_full_bath  bsmt_half_bath  bsmt_unf_sf  bsmtfin_sf_1  bsmtfin_sf_2  \\\n",
       "616              NaN             NaN          0.0           0.0           0.0   \n",
       "1327             NaN             NaN          NaN           NaN           NaN   \n",
       "\n",
       "      total_bsmt_sf  \n",
       "616             0.0  \n",
       "1327            NaN  "
      ]
     },
     "execution_count": 23,
     "metadata": {},
     "output_type": "execute_result"
    }
   ],
   "source": [
    "# All 8 remaining NaN entries discovered upon filtering bsmt_half_bath = NaN\n",
    "train_df.loc[train_df['bsmt_half_bath'].isna(),\n",
    "              ['bsmt_exposure','bsmt_cond','bsmt_qual','bsmtfin_type_1', 'bsmtfin_type_2',\n",
    "                'bsmt_full_bath','bsmt_half_bath','bsmt_unf_sf', 'bsmtfin_sf_1',\n",
    "               'bsmtfin_sf_2', 'total_bsmt_sf']]"
   ]
  },
  {
   "cell_type": "code",
   "execution_count": 24,
   "id": "c4392067",
   "metadata": {},
   "outputs": [
    {
     "name": "stdout",
     "output_type": "stream",
     "text": [
      "bsmt_full_bath    0.0\n",
      "bsmt_half_bath    0.0\n",
      "Name: 616, dtype: object\n",
      "bsmt_full_bath    0.0\n",
      "bsmt_half_bath    0.0\n",
      "bsmt_unf_sf       0.0\n",
      "bsmtfin_sf_1      0.0\n",
      "bsmtfin_sf_2      0.0\n",
      "total_bsmt_sf     0.0\n",
      "Name: 1327, dtype: object\n"
     ]
    }
   ],
   "source": [
    "# As per initial observation, if all categorical basement features are NaN\n",
    "# then all quantitative basement features are 0.0\n",
    "\n",
    "# Replaced\n",
    "train_df.loc[616, ['bsmt_full_bath','bsmt_half_bath']] = 0\n",
    "train_df.loc[1327, ['bsmt_full_bath','bsmt_half_bath',\n",
    "                    'bsmt_unf_sf','bsmtfin_sf_1', 'bsmtfin_sf_2',\n",
    "                    'total_bsmt_sf']] = 0\n",
    "             \n",
    "# Confirmed\n",
    "print(train_df.loc[616, ['bsmt_full_bath','bsmt_half_bath']])\n",
    "print(train_df.loc[1327, ['bsmt_full_bath','bsmt_half_bath',\n",
    "                    'bsmt_unf_sf','bsmtfin_sf_1', 'bsmtfin_sf_2',\n",
    "                    'total_bsmt_sf']])"
   ]
  },
  {
   "cell_type": "code",
   "execution_count": 25,
   "id": "d77531ca",
   "metadata": {},
   "outputs": [
    {
     "data": {
      "text/plain": [
       "pool_qc           2042\n",
       "misc_feature      1986\n",
       "alley             1911\n",
       "fence             1651\n",
       "fireplace_qu      1000\n",
       "lot_frontage       330\n",
       "garage_finish      114\n",
       "garage_type        114\n",
       "garage_yr_blt      114\n",
       "garage_qual        114\n",
       "garage_cond        114\n",
       "bsmtfin_type_1      55\n",
       "bsmt_qual           55\n",
       "bsmt_cond           55\n",
       "bsmt_exposure       55\n",
       "bsmtfin_type_2      55\n",
       "mas_vnr_type        22\n",
       "mas_vnr_area        22\n",
       "kitchen_qual         0\n",
       "dtype: int64"
      ]
     },
     "execution_count": 25,
     "metadata": {},
     "output_type": "execute_result"
    }
   ],
   "source": [
    "# Null count confirmation - all basement features aligned at 55 each\n",
    "train_df.isnull().sum().sort_values(ascending=False).head(19)"
   ]
  },
  {
   "cell_type": "markdown",
   "id": "2d73e559",
   "metadata": {},
   "source": [
    "**ALL BASEMENT features ALIGNED AT 55 NaN (NO BASEMENT HOMES)**"
   ]
  },
  {
   "cell_type": "markdown",
   "id": "faaa235a",
   "metadata": {},
   "source": [
    "### iii. Masonry veneer features:\n",
    "- mas_vnr_type        22\n",
    "- mas_vnr_area        22"
   ]
  },
  {
   "cell_type": "code",
   "execution_count": 26,
   "id": "267b6f87",
   "metadata": {},
   "outputs": [
    {
     "data": {
      "text/plain": [
       "(22, 81)"
      ]
     },
     "execution_count": 26,
     "metadata": {},
     "output_type": "execute_result"
    }
   ],
   "source": [
    "# All 22 NaN in both masonry features exist on the same 22 rows\n",
    "# Can't observe other homes where only 1 of the 2 features are NaN for comparison\n",
    "train_df.loc[train_df['mas_vnr_type'].isna() & train_df['mas_vnr_area'].isna(), :].shape"
   ]
  },
  {
   "cell_type": "code",
   "execution_count": 27,
   "id": "a291042a",
   "metadata": {},
   "outputs": [
    {
     "data": {
      "text/html": [
       "<div>\n",
       "<style scoped>\n",
       "    .dataframe tbody tr th:only-of-type {\n",
       "        vertical-align: middle;\n",
       "    }\n",
       "\n",
       "    .dataframe tbody tr th {\n",
       "        vertical-align: top;\n",
       "    }\n",
       "\n",
       "    .dataframe thead th {\n",
       "        text-align: right;\n",
       "    }\n",
       "</style>\n",
       "<table border=\"1\" class=\"dataframe\">\n",
       "  <thead>\n",
       "    <tr style=\"text-align: right;\">\n",
       "      <th></th>\n",
       "      <th>exter_cond</th>\n",
       "      <th>exter_qual</th>\n",
       "      <th>exterior_1st</th>\n",
       "      <th>exterior_2nd</th>\n",
       "      <th>foundation</th>\n",
       "      <th>mas_vnr_type</th>\n",
       "      <th>mas_vnr_area</th>\n",
       "    </tr>\n",
       "  </thead>\n",
       "  <tbody>\n",
       "    <tr>\n",
       "      <th>22</th>\n",
       "      <td>TA</td>\n",
       "      <td>Gd</td>\n",
       "      <td>CemntBd</td>\n",
       "      <td>CmentBd</td>\n",
       "      <td>PConc</td>\n",
       "      <td>NaN</td>\n",
       "      <td>NaN</td>\n",
       "    </tr>\n",
       "    <tr>\n",
       "      <th>41</th>\n",
       "      <td>TA</td>\n",
       "      <td>Ex</td>\n",
       "      <td>VinylSd</td>\n",
       "      <td>VinylSd</td>\n",
       "      <td>PConc</td>\n",
       "      <td>NaN</td>\n",
       "      <td>NaN</td>\n",
       "    </tr>\n",
       "    <tr>\n",
       "      <th>86</th>\n",
       "      <td>TA</td>\n",
       "      <td>Gd</td>\n",
       "      <td>VinylSd</td>\n",
       "      <td>VinylSd</td>\n",
       "      <td>PConc</td>\n",
       "      <td>NaN</td>\n",
       "      <td>NaN</td>\n",
       "    </tr>\n",
       "    <tr>\n",
       "      <th>212</th>\n",
       "      <td>TA</td>\n",
       "      <td>Gd</td>\n",
       "      <td>VinylSd</td>\n",
       "      <td>VinylSd</td>\n",
       "      <td>PConc</td>\n",
       "      <td>NaN</td>\n",
       "      <td>NaN</td>\n",
       "    </tr>\n",
       "    <tr>\n",
       "      <th>276</th>\n",
       "      <td>TA</td>\n",
       "      <td>TA</td>\n",
       "      <td>VinylSd</td>\n",
       "      <td>VinylSd</td>\n",
       "      <td>PConc</td>\n",
       "      <td>NaN</td>\n",
       "      <td>NaN</td>\n",
       "    </tr>\n",
       "    <tr>\n",
       "      <th>338</th>\n",
       "      <td>TA</td>\n",
       "      <td>Gd</td>\n",
       "      <td>WdShing</td>\n",
       "      <td>Wd Shng</td>\n",
       "      <td>PConc</td>\n",
       "      <td>NaN</td>\n",
       "      <td>NaN</td>\n",
       "    </tr>\n",
       "    <tr>\n",
       "      <th>431</th>\n",
       "      <td>TA</td>\n",
       "      <td>Gd</td>\n",
       "      <td>VinylSd</td>\n",
       "      <td>VinylSd</td>\n",
       "      <td>PConc</td>\n",
       "      <td>NaN</td>\n",
       "      <td>NaN</td>\n",
       "    </tr>\n",
       "    <tr>\n",
       "      <th>451</th>\n",
       "      <td>TA</td>\n",
       "      <td>Gd</td>\n",
       "      <td>VinylSd</td>\n",
       "      <td>VinylSd</td>\n",
       "      <td>PConc</td>\n",
       "      <td>NaN</td>\n",
       "      <td>NaN</td>\n",
       "    </tr>\n",
       "    <tr>\n",
       "      <th>591</th>\n",
       "      <td>TA</td>\n",
       "      <td>Gd</td>\n",
       "      <td>VinylSd</td>\n",
       "      <td>VinylSd</td>\n",
       "      <td>PConc</td>\n",
       "      <td>NaN</td>\n",
       "      <td>NaN</td>\n",
       "    </tr>\n",
       "    <tr>\n",
       "      <th>844</th>\n",
       "      <td>TA</td>\n",
       "      <td>Gd</td>\n",
       "      <td>VinylSd</td>\n",
       "      <td>VinylSd</td>\n",
       "      <td>PConc</td>\n",
       "      <td>NaN</td>\n",
       "      <td>NaN</td>\n",
       "    </tr>\n",
       "    <tr>\n",
       "      <th>913</th>\n",
       "      <td>TA</td>\n",
       "      <td>Gd</td>\n",
       "      <td>Wd Sdng</td>\n",
       "      <td>Stone</td>\n",
       "      <td>PConc</td>\n",
       "      <td>NaN</td>\n",
       "      <td>NaN</td>\n",
       "    </tr>\n",
       "    <tr>\n",
       "      <th>939</th>\n",
       "      <td>TA</td>\n",
       "      <td>Gd</td>\n",
       "      <td>CemntBd</td>\n",
       "      <td>CmentBd</td>\n",
       "      <td>PConc</td>\n",
       "      <td>NaN</td>\n",
       "      <td>NaN</td>\n",
       "    </tr>\n",
       "    <tr>\n",
       "      <th>1025</th>\n",
       "      <td>TA</td>\n",
       "      <td>Gd</td>\n",
       "      <td>VinylSd</td>\n",
       "      <td>VinylSd</td>\n",
       "      <td>PConc</td>\n",
       "      <td>NaN</td>\n",
       "      <td>NaN</td>\n",
       "    </tr>\n",
       "    <tr>\n",
       "      <th>1244</th>\n",
       "      <td>TA</td>\n",
       "      <td>Gd</td>\n",
       "      <td>VinylSd</td>\n",
       "      <td>VinylSd</td>\n",
       "      <td>PConc</td>\n",
       "      <td>NaN</td>\n",
       "      <td>NaN</td>\n",
       "    </tr>\n",
       "    <tr>\n",
       "      <th>1306</th>\n",
       "      <td>TA</td>\n",
       "      <td>Gd</td>\n",
       "      <td>VinylSd</td>\n",
       "      <td>VinylSd</td>\n",
       "      <td>PConc</td>\n",
       "      <td>NaN</td>\n",
       "      <td>NaN</td>\n",
       "    </tr>\n",
       "    <tr>\n",
       "      <th>1430</th>\n",
       "      <td>TA</td>\n",
       "      <td>Gd</td>\n",
       "      <td>VinylSd</td>\n",
       "      <td>VinylSd</td>\n",
       "      <td>PConc</td>\n",
       "      <td>NaN</td>\n",
       "      <td>NaN</td>\n",
       "    </tr>\n",
       "    <tr>\n",
       "      <th>1434</th>\n",
       "      <td>TA</td>\n",
       "      <td>Gd</td>\n",
       "      <td>CemntBd</td>\n",
       "      <td>CmentBd</td>\n",
       "      <td>PConc</td>\n",
       "      <td>NaN</td>\n",
       "      <td>NaN</td>\n",
       "    </tr>\n",
       "    <tr>\n",
       "      <th>1606</th>\n",
       "      <td>TA</td>\n",
       "      <td>Gd</td>\n",
       "      <td>VinylSd</td>\n",
       "      <td>VinylSd</td>\n",
       "      <td>PConc</td>\n",
       "      <td>NaN</td>\n",
       "      <td>NaN</td>\n",
       "    </tr>\n",
       "    <tr>\n",
       "      <th>1699</th>\n",
       "      <td>TA</td>\n",
       "      <td>Gd</td>\n",
       "      <td>VinylSd</td>\n",
       "      <td>VinylSd</td>\n",
       "      <td>PConc</td>\n",
       "      <td>NaN</td>\n",
       "      <td>NaN</td>\n",
       "    </tr>\n",
       "    <tr>\n",
       "      <th>1815</th>\n",
       "      <td>TA</td>\n",
       "      <td>Gd</td>\n",
       "      <td>VinylSd</td>\n",
       "      <td>VinylSd</td>\n",
       "      <td>PConc</td>\n",
       "      <td>NaN</td>\n",
       "      <td>NaN</td>\n",
       "    </tr>\n",
       "    <tr>\n",
       "      <th>1820</th>\n",
       "      <td>TA</td>\n",
       "      <td>Gd</td>\n",
       "      <td>VinylSd</td>\n",
       "      <td>VinylSd</td>\n",
       "      <td>CBlock</td>\n",
       "      <td>NaN</td>\n",
       "      <td>NaN</td>\n",
       "    </tr>\n",
       "    <tr>\n",
       "      <th>1941</th>\n",
       "      <td>TA</td>\n",
       "      <td>Gd</td>\n",
       "      <td>VinylSd</td>\n",
       "      <td>VinylSd</td>\n",
       "      <td>PConc</td>\n",
       "      <td>NaN</td>\n",
       "      <td>NaN</td>\n",
       "    </tr>\n",
       "  </tbody>\n",
       "</table>\n",
       "</div>"
      ],
      "text/plain": [
       "     exter_cond exter_qual exterior_1st exterior_2nd foundation mas_vnr_type  \\\n",
       "22           TA         Gd      CemntBd      CmentBd      PConc          NaN   \n",
       "41           TA         Ex      VinylSd      VinylSd      PConc          NaN   \n",
       "86           TA         Gd      VinylSd      VinylSd      PConc          NaN   \n",
       "212          TA         Gd      VinylSd      VinylSd      PConc          NaN   \n",
       "276          TA         TA      VinylSd      VinylSd      PConc          NaN   \n",
       "338          TA         Gd      WdShing      Wd Shng      PConc          NaN   \n",
       "431          TA         Gd      VinylSd      VinylSd      PConc          NaN   \n",
       "451          TA         Gd      VinylSd      VinylSd      PConc          NaN   \n",
       "591          TA         Gd      VinylSd      VinylSd      PConc          NaN   \n",
       "844          TA         Gd      VinylSd      VinylSd      PConc          NaN   \n",
       "913          TA         Gd      Wd Sdng        Stone      PConc          NaN   \n",
       "939          TA         Gd      CemntBd      CmentBd      PConc          NaN   \n",
       "1025         TA         Gd      VinylSd      VinylSd      PConc          NaN   \n",
       "1244         TA         Gd      VinylSd      VinylSd      PConc          NaN   \n",
       "1306         TA         Gd      VinylSd      VinylSd      PConc          NaN   \n",
       "1430         TA         Gd      VinylSd      VinylSd      PConc          NaN   \n",
       "1434         TA         Gd      CemntBd      CmentBd      PConc          NaN   \n",
       "1606         TA         Gd      VinylSd      VinylSd      PConc          NaN   \n",
       "1699         TA         Gd      VinylSd      VinylSd      PConc          NaN   \n",
       "1815         TA         Gd      VinylSd      VinylSd      PConc          NaN   \n",
       "1820         TA         Gd      VinylSd      VinylSd     CBlock          NaN   \n",
       "1941         TA         Gd      VinylSd      VinylSd      PConc          NaN   \n",
       "\n",
       "      mas_vnr_area  \n",
       "22             NaN  \n",
       "41             NaN  \n",
       "86             NaN  \n",
       "212            NaN  \n",
       "276            NaN  \n",
       "338            NaN  \n",
       "431            NaN  \n",
       "451            NaN  \n",
       "591            NaN  \n",
       "844            NaN  \n",
       "913            NaN  \n",
       "939            NaN  \n",
       "1025           NaN  \n",
       "1244           NaN  \n",
       "1306           NaN  \n",
       "1430           NaN  \n",
       "1434           NaN  \n",
       "1606           NaN  \n",
       "1699           NaN  \n",
       "1815           NaN  \n",
       "1820           NaN  \n",
       "1941           NaN  "
      ]
     },
     "execution_count": 27,
     "metadata": {},
     "output_type": "execute_result"
    }
   ],
   "source": [
    "# Observed other home-exterior-based columns for potential commonalities\n",
    "train_df.loc[train_df['mas_vnr_type'].isna() & train_df['mas_vnr_area'].isna(),\n",
    "             ['exter_cond','exter_qual','exterior_1st','exterior_2nd','foundation',\n",
    "             'mas_vnr_type','mas_vnr_area']]"
   ]
  },
  {
   "cell_type": "code",
   "execution_count": 28,
   "id": "ca903551",
   "metadata": {},
   "outputs": [
    {
     "data": {
      "text/plain": [
       "mas_vnr_type\n",
       "None       428\n",
       "BrkFace    343\n",
       "Stone      133\n",
       "BrkCmn       1\n",
       "dtype: int64"
      ]
     },
     "execution_count": 28,
     "metadata": {},
     "output_type": "execute_result"
    }
   ],
   "source": [
    "# (foundation = 'PConc') -- Most common is 'None'\n",
    "train_df[train_df['foundation'] == 'PConc'].value_counts('mas_vnr_type')"
   ]
  },
  {
   "cell_type": "code",
   "execution_count": 29,
   "id": "b3bb8cf1",
   "metadata": {},
   "outputs": [
    {
     "data": {
      "text/plain": [
       "mas_vnr_type\n",
       "None       338\n",
       "BrkFace    257\n",
       "Stone      110\n",
       "BrkCmn       2\n",
       "dtype: int64"
      ]
     },
     "execution_count": 29,
     "metadata": {},
     "output_type": "execute_result"
    }
   ],
   "source": [
    "# (exterior_1st = 'VinylSd') -- Most common is 'None'\n",
    "train_df[train_df['exterior_1st'] == 'VinylSd'].value_counts('mas_vnr_type')"
   ]
  },
  {
   "cell_type": "code",
   "execution_count": 30,
   "id": "98603aa5",
   "metadata": {},
   "outputs": [
    {
     "data": {
      "text/plain": [
       "mas_vnr_type\n",
       "None       296\n",
       "BrkFace    282\n",
       "Stone       98\n",
       "BrkCmn       1\n",
       "dtype: int64"
      ]
     },
     "execution_count": 30,
     "metadata": {},
     "output_type": "execute_result"
    }
   ],
   "source": [
    "# (exter_qual = 'Gd') -- Most common is 'None'\n",
    "train_df[train_df['exter_qual'] == 'Gd'].value_counts('mas_vnr_type')"
   ]
  },
  {
   "cell_type": "code",
   "execution_count": 31,
   "id": "9570f7e3",
   "metadata": {},
   "outputs": [
    {
     "data": {
      "text/plain": [
       "mas_vnr_type\n",
       "None       1012\n",
       "BrkFace     572\n",
       "Stone       162\n",
       "BrkCmn       10\n",
       "dtype: int64"
      ]
     },
     "execution_count": 31,
     "metadata": {},
     "output_type": "execute_result"
    }
   ],
   "source": [
    "# (exter_cond = 'TA') -- Most common is 'None'\n",
    "train_df[train_df['exter_cond'] == 'TA'].value_counts('mas_vnr_type')"
   ]
  },
  {
   "cell_type": "code",
   "execution_count": 32,
   "id": "c1117ea9",
   "metadata": {},
   "outputs": [
    {
     "data": {
      "text/plain": [
       "mas_vnr_area\n",
       "0.0      1213\n",
       "1.0         3\n",
       "288.0       1\n",
       "344.0       1\n",
       "dtype: int64"
      ]
     },
     "execution_count": 32,
     "metadata": {},
     "output_type": "execute_result"
    }
   ],
   "source": [
    "# Confirmed that mas_vnr_area is mainly '0.0' when mas_vnr_type = 'None'\n",
    "train_df[train_df['mas_vnr_type'] == 'None'].value_counts('mas_vnr_area')"
   ]
  },
  {
   "cell_type": "code",
   "execution_count": 33,
   "id": "f2e7f02a",
   "metadata": {
    "scrolled": true
   },
   "outputs": [
    {
     "name": "stdout",
     "output_type": "stream",
     "text": [
      "0\n",
      "0\n"
     ]
    }
   ],
   "source": [
    "# As mas_vnr_type = 'None' is the most common\n",
    "# and in order to retain potential informative information\n",
    "# mas_vnr_type & mas_vnr_area will be assigned 'None' & '0.0' respectively\n",
    "\n",
    "# Replaced\n",
    "train_df['mas_vnr_type'].fillna('None', inplace=True)\n",
    "train_df['mas_vnr_area'].fillna(0.0, inplace=True)\n",
    "\n",
    "# Confirmed\n",
    "print(train_df['mas_vnr_type'].isnull().sum())\n",
    "print(train_df['mas_vnr_area'].isnull().sum())"
   ]
  },
  {
   "cell_type": "code",
   "execution_count": 34,
   "id": "88867ccf",
   "metadata": {},
   "outputs": [
    {
     "data": {
      "text/plain": [
       "pool_qc           2042\n",
       "misc_feature      1986\n",
       "alley             1911\n",
       "fence             1651\n",
       "fireplace_qu      1000\n",
       "lot_frontage       330\n",
       "garage_finish      114\n",
       "garage_type        114\n",
       "garage_yr_blt      114\n",
       "garage_qual        114\n",
       "garage_cond        114\n",
       "bsmtfin_type_1      55\n",
       "bsmt_qual           55\n",
       "bsmt_cond           55\n",
       "bsmt_exposure       55\n",
       "bsmtfin_type_2      55\n",
       "bedroom_abvgr        0\n",
       "dtype: int64"
      ]
     },
     "execution_count": 34,
     "metadata": {},
     "output_type": "execute_result"
    }
   ],
   "source": [
    "# Null count confirmation -- masonry features no longer have null counts\n",
    "train_df.isnull().sum().sort_values(ascending=False).head(17)"
   ]
  },
  {
   "cell_type": "markdown",
   "id": "5c9b6bd9",
   "metadata": {},
   "source": [
    "**MASONRY FEATURES NOW HAVE A NULL COUNT OF 0 AS THEY'VE BEEN ASSIGNED 'NONE' AND '0.0' FOR THE PURPOSE OF RETAINING THE REST OF THE DATA**"
   ]
  },
  {
   "cell_type": "markdown",
   "id": "170e6f79",
   "metadata": {},
   "source": [
    "### iv. Lot frontage (last quantitative  with null counts)\n",
    "\n",
    "<u>*4 options:*</u>\n",
    "1. Filling all NaN with the most common lot frontage observed\n",
    "2. Filling NaN with the average lot frontage per neighborhood\n",
    "3. Filling NaN with the most common lot frontage based on the building type and neighborhood\n",
    "4. Dropping all 330 rows with NaN lot frontages\n",
    "\n",
    "**The 4 options will be performed after dummification of the categorical features with valid NaN entries.\n",
    "<br>First we'll take a look at the data related to each option.**"
   ]
  },
  {
   "cell_type": "markdown",
   "id": "5ac642de",
   "metadata": {},
   "source": [
    "**OPTION 1: Most common lot frontage based on land & zoning**"
   ]
  },
  {
   "cell_type": "code",
   "execution_count": 35,
   "id": "af33bd6a",
   "metadata": {},
   "outputs": [
    {
     "data": {
      "text/html": [
       "<div>\n",
       "<style scoped>\n",
       "    .dataframe tbody tr th:only-of-type {\n",
       "        vertical-align: middle;\n",
       "    }\n",
       "\n",
       "    .dataframe tbody tr th {\n",
       "        vertical-align: top;\n",
       "    }\n",
       "\n",
       "    .dataframe thead th {\n",
       "        text-align: right;\n",
       "    }\n",
       "</style>\n",
       "<table border=\"1\" class=\"dataframe\">\n",
       "  <thead>\n",
       "    <tr style=\"text-align: right;\">\n",
       "      <th></th>\n",
       "      <th>ms_zoning</th>\n",
       "      <th>lot_area</th>\n",
       "      <th>lot_config</th>\n",
       "      <th>lot_shape</th>\n",
       "      <th>low_qual_fin_sf</th>\n",
       "      <th>neighborhood</th>\n",
       "      <th>land_contour</th>\n",
       "      <th>land_slope</th>\n",
       "    </tr>\n",
       "  </thead>\n",
       "  <tbody>\n",
       "    <tr>\n",
       "      <th>0</th>\n",
       "      <td>RL</td>\n",
       "      <td>13517</td>\n",
       "      <td>CulDSac</td>\n",
       "      <td>IR1</td>\n",
       "      <td>0</td>\n",
       "      <td>Sawyer</td>\n",
       "      <td>Lvl</td>\n",
       "      <td>Gtl</td>\n",
       "    </tr>\n",
       "    <tr>\n",
       "      <th>7</th>\n",
       "      <td>RL</td>\n",
       "      <td>12160</td>\n",
       "      <td>Inside</td>\n",
       "      <td>IR1</td>\n",
       "      <td>0</td>\n",
       "      <td>NAmes</td>\n",
       "      <td>Lvl</td>\n",
       "      <td>Gtl</td>\n",
       "    </tr>\n",
       "    <tr>\n",
       "      <th>8</th>\n",
       "      <td>RL</td>\n",
       "      <td>15783</td>\n",
       "      <td>Inside</td>\n",
       "      <td>Reg</td>\n",
       "      <td>0</td>\n",
       "      <td>OldTown</td>\n",
       "      <td>Lvl</td>\n",
       "      <td>Gtl</td>\n",
       "    </tr>\n",
       "    <tr>\n",
       "      <th>23</th>\n",
       "      <td>RL</td>\n",
       "      <td>7980</td>\n",
       "      <td>Inside</td>\n",
       "      <td>IR1</td>\n",
       "      <td>0</td>\n",
       "      <td>Gilbert</td>\n",
       "      <td>Lvl</td>\n",
       "      <td>Gtl</td>\n",
       "    </tr>\n",
       "    <tr>\n",
       "      <th>27</th>\n",
       "      <td>RL</td>\n",
       "      <td>11700</td>\n",
       "      <td>Inside</td>\n",
       "      <td>IR1</td>\n",
       "      <td>0</td>\n",
       "      <td>Crawfor</td>\n",
       "      <td>HLS</td>\n",
       "      <td>Mod</td>\n",
       "    </tr>\n",
       "    <tr>\n",
       "      <th>...</th>\n",
       "      <td>...</td>\n",
       "      <td>...</td>\n",
       "      <td>...</td>\n",
       "      <td>...</td>\n",
       "      <td>...</td>\n",
       "      <td>...</td>\n",
       "      <td>...</td>\n",
       "      <td>...</td>\n",
       "    </tr>\n",
       "    <tr>\n",
       "      <th>2016</th>\n",
       "      <td>RL</td>\n",
       "      <td>7791</td>\n",
       "      <td>Inside</td>\n",
       "      <td>IR1</td>\n",
       "      <td>0</td>\n",
       "      <td>Sawyer</td>\n",
       "      <td>Lvl</td>\n",
       "      <td>Gtl</td>\n",
       "    </tr>\n",
       "    <tr>\n",
       "      <th>2022</th>\n",
       "      <td>RL</td>\n",
       "      <td>16381</td>\n",
       "      <td>Inside</td>\n",
       "      <td>IR1</td>\n",
       "      <td>0</td>\n",
       "      <td>Crawfor</td>\n",
       "      <td>Lvl</td>\n",
       "      <td>Gtl</td>\n",
       "    </tr>\n",
       "    <tr>\n",
       "      <th>2028</th>\n",
       "      <td>RL</td>\n",
       "      <td>20781</td>\n",
       "      <td>CulDSac</td>\n",
       "      <td>IR2</td>\n",
       "      <td>0</td>\n",
       "      <td>NWAmes</td>\n",
       "      <td>Lvl</td>\n",
       "      <td>Gtl</td>\n",
       "    </tr>\n",
       "    <tr>\n",
       "      <th>2031</th>\n",
       "      <td>RL</td>\n",
       "      <td>12537</td>\n",
       "      <td>CulDSac</td>\n",
       "      <td>IR1</td>\n",
       "      <td>0</td>\n",
       "      <td>NAmes</td>\n",
       "      <td>Lvl</td>\n",
       "      <td>Gtl</td>\n",
       "    </tr>\n",
       "    <tr>\n",
       "      <th>2047</th>\n",
       "      <td>RL</td>\n",
       "      <td>12342</td>\n",
       "      <td>Inside</td>\n",
       "      <td>IR1</td>\n",
       "      <td>0</td>\n",
       "      <td>Edwards</td>\n",
       "      <td>Lvl</td>\n",
       "      <td>Gtl</td>\n",
       "    </tr>\n",
       "  </tbody>\n",
       "</table>\n",
       "<p>330 rows × 8 columns</p>\n",
       "</div>"
      ],
      "text/plain": [
       "     ms_zoning  lot_area lot_config lot_shape  low_qual_fin_sf neighborhood  \\\n",
       "0           RL     13517    CulDSac       IR1                0       Sawyer   \n",
       "7           RL     12160     Inside       IR1                0        NAmes   \n",
       "8           RL     15783     Inside       Reg                0      OldTown   \n",
       "23          RL      7980     Inside       IR1                0      Gilbert   \n",
       "27          RL     11700     Inside       IR1                0      Crawfor   \n",
       "...        ...       ...        ...       ...              ...          ...   \n",
       "2016        RL      7791     Inside       IR1                0       Sawyer   \n",
       "2022        RL     16381     Inside       IR1                0      Crawfor   \n",
       "2028        RL     20781    CulDSac       IR2                0       NWAmes   \n",
       "2031        RL     12537    CulDSac       IR1                0        NAmes   \n",
       "2047        RL     12342     Inside       IR1                0      Edwards   \n",
       "\n",
       "     land_contour land_slope  \n",
       "0             Lvl        Gtl  \n",
       "7             Lvl        Gtl  \n",
       "8             Lvl        Gtl  \n",
       "23            Lvl        Gtl  \n",
       "27            HLS        Mod  \n",
       "...           ...        ...  \n",
       "2016          Lvl        Gtl  \n",
       "2022          Lvl        Gtl  \n",
       "2028          Lvl        Gtl  \n",
       "2031          Lvl        Gtl  \n",
       "2047          Lvl        Gtl  \n",
       "\n",
       "[330 rows x 8 columns]"
      ]
     },
     "execution_count": 35,
     "metadata": {},
     "output_type": "execute_result"
    }
   ],
   "source": [
    "# Comparisons on lot-based features and neighborhood\n",
    "train_df.loc[train_df['lot_frontage'].isna(),\n",
    "             ['ms_zoning', 'lot_area', 'lot_config', 'lot_shape', 'low_qual_fin_sf',\n",
    "             'neighborhood', 'land_contour', 'land_slope']]"
   ]
  },
  {
   "cell_type": "code",
   "execution_count": 36,
   "id": "90dac3c3",
   "metadata": {},
   "outputs": [
    {
     "name": "stdout",
     "output_type": "stream",
     "text": [
      "low_qual_fin_sf\n",
      "0      326\n",
      "53       1\n",
      "140      1\n",
      "512      1\n",
      "528      1\n",
      "dtype: int64\n",
      "land_contour\n",
      "Lvl    295\n",
      "Low     19\n",
      "Bnk      9\n",
      "HLS      7\n",
      "dtype: int64\n",
      "land_slope\n",
      "Gtl    308\n",
      "Mod     16\n",
      "Sev      6\n",
      "dtype: int64\n",
      "ms_zoning\n",
      "RL    289\n",
      "RM     25\n",
      "FV     13\n",
      "RH      3\n",
      "dtype: int64\n"
     ]
    }
   ],
   "source": [
    "# In majority of (lot_frontage = 'NaN')\n",
    "# Low quality square footage is mainly '0.0' (0 sqft)\n",
    "# Land contour is mainly 'Lvl' (Near Flat/Level)\n",
    "# Land slope is mainly 'Gtl' (Gentle slope)\n",
    "# MS zoning is mainly 'RL' (Residential Low Density)\n",
    "\n",
    "print(train_df[train_df['lot_frontage'].isna()].value_counts('low_qual_fin_sf'))\n",
    "print(train_df[train_df['lot_frontage'].isna()].value_counts('land_contour'))\n",
    "print(train_df[train_df['lot_frontage'].isna()].value_counts('land_slope'))\n",
    "print(train_df[train_df['lot_frontage'].isna()].value_counts('ms_zoning'))"
   ]
  },
  {
   "cell_type": "code",
   "execution_count": 37,
   "id": "9b69168f",
   "metadata": {
    "scrolled": false
   },
   "outputs": [
    {
     "data": {
      "text/plain": [
       "lot_frontage\n",
       "60.0     171\n",
       "70.0      96\n",
       "80.0      94\n",
       "50.0      85\n",
       "65.0      71\n",
       "        ... \n",
       "122.0      1\n",
       "121.0      1\n",
       "119.0      1\n",
       "118.0      1\n",
       "116.0      1\n",
       "Length: 117, dtype: int64"
      ]
     },
     "execution_count": 37,
     "metadata": {},
     "output_type": "execute_result"
    }
   ],
   "source": [
    "# Lot frontage = 60.0 with the highest count when ('low_qual_fin_sf' == 0.0)\n",
    "train_df[train_df['low_qual_fin_sf'] == 0.0].value_counts('lot_frontage')"
   ]
  },
  {
   "cell_type": "code",
   "execution_count": 38,
   "id": "fa083a5b",
   "metadata": {},
   "outputs": [
    {
     "data": {
      "text/plain": [
       "lot_frontage\n",
       "60.0     155\n",
       "70.0      91\n",
       "80.0      89\n",
       "50.0      77\n",
       "65.0      65\n",
       "        ... \n",
       "22.0       1\n",
       "101.0      1\n",
       "25.0       1\n",
       "33.0       1\n",
       "200.0      1\n",
       "Length: 114, dtype: int64"
      ]
     },
     "execution_count": 38,
     "metadata": {},
     "output_type": "execute_result"
    }
   ],
   "source": [
    "# Lot frontage = 60.0 with the highest count when (land_contour = 'Lvl')\n",
    "train_df[train_df['land_contour'] == 'Lvl'].value_counts('lot_frontage')"
   ]
  },
  {
   "cell_type": "code",
   "execution_count": 39,
   "id": "aaf87ad0",
   "metadata": {},
   "outputs": [
    {
     "data": {
      "text/plain": [
       "lot_frontage\n",
       "60.0     172\n",
       "70.0      93\n",
       "50.0      87\n",
       "80.0      86\n",
       "75.0      68\n",
       "        ... \n",
       "115.0      1\n",
       "111.0      1\n",
       "22.0       1\n",
       "33.0       1\n",
       "313.0      1\n",
       "Length: 116, dtype: int64"
      ]
     },
     "execution_count": 39,
     "metadata": {},
     "output_type": "execute_result"
    }
   ],
   "source": [
    "# Lot frontage = 60.0 with the highest count when (land_slope = 'Gtl')\n",
    "train_df[train_df['land_slope'] == 'Gtl'].value_counts('lot_frontage')"
   ]
  },
  {
   "cell_type": "code",
   "execution_count": 40,
   "id": "d3c1ec93",
   "metadata": {},
   "outputs": [
    {
     "data": {
      "text/plain": [
       "lot_frontage\n",
       "60.0     117\n",
       "70.0      90\n",
       "80.0      90\n",
       "65.0      61\n",
       "75.0      53\n",
       "        ... \n",
       "118.0      1\n",
       "117.0      1\n",
       "116.0      1\n",
       "115.0      1\n",
       "22.0       1\n",
       "Length: 113, dtype: int64"
      ]
     },
     "execution_count": 40,
     "metadata": {},
     "output_type": "execute_result"
    }
   ],
   "source": [
    "# Lot frontage = 60.0 with the highest count when (land_slope = 'Gtl')\n",
    "train_df[train_df['ms_zoning'] == 'RL'].value_counts('lot_frontage')"
   ]
  },
  {
   "cell_type": "markdown",
   "id": "c2e86c90",
   "metadata": {},
   "source": [
    "**OBSERVATION:\n",
    "<br>The most common lot frontage is 60**"
   ]
  },
  {
   "cell_type": "markdown",
   "id": "f9249cde",
   "metadata": {},
   "source": [
    "**OPTION 2: Average lot frontage per neighborhood**"
   ]
  },
  {
   "cell_type": "code",
   "execution_count": 41,
   "id": "caee0eb6",
   "metadata": {},
   "outputs": [
    {
     "data": {
      "text/plain": [
       "neighborhood\n",
       "NAmes      45\n",
       "Sawyer     40\n",
       "Gilbert    38\n",
       "NWAmes     29\n",
       "CollgCr    26\n",
       "Mitchel    17\n",
       "Crawfor    16\n",
       "ClearCr    15\n",
       "Edwards    14\n",
       "Somerst    13\n",
       "dtype: int64"
      ]
     },
     "execution_count": 41,
     "metadata": {},
     "output_type": "execute_result"
    }
   ],
   "source": [
    "# No neighborhoods that have all or the majority of the NaN lot frontages\n",
    "train_df[train_df['lot_frontage'].isna()].value_counts('neighborhood').head(10)"
   ]
  },
  {
   "cell_type": "code",
   "execution_count": 42,
   "id": "6641c231",
   "metadata": {
    "scrolled": false
   },
   "outputs": [
    {
     "name": "stdout",
     "output_type": "stream",
     "text": [
      "Sawyer average lot frontage: 73.0\n",
      "SawyerW average lot frontage: 70.0\n",
      "NAmes average lot frontage: 75.0\n",
      "Timber average lot frontage: 79.0\n",
      "Edwards average lot frontage: 67.0\n",
      "OldTown average lot frontage: 63.0\n",
      "BrDale average lot frontage: 21.0\n",
      "CollgCr average lot frontage: 71.0\n",
      "Somerst average lot frontage: 64.0\n",
      "Mitchel average lot frontage: 75.0\n",
      "StoneBr average lot frontage: 60.0\n",
      "NridgHt average lot frontage: 86.0\n",
      "Gilbert average lot frontage: 72.0\n",
      "Crawfor average lot frontage: 69.0\n",
      "IDOTRR average lot frontage: 62.0\n",
      "NWAmes average lot frontage: 81.0\n",
      "Veenker average lot frontage: 68.0\n",
      "MeadowV average lot frontage: 27.0\n",
      "SWISU average lot frontage: 58.0\n",
      "NoRidge average lot frontage: 88.0\n",
      "ClearCr average lot frontage: 92.0\n",
      "Blmngtn average lot frontage: 47.0\n",
      "BrkSide average lot frontage: 56.0\n",
      "NPkVill average lot frontage: 28.0\n",
      "Blueste average lot frontage: 28.0\n",
      "GrnHill average lot frontage: nan\n",
      "Greens average lot frontage: 40.0\n",
      "Landmrk average lot frontage: nan\n"
     ]
    }
   ],
   "source": [
    "# Average lot sizes per neighborhood\n",
    "for n in train_df['neighborhood'].unique():\n",
    "    avg = round(train_df[train_df['neighborhood']==n]['lot_frontage'].mean(),0)\n",
    "    print(f'{n} average lot frontage: {avg}')"
   ]
  },
  {
   "cell_type": "markdown",
   "id": "4301efeb",
   "metadata": {},
   "source": [
    "**OBSERVATION:\n",
    "<br>Some neighborhoods are completely unknown, thus will have to be dropped.**"
   ]
  },
  {
   "cell_type": "markdown",
   "id": "64e8dea2",
   "metadata": {},
   "source": [
    "**OPTION 3: Most common lot frontage based on neighborhood and building type**"
   ]
  },
  {
   "cell_type": "code",
   "execution_count": 43,
   "id": "9fa032f7",
   "metadata": {},
   "outputs": [
    {
     "data": {
      "text/html": [
       "<div>\n",
       "<style scoped>\n",
       "    .dataframe tbody tr th:only-of-type {\n",
       "        vertical-align: middle;\n",
       "    }\n",
       "\n",
       "    .dataframe tbody tr th {\n",
       "        vertical-align: top;\n",
       "    }\n",
       "\n",
       "    .dataframe thead th {\n",
       "        text-align: right;\n",
       "    }\n",
       "</style>\n",
       "<table border=\"1\" class=\"dataframe\">\n",
       "  <thead>\n",
       "    <tr style=\"text-align: right;\">\n",
       "      <th></th>\n",
       "      <th>neighborhood</th>\n",
       "      <th>condition_1</th>\n",
       "      <th>condition_2</th>\n",
       "      <th>bldg_type</th>\n",
       "      <th>house_style</th>\n",
       "      <th>lot_frontage</th>\n",
       "    </tr>\n",
       "  </thead>\n",
       "  <tbody>\n",
       "    <tr>\n",
       "      <th>1813</th>\n",
       "      <td>Blmngtn</td>\n",
       "      <td>Norm</td>\n",
       "      <td>Norm</td>\n",
       "      <td>TwnhsE</td>\n",
       "      <td>1Story</td>\n",
       "      <td>NaN</td>\n",
       "    </tr>\n",
       "    <tr>\n",
       "      <th>504</th>\n",
       "      <td>Blmngtn</td>\n",
       "      <td>Norm</td>\n",
       "      <td>Norm</td>\n",
       "      <td>TwnhsE</td>\n",
       "      <td>1Story</td>\n",
       "      <td>NaN</td>\n",
       "    </tr>\n",
       "    <tr>\n",
       "      <th>511</th>\n",
       "      <td>Blmngtn</td>\n",
       "      <td>Norm</td>\n",
       "      <td>Norm</td>\n",
       "      <td>TwnhsE</td>\n",
       "      <td>1Story</td>\n",
       "      <td>NaN</td>\n",
       "    </tr>\n",
       "    <tr>\n",
       "      <th>1223</th>\n",
       "      <td>Blmngtn</td>\n",
       "      <td>Norm</td>\n",
       "      <td>Norm</td>\n",
       "      <td>TwnhsE</td>\n",
       "      <td>1Story</td>\n",
       "      <td>NaN</td>\n",
       "    </tr>\n",
       "    <tr>\n",
       "      <th>208</th>\n",
       "      <td>Blmngtn</td>\n",
       "      <td>Norm</td>\n",
       "      <td>Norm</td>\n",
       "      <td>TwnhsE</td>\n",
       "      <td>1Story</td>\n",
       "      <td>NaN</td>\n",
       "    </tr>\n",
       "    <tr>\n",
       "      <th>1311</th>\n",
       "      <td>Blmngtn</td>\n",
       "      <td>Norm</td>\n",
       "      <td>Norm</td>\n",
       "      <td>TwnhsE</td>\n",
       "      <td>1Story</td>\n",
       "      <td>NaN</td>\n",
       "    </tr>\n",
       "    <tr>\n",
       "      <th>1508</th>\n",
       "      <td>BrkSide</td>\n",
       "      <td>RRAn</td>\n",
       "      <td>Artery</td>\n",
       "      <td>1Fam</td>\n",
       "      <td>1.5Fin</td>\n",
       "      <td>NaN</td>\n",
       "    </tr>\n",
       "    <tr>\n",
       "      <th>333</th>\n",
       "      <td>BrkSide</td>\n",
       "      <td>PosN</td>\n",
       "      <td>Norm</td>\n",
       "      <td>1Fam</td>\n",
       "      <td>2.5Unf</td>\n",
       "      <td>NaN</td>\n",
       "    </tr>\n",
       "    <tr>\n",
       "      <th>547</th>\n",
       "      <td>BrkSide</td>\n",
       "      <td>Norm</td>\n",
       "      <td>Norm</td>\n",
       "      <td>1Fam</td>\n",
       "      <td>1.5Fin</td>\n",
       "      <td>NaN</td>\n",
       "    </tr>\n",
       "    <tr>\n",
       "      <th>919</th>\n",
       "      <td>BrkSide</td>\n",
       "      <td>Norm</td>\n",
       "      <td>Norm</td>\n",
       "      <td>1Fam</td>\n",
       "      <td>1Story</td>\n",
       "      <td>NaN</td>\n",
       "    </tr>\n",
       "  </tbody>\n",
       "</table>\n",
       "</div>"
      ],
      "text/plain": [
       "     neighborhood condition_1 condition_2 bldg_type house_style  lot_frontage\n",
       "1813      Blmngtn        Norm        Norm    TwnhsE      1Story           NaN\n",
       "504       Blmngtn        Norm        Norm    TwnhsE      1Story           NaN\n",
       "511       Blmngtn        Norm        Norm    TwnhsE      1Story           NaN\n",
       "1223      Blmngtn        Norm        Norm    TwnhsE      1Story           NaN\n",
       "208       Blmngtn        Norm        Norm    TwnhsE      1Story           NaN\n",
       "1311      Blmngtn        Norm        Norm    TwnhsE      1Story           NaN\n",
       "1508      BrkSide        RRAn      Artery      1Fam      1.5Fin           NaN\n",
       "333       BrkSide        PosN        Norm      1Fam      2.5Unf           NaN\n",
       "547       BrkSide        Norm        Norm      1Fam      1.5Fin           NaN\n",
       "919       BrkSide        Norm        Norm      1Fam      1Story           NaN"
      ]
     },
     "execution_count": 43,
     "metadata": {},
     "output_type": "execute_result"
    }
   ],
   "source": [
    "# Comparisons on neighborhood, proximity to main road or railroad, type of dwelling\n",
    "# and style of dwelling\n",
    "train_df.loc[train_df['lot_frontage'].isna(),\n",
    "             ['neighborhood', 'condition_1', 'condition_2', 'bldg_type',\n",
    "              'house_style','lot_frontage']].sort_values('neighborhood').head(10)"
   ]
  },
  {
   "cell_type": "markdown",
   "id": "cb3257f2",
   "metadata": {},
   "source": [
    "**The below block of comment code was used to observed the dataframes of each individual neighborhood, but has been omitted due to multi-page long output.**"
   ]
  },
  {
   "cell_type": "code",
   "execution_count": 44,
   "id": "e8a82518",
   "metadata": {
    "scrolled": true
   },
   "outputs": [],
   "source": [
    "# # Imported library for displaying multiple dataframes in one output under a loop\n",
    "# from IPython.core import display as ICD\n",
    "\n",
    "# # Displayed information based on each neighborhood\n",
    "# for n in train_df['neighborhood'].unique():\n",
    "#     print('Neighborhood:', n) # Neighborhood name\n",
    "    \n",
    "#     avg = round(train_df[train_df['neighborhood'] == n]['lot_frontage'].mean(),2)\n",
    "#     print(f'Average lot frontage: {avg}') # Average lot frontage\n",
    "    \n",
    "#     counts = train_df[train_df['neighborhood'] == n].value_counts('lot_frontage')\n",
    "#     print(f'Top 5 - {counts.head()}') # Top 5 lot frontages\n",
    "    \n",
    "#     # Information per neighborhood\n",
    "#     ICD.display(train_df.loc[train_df['lot_frontage'].notna()\n",
    "#                              & (train_df['neighborhood'] == n) ,\n",
    "#              ['neighborhood', 'condition_1', 'condition_2', 'bldg_type',\n",
    "#               'house_style','lot_frontage']].sort_values('bldg_type'))"
   ]
  },
  {
   "cell_type": "markdown",
   "id": "6ce67c16",
   "metadata": {},
   "source": [
    "**The same omittance of code applies to the dataframes for each combination of neighborhood & building types.**"
   ]
  },
  {
   "cell_type": "code",
   "execution_count": 45,
   "id": "5e79d645",
   "metadata": {
    "scrolled": true
   },
   "outputs": [
    {
     "name": "stdout",
     "output_type": "stream",
     "text": [
      "Neighborhood: Sawyer\n",
      "Building Type: 1Fam\n",
      "Counts: lot_frontage\n",
      "65.0    9\n",
      "70.0    8\n",
      "80.0    5\n",
      "88.0    4\n",
      "75.0    4\n",
      "dtype: int64\n",
      "\n",
      "Neighborhood: Sawyer\n",
      "Building Type: 2fmCon\n",
      "Counts: lot_frontage\n",
      "75.0    2\n",
      "70.0    1\n",
      "dtype: int64\n",
      "\n",
      "Neighborhood: Sawyer\n",
      "Building Type: Duplex\n",
      "Counts: lot_frontage\n",
      "72.0    2\n",
      "60.0    1\n",
      "68.0    1\n",
      "70.0    1\n",
      "dtype: int64\n",
      "\n",
      "Neighborhood: SawyerW\n",
      "Building Type: 1Fam\n",
      "Counts: lot_frontage\n",
      "63.0    8\n",
      "70.0    6\n",
      "65.0    6\n",
      "60.0    3\n",
      "80.0    3\n",
      "dtype: int64\n",
      "\n",
      "Neighborhood: SawyerW\n",
      "Building Type: TwnhsE\n",
      "Counts: lot_frontage\n",
      "50.0    5\n",
      "55.0    1\n",
      "75.0    1\n",
      "dtype: int64\n",
      "\n",
      "Neighborhood: SawyerW\n",
      "Building Type: Duplex\n",
      "Counts: lot_frontage\n",
      "64.0    6\n",
      "73.0    1\n",
      "dtype: int64\n",
      "\n",
      "Neighborhood: NAmes\n",
      "Building Type: 1Fam\n",
      "Counts: lot_frontage\n",
      "80.0    37\n",
      "70.0    36\n",
      "60.0    29\n",
      "85.0    13\n",
      "75.0    10\n",
      "dtype: int64\n",
      "\n",
      "Neighborhood: NAmes\n",
      "Building Type: TwnhsE\n",
      "Counts: lot_frontage\n",
      "26.0    3\n",
      "34.0    1\n",
      "dtype: int64\n",
      "\n",
      "Neighborhood: NAmes\n",
      "Building Type: 2fmCon\n",
      "Counts: lot_frontage\n",
      "70.0    2\n",
      "75.0    1\n",
      "80.0    1\n",
      "dtype: int64\n",
      "\n",
      "Neighborhood: NAmes\n",
      "Building Type: Duplex\n",
      "Counts: lot_frontage\n",
      "60.0    6\n",
      "70.0    5\n",
      "75.0    2\n",
      "80.0    2\n",
      "63.0    1\n",
      "dtype: int64\n",
      "\n",
      "Neighborhood: Timber\n",
      "Building Type: 1Fam\n",
      "Counts: lot_frontage\n",
      "85.0    7\n",
      "73.0    5\n",
      "88.0    3\n",
      "80.0    2\n",
      "67.0    2\n",
      "dtype: int64\n",
      "\n",
      "Neighborhood: Timber\n",
      "Building Type: TwnhsE\n",
      "Counts: lot_frontage\n",
      "42.0    1\n",
      "dtype: int64\n",
      "\n",
      "Neighborhood: Edwards\n",
      "Building Type: 1Fam\n",
      "Counts: lot_frontage\n",
      "60.0    18\n",
      "75.0     9\n",
      "50.0     8\n",
      "67.0     7\n",
      "62.0     6\n",
      "dtype: int64\n",
      "\n",
      "Neighborhood: Edwards\n",
      "Building Type: TwnhsE\n",
      "Counts: lot_frontage\n",
      "35.0    4\n",
      "32.0    1\n",
      "dtype: int64\n",
      "\n",
      "Neighborhood: Edwards\n",
      "Building Type: Twnhs\n",
      "Counts: lot_frontage\n",
      "24.0    3\n",
      "dtype: int64\n",
      "\n",
      "Neighborhood: Edwards\n",
      "Building Type: 2fmCon\n",
      "Counts: lot_frontage\n",
      "56.0    1\n",
      "60.0    1\n",
      "62.0    1\n",
      "68.0    1\n",
      "70.0    1\n",
      "dtype: int64\n",
      "\n",
      "Neighborhood: Edwards\n",
      "Building Type: Duplex\n",
      "Counts: lot_frontage\n",
      "65.0    3\n",
      "60.0    2\n",
      "35.0    1\n",
      "38.0    1\n",
      "42.0    1\n",
      "dtype: int64\n",
      "\n",
      "Neighborhood: OldTown\n",
      "Building Type: 1Fam\n",
      "Counts: lot_frontage\n",
      "60.0    47\n",
      "50.0    19\n",
      "90.0     8\n",
      "56.0     7\n",
      "63.0     4\n",
      "dtype: int64\n",
      "\n",
      "Neighborhood: OldTown\n",
      "Building Type: 2fmCon\n",
      "Counts: lot_frontage\n",
      "60.0    5\n",
      "63.0    2\n",
      "50.0    1\n",
      "65.0    1\n",
      "69.0    1\n",
      "dtype: int64\n",
      "\n",
      "Neighborhood: OldTown\n",
      "Building Type: Duplex\n",
      "Counts: lot_frontage\n",
      "33.0    1\n",
      "50.0    1\n",
      "60.0    1\n",
      "dtype: int64\n",
      "\n",
      "Neighborhood: BrDale\n",
      "Building Type: TwnhsE\n",
      "Counts: lot_frontage\n",
      "24.0    2\n",
      "21.0    1\n",
      "dtype: int64\n",
      "\n",
      "Neighborhood: BrDale\n",
      "Building Type: Twnhs\n",
      "Counts: lot_frontage\n",
      "21.0    16\n",
      "dtype: int64\n",
      "\n",
      "Neighborhood: CollgCr\n",
      "Building Type: 1Fam\n",
      "Counts: lot_frontage\n",
      "65.0    17\n",
      "70.0    15\n",
      "64.0    11\n",
      "75.0     9\n",
      "78.0     8\n",
      "dtype: int64\n",
      "\n",
      "Neighborhood: CollgCr\n",
      "Building Type: TwnhsE\n",
      "Counts: lot_frontage\n",
      "37.0    3\n",
      "dtype: int64\n",
      "\n",
      "Neighborhood: CollgCr\n",
      "Building Type: Duplex\n",
      "Counts: lot_frontage\n",
      "83.0    1\n",
      "dtype: int64\n",
      "\n",
      "Neighborhood: Somerst\n",
      "Building Type: 1Fam\n",
      "Counts: lot_frontage\n",
      "75.0    14\n",
      "85.0    12\n",
      "84.0     6\n",
      "65.0     5\n",
      "72.0     5\n",
      "dtype: int64\n",
      "\n",
      "Neighborhood: Somerst\n",
      "Building Type: TwnhsE\n",
      "Counts: lot_frontage\n",
      "30.0    8\n",
      "34.0    5\n",
      "35.0    3\n",
      "37.0    2\n",
      "25.0    1\n",
      "dtype: int64\n",
      "\n",
      "Neighborhood: Somerst\n",
      "Building Type: Twnhs\n",
      "Counts: lot_frontage\n",
      "24.0    10\n",
      "dtype: int64\n",
      "\n",
      "Neighborhood: Mitchel\n",
      "Building Type: 1Fam\n",
      "Counts: lot_frontage\n",
      "74.0    5\n",
      "62.0    4\n",
      "70.0    4\n",
      "76.0    3\n",
      "69.0    2\n",
      "dtype: int64\n",
      "\n",
      "Neighborhood: Mitchel\n",
      "Building Type: TwnhsE\n",
      "Counts: lot_frontage\n",
      "32.0    2\n",
      "dtype: int64\n",
      "\n",
      "Neighborhood: Mitchel\n",
      "Building Type: Twnhs\n",
      "Counts: lot_frontage\n",
      "32.0    1\n",
      "dtype: int64\n",
      "\n",
      "Neighborhood: Mitchel\n",
      "Building Type: Duplex\n",
      "Counts: lot_frontage\n",
      "78.0    2\n",
      "63.0    1\n",
      "65.0    1\n",
      "75.0    1\n",
      "76.0    1\n",
      "dtype: int64\n",
      "\n",
      "Neighborhood: StoneBr\n",
      "Building Type: 1Fam\n",
      "Counts: lot_frontage\n",
      "60.0    2\n",
      "63.0    2\n",
      "82.0    2\n",
      "85.0    2\n",
      "47.0    1\n",
      "dtype: int64\n",
      "\n",
      "Neighborhood: StoneBr\n",
      "Building Type: TwnhsE\n",
      "Counts: lot_frontage\n",
      "41.0    3\n",
      "39.0    2\n",
      "30.0    1\n",
      "35.0    1\n",
      "38.0    1\n",
      "dtype: int64\n",
      "\n",
      "Neighborhood: NridgHt\n",
      "Building Type: 1Fam\n",
      "Counts: lot_frontage\n",
      "110.0    8\n",
      "96.0     6\n",
      "105.0    5\n",
      "107.0    5\n",
      "95.0     4\n",
      "dtype: int64\n",
      "\n",
      "Neighborhood: NridgHt\n",
      "Building Type: TwnhsE\n",
      "Counts: lot_frontage\n",
      "48.0    8\n",
      "61.0    3\n",
      "41.0    2\n",
      "43.0    1\n",
      "47.0    1\n",
      "dtype: int64\n",
      "\n",
      "Neighborhood: NridgHt\n",
      "Building Type: Twnhs\n",
      "Counts: lot_frontage\n",
      "34.0    4\n",
      "36.0    3\n",
      "dtype: int64\n",
      "\n",
      "Neighborhood: Gilbert\n",
      "Building Type: 1Fam\n",
      "Counts: lot_frontage\n",
      "59.0    7\n",
      "62.0    6\n",
      "65.0    6\n",
      "63.0    6\n",
      "60.0    5\n",
      "dtype: int64\n",
      "\n",
      "Neighborhood: Gilbert\n",
      "Building Type: 2fmCon\n",
      "Counts: lot_frontage\n",
      "100.0    1\n",
      "195.0    1\n",
      "dtype: int64\n",
      "\n",
      "Neighborhood: Crawfor\n",
      "Building Type: 1Fam\n",
      "Counts: lot_frontage\n",
      "53.0     5\n",
      "60.0     4\n",
      "80.0     4\n",
      "100.0    3\n",
      "70.0     2\n",
      "dtype: int64\n",
      "\n",
      "Neighborhood: Crawfor\n",
      "Building Type: TwnhsE\n",
      "Counts: lot_frontage\n",
      "44.0    5\n",
      "41.0    1\n",
      "64.0    1\n",
      "dtype: int64\n",
      "\n",
      "Neighborhood: Crawfor\n",
      "Building Type: 2fmCon\n",
      "Counts: lot_frontage\n",
      "79.0    1\n",
      "90.0    1\n",
      "dtype: int64\n",
      "\n",
      "Neighborhood: Crawfor\n",
      "Building Type: Duplex\n",
      "Counts: lot_frontage\n",
      "82.0    1\n",
      "dtype: int64\n",
      "\n",
      "Neighborhood: IDOTRR\n",
      "Building Type: 1Fam\n",
      "Counts: lot_frontage\n",
      "60.0    18\n",
      "50.0    12\n",
      "75.0     4\n",
      "66.0     3\n",
      "40.0     2\n",
      "dtype: int64\n",
      "\n",
      "Neighborhood: IDOTRR\n",
      "Building Type: 2fmCon\n",
      "Counts: lot_frontage\n",
      "60.0    3\n",
      "50.0    1\n",
      "52.0    1\n",
      "70.0    1\n",
      "75.0    1\n",
      "dtype: int64\n",
      "\n",
      "Neighborhood: NWAmes\n",
      "Building Type: 1Fam\n",
      "Counts: lot_frontage\n",
      "80.0    21\n",
      "78.0    11\n",
      "90.0     2\n",
      "81.0     2\n",
      "85.0     2\n",
      "dtype: int64\n",
      "\n",
      "Neighborhood: NWAmes\n",
      "Building Type: 2fmCon\n",
      "Counts: lot_frontage\n",
      "79.0    1\n",
      "dtype: int64\n",
      "\n",
      "Neighborhood: NWAmes\n",
      "Building Type: Duplex\n",
      "Counts: lot_frontage\n",
      "87.0    1\n",
      "dtype: int64\n",
      "\n",
      "Neighborhood: Veenker\n",
      "Building Type: 1Fam\n",
      "Counts: lot_frontage\n",
      "80.0    2\n",
      "68.0    1\n",
      "90.0    1\n",
      "94.0    1\n",
      "95.0    1\n",
      "dtype: int64\n",
      "\n",
      "Neighborhood: Veenker\n",
      "Building Type: TwnhsE\n",
      "Counts: lot_frontage\n",
      "22.0    1\n",
      "30.0    1\n",
      "32.0    1\n",
      "38.0    1\n",
      "50.0    1\n",
      "dtype: int64\n",
      "\n",
      "Neighborhood: MeadowV\n",
      "Building Type: TwnhsE\n",
      "Counts: lot_frontage\n",
      "21.0    3\n",
      "41.0    2\n",
      "44.0    2\n",
      "36.0    1\n",
      "42.0    1\n",
      "dtype: int64\n",
      "\n",
      "Neighborhood: MeadowV\n",
      "Building Type: Twnhs\n",
      "Counts: lot_frontage\n",
      "21.0    12\n",
      "dtype: int64\n",
      "\n",
      "Neighborhood: SWISU\n",
      "Building Type: 1Fam\n",
      "Counts: lot_frontage\n",
      "60.0    9\n",
      "51.0    4\n",
      "43.0    2\n",
      "50.0    2\n",
      "52.0    2\n",
      "dtype: int64\n",
      "\n",
      "Neighborhood: SWISU\n",
      "Building Type: 2fmCon\n",
      "Counts: lot_frontage\n",
      "55.0    1\n",
      "58.0    1\n",
      "59.0    1\n",
      "60.0    1\n",
      "dtype: int64\n",
      "\n",
      "Neighborhood: NoRidge\n",
      "Building Type: 1Fam\n",
      "Counts: lot_frontage\n",
      "82.0    4\n",
      "91.0    3\n",
      "83.0    3\n",
      "89.0    2\n",
      "92.0    2\n",
      "dtype: int64\n",
      "\n",
      "Neighborhood: ClearCr\n",
      "Building Type: 1Fam\n",
      "Counts: lot_frontage\n",
      "80.0    2\n",
      "62.0    1\n",
      "73.0    1\n",
      "81.0    1\n",
      "82.0    1\n",
      "dtype: int64\n",
      "\n",
      "Neighborhood: Blmngtn\n",
      "Building Type: 1Fam\n",
      "Counts: lot_frontage\n",
      "53.0    2\n",
      "43.0    1\n",
      "dtype: int64\n",
      "\n",
      "Neighborhood: Blmngtn\n",
      "Building Type: TwnhsE\n",
      "Counts: lot_frontage\n",
      "43.0    8\n",
      "53.0    4\n",
      "51.0    1\n",
      "dtype: int64\n",
      "\n",
      "Neighborhood: BrkSide\n",
      "Building Type: 1Fam\n",
      "Counts: lot_frontage\n",
      "50.0    27\n",
      "52.0     9\n",
      "60.0     9\n",
      "51.0     8\n",
      "55.0     5\n",
      "dtype: int64\n",
      "\n",
      "Neighborhood: BrkSide\n",
      "Building Type: 2fmCon\n",
      "Counts: lot_frontage\n",
      "50.0    1\n",
      "60.0    1\n",
      "dtype: int64\n",
      "\n",
      "Neighborhood: NPkVill\n",
      "Building Type: TwnhsE\n",
      "Counts: lot_frontage\n",
      "24.0    5\n",
      "53.0    2\n",
      "dtype: int64\n",
      "\n",
      "Neighborhood: NPkVill\n",
      "Building Type: Twnhs\n",
      "Counts: lot_frontage\n",
      "24.0    9\n",
      "dtype: int64\n",
      "\n",
      "Neighborhood: Blueste\n",
      "Building Type: TwnhsE\n",
      "Counts: lot_frontage\n",
      "35.0    2\n",
      "24.0    1\n",
      "dtype: int64\n",
      "\n",
      "Neighborhood: Blueste\n",
      "Building Type: Twnhs\n",
      "Counts: lot_frontage\n",
      "24.0    3\n",
      "dtype: int64\n",
      "\n",
      "Neighborhood: Greens\n",
      "Building Type: TwnhsE\n",
      "Counts: lot_frontage\n",
      "40.0    1\n",
      "dtype: int64\n",
      "\n",
      "Neighborhood: Greens\n",
      "Building Type: Twnhs\n",
      "Counts: lot_frontage\n",
      "40.0    2\n",
      "dtype: int64\n",
      "\n"
     ]
    }
   ],
   "source": [
    "# # IPython.core library was utilized to visually observe all combinations\n",
    "# # of neighborhoods + building types in a dataframe format\n",
    "# # but has been omitted as a comment due to the multi-page long output\n",
    "# # as mentioned in the bottom comments\n",
    "# from IPython.core import display as ICD\n",
    "\n",
    "\n",
    "# Information based on neighborhood and building type\n",
    "for n in train_df['neighborhood'].unique():\n",
    "    for b in train_df['bldg_type'].unique():\n",
    "\n",
    "        # Array of lot frontage per neighborhood & building type\n",
    "        counts = train_df[(train_df['neighborhood'] == n)\n",
    "                         & (train_df['bldg_type'] == b)].value_counts('lot_frontage')\n",
    "        \n",
    "        # Only display non-Nan information (counts array != [])\n",
    "        if len(counts) > 0:\n",
    "            print('Neighborhood:', n) \n",
    "            print('Building Type:', b) \n",
    "            print(f'Counts: {counts.head()}\\n') # Top 5 lot frontages\n",
    "\n",
    "            \n",
    "# # The code below was used to visually observe the data frames of each\n",
    "# # Neighborhood + building type combnination\n",
    "# # it has been commentified as the output would been pages long\n",
    "\n",
    "#             ICD.display(train_df.loc[train_df['lot_frontage'].notna()\n",
    "#                                      & (train_df['neighborhood'] == n)\n",
    "#                                      & (train_df['bldg_type'] == b),\n",
    "#                                      ['neighborhood', 'condition_1', 'condition_2',\n",
    "#                                       'bldg_type', 'house_style',\n",
    "#                                       'lot_frontage']].sort_values('bldg_type'))"
   ]
  },
  {
   "cell_type": "markdown",
   "id": "8e2cc8ea",
   "metadata": {},
   "source": [
    "**The data for all 3 non-dropNA options have been observed, we'll now dummify all the categorical features with valid NA entries.**"
   ]
  },
  {
   "cell_type": "markdown",
   "id": "ee0019bd",
   "metadata": {},
   "source": [
    "## TRAINING DATA: CATEGORICAL FEATURE LABEL ENCODING"
   ]
  },
  {
   "cell_type": "markdown",
   "id": "49020370",
   "metadata": {},
   "source": [
    "**STRING IMPUTATION -- REPLACING VALID NaNs WITH 'NONE'**"
   ]
  },
  {
   "cell_type": "code",
   "execution_count": 46,
   "id": "1be34af9",
   "metadata": {},
   "outputs": [],
   "source": [
    "# Current categoricals columns with NaN entries\n",
    "# (Will re-use for test data dummification)\n",
    "valid_NA_columns = ['pool_qc','misc_feature','alley','fence','fireplace_qu',\n",
    "                    'garage_finish','garage_qual','garage_cond','garage_type',\n",
    "                    'garage_yr_blt','bsmt_exposure','bsmtfin_type_1',\n",
    "                    'bsmtfin_type_2','bsmt_cond','bsmt_qual']\n",
    "for i in valid_NA_columns:\n",
    "    train_df[i].fillna(value='None', inplace=True)"
   ]
  },
  {
   "cell_type": "code",
   "execution_count": 47,
   "id": "22c279bd",
   "metadata": {},
   "outputs": [
    {
     "data": {
      "text/plain": [
       "(2051, 81)"
      ]
     },
     "execution_count": 47,
     "metadata": {},
     "output_type": "execute_result"
    }
   ],
   "source": [
    "train_df.shape"
   ]
  },
  {
   "cell_type": "code",
   "execution_count": 48,
   "id": "ab377e7d",
   "metadata": {
    "scrolled": true
   },
   "outputs": [
    {
     "data": {
      "text/plain": [
       "Index(['ms_zoning', 'street', 'alley', 'lot_shape', 'land_contour',\n",
       "       'utilities', 'lot_config', 'land_slope', 'neighborhood', 'condition_1',\n",
       "       'condition_2', 'bldg_type', 'house_style', 'roof_style', 'roof_matl',\n",
       "       'exterior_1st', 'exterior_2nd', 'mas_vnr_type', 'exter_qual',\n",
       "       'exter_cond', 'foundation', 'bsmt_qual', 'bsmt_cond', 'bsmt_exposure',\n",
       "       'bsmtfin_type_1', 'bsmtfin_type_2', 'heating', 'heating_qc',\n",
       "       'central_air', 'electrical', 'kitchen_qual', 'functional',\n",
       "       'fireplace_qu', 'garage_type', 'garage_yr_blt', 'garage_finish',\n",
       "       'garage_qual', 'garage_cond', 'paved_drive', 'pool_qc', 'fence',\n",
       "       'misc_feature', 'sale_type'],\n",
       "      dtype='object')"
      ]
     },
     "execution_count": 48,
     "metadata": {},
     "output_type": "execute_result"
    }
   ],
   "source": [
    "# Captured categorical columns for label encoding\n",
    "# Which also includes the newly filled nulls as 'None'\n",
    "train_categ_columns = train_df.select_dtypes(include=['object']).columns\n",
    "train_categ_columns"
   ]
  },
  {
   "cell_type": "markdown",
   "id": "16313828",
   "metadata": {},
   "source": [
    "**LABEL-ENCODED**"
   ]
  },
  {
   "cell_type": "code",
   "execution_count": 49,
   "id": "76086137",
   "metadata": {},
   "outputs": [],
   "source": [
    "# Label encoding (convert to category dtype + assign cat.codes)\n",
    "for c in train_categ_columns:\n",
    "    train_df[c] = train_df[c].astype('category').cat.codes"
   ]
  },
  {
   "cell_type": "code",
   "execution_count": 50,
   "id": "4beeade0",
   "metadata": {
    "scrolled": true
   },
   "outputs": [
    {
     "data": {
      "text/plain": [
       "lot_frontage       330\n",
       "id                   0\n",
       "half_bath            0\n",
       "garage_type          0\n",
       "fireplace_qu         0\n",
       "fireplaces           0\n",
       "functional           0\n",
       "totrms_abvgrd        0\n",
       "kitchen_qual         0\n",
       "kitchen_abvgr        0\n",
       "bedroom_abvgr        0\n",
       "full_bath            0\n",
       "garage_finish        0\n",
       "bsmt_half_bath       0\n",
       "bsmt_full_bath       0\n",
       "gr_liv_area          0\n",
       "low_qual_fin_sf      0\n",
       "dtype: int64"
      ]
     },
     "execution_count": 50,
     "metadata": {},
     "output_type": "execute_result"
    }
   ],
   "source": [
    "# Null count confirmation -- only lot frontage 330 is left\n",
    "train_df.isnull().sum().sort_values(ascending=False).head(17)"
   ]
  },
  {
   "cell_type": "code",
   "execution_count": 51,
   "id": "78ae0074",
   "metadata": {},
   "outputs": [
    {
     "name": "stdout",
     "output_type": "stream",
     "text": [
      "<class 'pandas.core.frame.DataFrame'>\n",
      "RangeIndex: 2051 entries, 0 to 2050\n",
      "Data columns (total 81 columns):\n",
      " #   Column           Non-Null Count  Dtype  \n",
      "---  ------           --------------  -----  \n",
      " 0   id               2051 non-null   int64  \n",
      " 1   pid              2051 non-null   int64  \n",
      " 2   ms_subclass      2051 non-null   int64  \n",
      " 3   ms_zoning        2051 non-null   int8   \n",
      " 4   lot_frontage     1721 non-null   float64\n",
      " 5   lot_area         2051 non-null   int64  \n",
      " 6   street           2051 non-null   int8   \n",
      " 7   alley            2051 non-null   int8   \n",
      " 8   lot_shape        2051 non-null   int8   \n",
      " 9   land_contour     2051 non-null   int8   \n",
      " 10  utilities        2051 non-null   int8   \n",
      " 11  lot_config       2051 non-null   int8   \n",
      " 12  land_slope       2051 non-null   int8   \n",
      " 13  neighborhood     2051 non-null   int8   \n",
      " 14  condition_1      2051 non-null   int8   \n",
      " 15  condition_2      2051 non-null   int8   \n",
      " 16  bldg_type        2051 non-null   int8   \n",
      " 17  house_style      2051 non-null   int8   \n",
      " 18  overall_qual     2051 non-null   int64  \n",
      " 19  overall_cond     2051 non-null   int64  \n",
      " 20  year_built       2051 non-null   int64  \n",
      " 21  year_remod/add   2051 non-null   int64  \n",
      " 22  roof_style       2051 non-null   int8   \n",
      " 23  roof_matl        2051 non-null   int8   \n",
      " 24  exterior_1st     2051 non-null   int8   \n",
      " 25  exterior_2nd     2051 non-null   int8   \n",
      " 26  mas_vnr_type     2051 non-null   int8   \n",
      " 27  mas_vnr_area     2051 non-null   float64\n",
      " 28  exter_qual       2051 non-null   int8   \n",
      " 29  exter_cond       2051 non-null   int8   \n",
      " 30  foundation       2051 non-null   int8   \n",
      " 31  bsmt_qual        2051 non-null   int8   \n",
      " 32  bsmt_cond        2051 non-null   int8   \n",
      " 33  bsmt_exposure    2051 non-null   int8   \n",
      " 34  bsmtfin_type_1   2051 non-null   int8   \n",
      " 35  bsmtfin_sf_1     2051 non-null   float64\n",
      " 36  bsmtfin_type_2   2051 non-null   int8   \n",
      " 37  bsmtfin_sf_2     2051 non-null   float64\n",
      " 38  bsmt_unf_sf      2051 non-null   float64\n",
      " 39  total_bsmt_sf    2051 non-null   float64\n",
      " 40  heating          2051 non-null   int8   \n",
      " 41  heating_qc       2051 non-null   int8   \n",
      " 42  central_air      2051 non-null   int8   \n",
      " 43  electrical       2051 non-null   int8   \n",
      " 44  1st_flr_sf       2051 non-null   int64  \n",
      " 45  2nd_flr_sf       2051 non-null   int64  \n",
      " 46  low_qual_fin_sf  2051 non-null   int64  \n",
      " 47  gr_liv_area      2051 non-null   int64  \n",
      " 48  bsmt_full_bath   2051 non-null   float64\n",
      " 49  bsmt_half_bath   2051 non-null   float64\n",
      " 50  full_bath        2051 non-null   int64  \n",
      " 51  half_bath        2051 non-null   int64  \n",
      " 52  bedroom_abvgr    2051 non-null   int64  \n",
      " 53  kitchen_abvgr    2051 non-null   int64  \n",
      " 54  kitchen_qual     2051 non-null   int8   \n",
      " 55  totrms_abvgrd    2051 non-null   int64  \n",
      " 56  functional       2051 non-null   int8   \n",
      " 57  fireplaces       2051 non-null   int64  \n",
      " 58  fireplace_qu     2051 non-null   int8   \n",
      " 59  garage_type      2051 non-null   int8   \n",
      " 60  garage_yr_blt    2051 non-null   int8   \n",
      " 61  garage_finish    2051 non-null   int8   \n",
      " 62  garage_cars      2051 non-null   float64\n",
      " 63  garage_area      2051 non-null   float64\n",
      " 64  garage_qual      2051 non-null   int8   \n",
      " 65  garage_cond      2051 non-null   int8   \n",
      " 66  paved_drive      2051 non-null   int8   \n",
      " 67  wood_deck_sf     2051 non-null   int64  \n",
      " 68  open_porch_sf    2051 non-null   int64  \n",
      " 69  enclosed_porch   2051 non-null   int64  \n",
      " 70  3ssn_porch       2051 non-null   int64  \n",
      " 71  screen_porch     2051 non-null   int64  \n",
      " 72  pool_area        2051 non-null   int64  \n",
      " 73  pool_qc          2051 non-null   int8   \n",
      " 74  fence            2051 non-null   int8   \n",
      " 75  misc_feature     2051 non-null   int8   \n",
      " 76  misc_val         2051 non-null   int64  \n",
      " 77  mo_sold          2051 non-null   int64  \n",
      " 78  yr_sold          2051 non-null   int64  \n",
      " 79  sale_type        2051 non-null   int8   \n",
      " 80  saleprice        2051 non-null   int64  \n",
      "dtypes: float64(10), int64(28), int8(43)\n",
      "memory usage: 695.1 KB\n"
     ]
    }
   ],
   "source": [
    "# All columns are numerical dtypes now\n",
    "train_df.info()"
   ]
  },
  {
   "cell_type": "markdown",
   "id": "52c206fe",
   "metadata": {},
   "source": [
    "### PARTIALLY-CLEAN TRAINING DATA EXPORTED"
   ]
  },
  {
   "cell_type": "code",
   "execution_count": 52,
   "id": "0d7f557f",
   "metadata": {},
   "outputs": [],
   "source": [
    "# Exported almost clean training data to csv\n",
    "# Exported pre-missing-value treatment\n",
    "train_df.to_csv('../datasets/train_partial_clean.csv')"
   ]
  },
  {
   "cell_type": "markdown",
   "id": "8a8eaf7d",
   "metadata": {},
   "source": [
    "**Before proceeding with the training data comparisons of scores. We'll need to ensure that the test dataset follows the same nature of having only NaN entries in lot frontage.**"
   ]
  },
  {
   "cell_type": "markdown",
   "id": "13796619",
   "metadata": {},
   "source": [
    "## CLEANING TEST DATA"
   ]
  },
  {
   "cell_type": "code",
   "execution_count": 53,
   "id": "bc10527f",
   "metadata": {},
   "outputs": [],
   "source": [
    "# Columns lowercased and replaced spaces with \"_\"\n",
    "test_df.columns = test_df.columns.str.lower().str.replace(\" \", \"_\")"
   ]
  },
  {
   "cell_type": "code",
   "execution_count": 54,
   "id": "26ee3fe8",
   "metadata": {
    "scrolled": false
   },
   "outputs": [
    {
     "data": {
      "text/plain": [
       "pool_qc           874\n",
       "misc_feature      837\n",
       "alley             820\n",
       "fence             706\n",
       "fireplace_qu      422\n",
       "lot_frontage      160\n",
       "garage_yr_blt      45\n",
       "garage_finish      45\n",
       "garage_qual        45\n",
       "garage_cond        45\n",
       "garage_type        44\n",
       "bsmtfin_type_1     25\n",
       "bsmt_qual          25\n",
       "bsmt_cond          25\n",
       "bsmt_exposure      25\n",
       "bsmtfin_type_2     25\n",
       "electrical          1\n",
       "mas_vnr_type        1\n",
       "mas_vnr_area        1\n",
       "kitchen_abvgr       0\n",
       "dtype: int64"
      ]
     },
     "execution_count": 54,
     "metadata": {},
     "output_type": "execute_result"
    }
   ],
   "source": [
    "# test dataset seems to also have NaN, the majoriry with lot_frontage\n",
    "test_df.isnull().sum().sort_values(ascending=False).head(20)"
   ]
  },
  {
   "cell_type": "markdown",
   "id": "838b07a5",
   "metadata": {},
   "source": [
    "**The majority of features with null counts are categorical which include NaN as a category. The exceptions are:**\n",
    "- lot_frontage\n",
    "- electrical\n",
    "- mas_vnr_type\n",
    "- mas_vnr_area"
   ]
  },
  {
   "cell_type": "markdown",
   "id": "1d71fa26",
   "metadata": {},
   "source": [
    "**i. Masonry features**"
   ]
  },
  {
   "cell_type": "code",
   "execution_count": 55,
   "id": "fdcbfe8c",
   "metadata": {},
   "outputs": [
    {
     "data": {
      "text/html": [
       "<div>\n",
       "<style scoped>\n",
       "    .dataframe tbody tr th:only-of-type {\n",
       "        vertical-align: middle;\n",
       "    }\n",
       "\n",
       "    .dataframe tbody tr th {\n",
       "        vertical-align: top;\n",
       "    }\n",
       "\n",
       "    .dataframe thead th {\n",
       "        text-align: right;\n",
       "    }\n",
       "</style>\n",
       "<table border=\"1\" class=\"dataframe\">\n",
       "  <thead>\n",
       "    <tr style=\"text-align: right;\">\n",
       "      <th></th>\n",
       "      <th>mas_vnr_area</th>\n",
       "      <th>mas_vnr_type</th>\n",
       "    </tr>\n",
       "  </thead>\n",
       "  <tbody>\n",
       "    <tr>\n",
       "      <th>865</th>\n",
       "      <td>NaN</td>\n",
       "      <td>NaN</td>\n",
       "    </tr>\n",
       "  </tbody>\n",
       "</table>\n",
       "</div>"
      ],
      "text/plain": [
       "     mas_vnr_area mas_vnr_type\n",
       "865           NaN          NaN"
      ]
     },
     "execution_count": 55,
     "metadata": {},
     "output_type": "execute_result"
    }
   ],
   "source": [
    "# Masonry NaN entries exist on the same row\n",
    "test_df.loc[test_df['mas_vnr_area'].isnull(),['mas_vnr_area','mas_vnr_type']]"
   ]
  },
  {
   "cell_type": "code",
   "execution_count": 56,
   "id": "e6b8d7a6",
   "metadata": {},
   "outputs": [
    {
     "name": "stdout",
     "output_type": "stream",
     "text": [
      "0\n",
      "0\n"
     ]
    }
   ],
   "source": [
    "# Applied same NaN treatment as performed with training data\n",
    "test_df.loc[865,'mas_vnr_type'] = 'None'\n",
    "test_df.loc[865,'mas_vnr_area'] = 0.0\n",
    "\n",
    "# Confirmed\n",
    "print(test_df['mas_vnr_area'].isnull().sum())\n",
    "print(test_df['mas_vnr_type'].isnull().sum())"
   ]
  },
  {
   "cell_type": "markdown",
   "id": "c368151d",
   "metadata": {},
   "source": [
    "**ii. Electrical**"
   ]
  },
  {
   "cell_type": "code",
   "execution_count": 57,
   "id": "ffeb484e",
   "metadata": {
    "scrolled": true
   },
   "outputs": [
    {
     "data": {
      "text/html": [
       "<div>\n",
       "<style scoped>\n",
       "    .dataframe tbody tr th:only-of-type {\n",
       "        vertical-align: middle;\n",
       "    }\n",
       "\n",
       "    .dataframe tbody tr th {\n",
       "        vertical-align: top;\n",
       "    }\n",
       "\n",
       "    .dataframe thead th {\n",
       "        text-align: right;\n",
       "    }\n",
       "</style>\n",
       "<table border=\"1\" class=\"dataframe\">\n",
       "  <thead>\n",
       "    <tr style=\"text-align: right;\">\n",
       "      <th></th>\n",
       "      <th>electrical</th>\n",
       "      <th>utilities</th>\n",
       "    </tr>\n",
       "  </thead>\n",
       "  <tbody>\n",
       "    <tr>\n",
       "      <th>634</th>\n",
       "      <td>NaN</td>\n",
       "      <td>AllPub</td>\n",
       "    </tr>\n",
       "  </tbody>\n",
       "</table>\n",
       "</div>"
      ],
      "text/plain": [
       "    electrical utilities\n",
       "634        NaN    AllPub"
      ]
     },
     "execution_count": 57,
     "metadata": {},
     "output_type": "execute_result"
    }
   ],
   "source": [
    "# Reviewed the single NaN electrical\n",
    "test_df.loc[test_df['electrical'].isnull(),['electrical', 'utilities']]"
   ]
  },
  {
   "cell_type": "code",
   "execution_count": 58,
   "id": "899bab5f",
   "metadata": {},
   "outputs": [
    {
     "data": {
      "text/plain": [
       "utilities\n",
       "AllPub    876\n",
       "NoSewr      1\n",
       "dtype: int64"
      ]
     },
     "execution_count": 58,
     "metadata": {},
     "output_type": "execute_result"
    }
   ],
   "source": [
    "# Most common utility is 'Allpub' (AllPub All public Utilities (E,G,W,& S))\n",
    "test_df.loc[test_df['electrical'].notnull()].value_counts('utilities')"
   ]
  },
  {
   "cell_type": "code",
   "execution_count": 59,
   "id": "adba7249",
   "metadata": {},
   "outputs": [
    {
     "data": {
      "text/plain": [
       "electrical\n",
       "SBrkr    813\n",
       "FuseA     47\n",
       "FuseF     15\n",
       "FuseP      1\n",
       "dtype: int64"
      ]
     },
     "execution_count": 59,
     "metadata": {},
     "output_type": "execute_result"
    }
   ],
   "source": [
    "# Most common electrical when utilities = 'Allpub'  is 'SBrkr'\n",
    "# (Standard Circuit Breakers & Romex)\n",
    "test_df.loc[test_df['utilities']=='AllPub'].value_counts('electrical')"
   ]
  },
  {
   "cell_type": "code",
   "execution_count": 60,
   "id": "be3d62b4",
   "metadata": {},
   "outputs": [
    {
     "data": {
      "text/plain": [
       "0"
      ]
     },
     "execution_count": 60,
     "metadata": {},
     "output_type": "execute_result"
    }
   ],
   "source": [
    "# Assigned NaN electric as 'SBrkr' as it's the most common when utilities = 'Allpub'\n",
    "test_df.loc[634, 'electrical'] = 'SBrkr'\n",
    "\n",
    "# Confirmed\n",
    "test_df['electrical'].isnull().sum()"
   ]
  },
  {
   "cell_type": "markdown",
   "id": "857116fd",
   "metadata": {},
   "source": [
    "**iii. The lot frontage features will undergo the 4 same NaN treatment options as the training dataset. (performed after we resolve the remaining NaN entries)**\n",
    "- OPTION1 (fill all with 60)\n",
    "- OPTION2 (fill based on average per neighborhood)\n",
    "- OPTION3 (fill based on most common by building type per neighborhood)\n",
    "- OPTION4 (drop all NaN)"
   ]
  },
  {
   "cell_type": "markdown",
   "id": "1368e818",
   "metadata": {},
   "source": [
    "## TEST DATA: CATEGORICAL FEATURE LABEL ENCODING"
   ]
  },
  {
   "cell_type": "markdown",
   "id": "3c91f208",
   "metadata": {},
   "source": [
    "**SAME STRING IMPUTATION -- NaN = 'NONE'**"
   ]
  },
  {
   "cell_type": "code",
   "execution_count": 61,
   "id": "1fe0442c",
   "metadata": {},
   "outputs": [],
   "source": [
    "# Re-used valid_NA_columns as specified during training data clean-up\n",
    "for i in valid_NA_columns:\n",
    "    test_df[i].fillna(value='None', inplace=True)"
   ]
  },
  {
   "cell_type": "code",
   "execution_count": 62,
   "id": "0be42f85",
   "metadata": {},
   "outputs": [
    {
     "data": {
      "text/plain": [
       "Index(['ms_zoning', 'street', 'alley', 'lot_shape', 'land_contour',\n",
       "       'utilities', 'lot_config', 'land_slope', 'neighborhood', 'condition_1',\n",
       "       'condition_2', 'bldg_type', 'house_style', 'roof_style', 'roof_matl',\n",
       "       'exterior_1st', 'exterior_2nd', 'mas_vnr_type', 'exter_qual',\n",
       "       'exter_cond', 'foundation', 'bsmt_qual', 'bsmt_cond', 'bsmt_exposure',\n",
       "       'bsmtfin_type_1', 'bsmtfin_type_2', 'heating', 'heating_qc',\n",
       "       'central_air', 'electrical', 'kitchen_qual', 'functional',\n",
       "       'fireplace_qu', 'garage_type', 'garage_yr_blt', 'garage_finish',\n",
       "       'garage_qual', 'garage_cond', 'paved_drive', 'pool_qc', 'fence',\n",
       "       'misc_feature', 'sale_type'],\n",
       "      dtype='object')"
      ]
     },
     "execution_count": 62,
     "metadata": {},
     "output_type": "execute_result"
    }
   ],
   "source": [
    "# Captured categorical columns for label encoding\n",
    "# Which also includes the newly filled nulls as 'None'\n",
    "test_categ_columns = test_df.select_dtypes(include=['object']).columns\n",
    "test_categ_columns"
   ]
  },
  {
   "cell_type": "markdown",
   "id": "f8634c3d",
   "metadata": {},
   "source": [
    "**LABEL-ENCODED**"
   ]
  },
  {
   "cell_type": "code",
   "execution_count": 63,
   "id": "6030cec8",
   "metadata": {},
   "outputs": [],
   "source": [
    "# Label encoding (convert to category dtype + assign cat.codes)\n",
    "for c in test_categ_columns:\n",
    "    test_df[c] = test_df[c].astype('category').cat.codes"
   ]
  },
  {
   "cell_type": "code",
   "execution_count": 64,
   "id": "7a74d70c",
   "metadata": {},
   "outputs": [
    {
     "data": {
      "text/plain": [
       "lot_frontage    160\n",
       "id                0\n",
       "half_bath         0\n",
       "fireplace_qu      0\n",
       "fireplaces        0\n",
       "dtype: int64"
      ]
     },
     "execution_count": 64,
     "metadata": {},
     "output_type": "execute_result"
    }
   ],
   "source": [
    "# Null count confirmation -- only 160 null lot frontage remaining\n",
    "test_df.isnull().sum().sort_values(ascending=False).head()"
   ]
  },
  {
   "cell_type": "code",
   "execution_count": 65,
   "id": "b1f56909",
   "metadata": {},
   "outputs": [
    {
     "name": "stdout",
     "output_type": "stream",
     "text": [
      "<class 'pandas.core.frame.DataFrame'>\n",
      "RangeIndex: 878 entries, 0 to 877\n",
      "Data columns (total 80 columns):\n",
      " #   Column           Non-Null Count  Dtype  \n",
      "---  ------           --------------  -----  \n",
      " 0   id               878 non-null    int64  \n",
      " 1   pid              878 non-null    int64  \n",
      " 2   ms_subclass      878 non-null    int64  \n",
      " 3   ms_zoning        878 non-null    int8   \n",
      " 4   lot_frontage     718 non-null    float64\n",
      " 5   lot_area         878 non-null    int64  \n",
      " 6   street           878 non-null    int8   \n",
      " 7   alley            878 non-null    int8   \n",
      " 8   lot_shape        878 non-null    int8   \n",
      " 9   land_contour     878 non-null    int8   \n",
      " 10  utilities        878 non-null    int8   \n",
      " 11  lot_config       878 non-null    int8   \n",
      " 12  land_slope       878 non-null    int8   \n",
      " 13  neighborhood     878 non-null    int8   \n",
      " 14  condition_1      878 non-null    int8   \n",
      " 15  condition_2      878 non-null    int8   \n",
      " 16  bldg_type        878 non-null    int8   \n",
      " 17  house_style      878 non-null    int8   \n",
      " 18  overall_qual     878 non-null    int64  \n",
      " 19  overall_cond     878 non-null    int64  \n",
      " 20  year_built       878 non-null    int64  \n",
      " 21  year_remod/add   878 non-null    int64  \n",
      " 22  roof_style       878 non-null    int8   \n",
      " 23  roof_matl        878 non-null    int8   \n",
      " 24  exterior_1st     878 non-null    int8   \n",
      " 25  exterior_2nd     878 non-null    int8   \n",
      " 26  mas_vnr_type     878 non-null    int8   \n",
      " 27  mas_vnr_area     878 non-null    float64\n",
      " 28  exter_qual       878 non-null    int8   \n",
      " 29  exter_cond       878 non-null    int8   \n",
      " 30  foundation       878 non-null    int8   \n",
      " 31  bsmt_qual        878 non-null    int8   \n",
      " 32  bsmt_cond        878 non-null    int8   \n",
      " 33  bsmt_exposure    878 non-null    int8   \n",
      " 34  bsmtfin_type_1   878 non-null    int8   \n",
      " 35  bsmtfin_sf_1     878 non-null    int64  \n",
      " 36  bsmtfin_type_2   878 non-null    int8   \n",
      " 37  bsmtfin_sf_2     878 non-null    int64  \n",
      " 38  bsmt_unf_sf      878 non-null    int64  \n",
      " 39  total_bsmt_sf    878 non-null    int64  \n",
      " 40  heating          878 non-null    int8   \n",
      " 41  heating_qc       878 non-null    int8   \n",
      " 42  central_air      878 non-null    int8   \n",
      " 43  electrical       878 non-null    int8   \n",
      " 44  1st_flr_sf       878 non-null    int64  \n",
      " 45  2nd_flr_sf       878 non-null    int64  \n",
      " 46  low_qual_fin_sf  878 non-null    int64  \n",
      " 47  gr_liv_area      878 non-null    int64  \n",
      " 48  bsmt_full_bath   878 non-null    int64  \n",
      " 49  bsmt_half_bath   878 non-null    int64  \n",
      " 50  full_bath        878 non-null    int64  \n",
      " 51  half_bath        878 non-null    int64  \n",
      " 52  bedroom_abvgr    878 non-null    int64  \n",
      " 53  kitchen_abvgr    878 non-null    int64  \n",
      " 54  kitchen_qual     878 non-null    int8   \n",
      " 55  totrms_abvgrd    878 non-null    int64  \n",
      " 56  functional       878 non-null    int8   \n",
      " 57  fireplaces       878 non-null    int64  \n",
      " 58  fireplace_qu     878 non-null    int8   \n",
      " 59  garage_type      878 non-null    int8   \n",
      " 60  garage_yr_blt    878 non-null    int8   \n",
      " 61  garage_finish    878 non-null    int8   \n",
      " 62  garage_cars      878 non-null    int64  \n",
      " 63  garage_area      878 non-null    int64  \n",
      " 64  garage_qual      878 non-null    int8   \n",
      " 65  garage_cond      878 non-null    int8   \n",
      " 66  paved_drive      878 non-null    int8   \n",
      " 67  wood_deck_sf     878 non-null    int64  \n",
      " 68  open_porch_sf    878 non-null    int64  \n",
      " 69  enclosed_porch   878 non-null    int64  \n",
      " 70  3ssn_porch       878 non-null    int64  \n",
      " 71  screen_porch     878 non-null    int64  \n",
      " 72  pool_area        878 non-null    int64  \n",
      " 73  pool_qc          878 non-null    int8   \n",
      " 74  fence            878 non-null    int8   \n",
      " 75  misc_feature     878 non-null    int8   \n",
      " 76  misc_val         878 non-null    int64  \n",
      " 77  mo_sold          878 non-null    int64  \n",
      " 78  yr_sold          878 non-null    int64  \n",
      " 79  sale_type        878 non-null    int8   \n",
      "dtypes: float64(2), int64(35), int8(43)\n",
      "memory usage: 290.8 KB\n"
     ]
    }
   ],
   "source": [
    "# All columns are numerical dtypes now\n",
    "test_df.info()"
   ]
  },
  {
   "cell_type": "markdown",
   "id": "28aaae08",
   "metadata": {},
   "source": [
    "### PARTIALLY-CLEAN TEST DATA EXPORTED"
   ]
  },
  {
   "cell_type": "code",
   "execution_count": 66,
   "id": "2331be7c",
   "metadata": {},
   "outputs": [],
   "source": [
    "# Exported almost clean test data to csv\n",
    "# Exported pre-missing-value treatment\n",
    "test_df.to_csv('../datasets/test_partial_clean.csv')"
   ]
  },
  {
   "cell_type": "markdown",
   "id": "95dfb441",
   "metadata": {},
   "source": [
    "# MISSING VALUE TREATMENT\n",
    "\n",
    "**Lot frontage NaN will be handled with 3 different options:**\n",
    "\n",
    "- OPTION1 - MODE IMPUTATION: Fill all NaN with the most common lot frontage\n",
    "- OPTION2 - MEAN IMPUTATION: Fill all NaN with the average lot frontage\n",
    "- OPTION3 - LISTWISE DELETION: Drop lot_frontage column completely"
   ]
  },
  {
   "cell_type": "code",
   "execution_count": 67,
   "id": "8c6fe6d6",
   "metadata": {},
   "outputs": [],
   "source": [
    "# OPTION 1 -- MODE IMPUTATION\n",
    "train_df_60 = train_df.copy()\n",
    "test_df_60 = test_df.copy()\n",
    "\n",
    "# Training/Test data lot frontage NaN treatment (fillna with 60)\n",
    "train_df_60.fillna(60, inplace=True)\n",
    "test_df_60.fillna(60, inplace=True)"
   ]
  },
  {
   "cell_type": "code",
   "execution_count": 68,
   "id": "c5d9383a",
   "metadata": {},
   "outputs": [],
   "source": [
    "# OPTION 2 -- MEAN IMPUTATION\n",
    "train_df_avg = train_df.copy()\n",
    "test_df_avg = test_df.copy()\n",
    "\n",
    "# Average lot frontage\n",
    "avg = round(train_df_avg['lot_frontage'].mean(),0)\n",
    "\n",
    "# Training/Test data lot frontage NaN treatment (fillna with 69)\n",
    "train_df_avg.fillna(avg, inplace=True)\n",
    "test_df_avg.fillna(avg, inplace=True)"
   ]
  },
  {
   "cell_type": "code",
   "execution_count": 69,
   "id": "45ab1ef8",
   "metadata": {},
   "outputs": [],
   "source": [
    "# OPTION 3 -- drop Lot Frontage column\n",
    "train_df_lw = train_df.copy()\n",
    "test_df_lw = test_df.copy()\n",
    "\n",
    "train_df_lw.dropna(axis=1, inplace=True)\n",
    "test_df_lw.dropna(axis=1, inplace=True)"
   ]
  },
  {
   "cell_type": "code",
   "execution_count": 70,
   "id": "7407fa44",
   "metadata": {},
   "outputs": [
    {
     "name": "stdout",
     "output_type": "stream",
     "text": [
      "(2051, 81)\n",
      "(878, 80)\n",
      "(2051, 81)\n",
      "(878, 80)\n",
      "(2051, 80)\n",
      "(878, 79)\n"
     ]
    }
   ],
   "source": [
    "# Shape confirmation -- 878 rows retained for Kaggle\n",
    "print(train_df_60.shape)\n",
    "print(test_df_60.shape)\n",
    "print(train_df_avg.shape)\n",
    "print(test_df_avg.shape)\n",
    "print(train_df_lw.shape)\n",
    "print(test_df_lw.shape)"
   ]
  },
  {
   "cell_type": "code",
   "execution_count": 71,
   "id": "013ab21f",
   "metadata": {},
   "outputs": [
    {
     "name": "stdout",
     "output_type": "stream",
     "text": [
      "0\n",
      "0\n",
      "0\n",
      "0\n",
      "0\n",
      "0\n"
     ]
    }
   ],
   "source": [
    "# Null confirmation -- all removed\n",
    "print(max(train_df_60.isnull().sum()))\n",
    "print(max(test_df_60.isnull().sum()))\n",
    "print(max(train_df_avg.isnull().sum()))\n",
    "print(max(test_df_avg.isnull().sum()))\n",
    "print(max(train_df_lw.isnull().sum()))\n",
    "print(max(test_df_lw.isnull().sum()))"
   ]
  },
  {
   "cell_type": "markdown",
   "id": "71ce3e07",
   "metadata": {},
   "source": [
    "# EXPLORATORY DATA ANALYSIS\n",
    "**We'll take a look at the correlations to determine which features to select.**"
   ]
  },
  {
   "cell_type": "markdown",
   "id": "e0279656",
   "metadata": {},
   "source": [
    "**TRAINING DATA FEATURE CORRELATION TO SALEPRICE\n",
    "<br>TOP10 POSITIVES + TOP 5 NEGATIVES**"
   ]
  },
  {
   "cell_type": "code",
   "execution_count": 72,
   "id": "c694f158",
   "metadata": {
    "scrolled": false
   },
   "outputs": [
    {
     "name": "stdout",
     "output_type": "stream",
     "text": [
      "saleprice         1.000000\n",
      "overall_qual      0.800207\n",
      "gr_liv_area       0.697038\n",
      "garage_area       0.649897\n",
      "garage_cars       0.647781\n",
      "total_bsmt_sf     0.629303\n",
      "1st_flr_sf        0.618486\n",
      "year_built        0.571849\n",
      "year_remod/add    0.550370\n",
      "full_bath         0.537969\n",
      "totrms_abvgrd     0.504014\n",
      "Name: saleprice, dtype: float64\n",
      "\n",
      "exter_qual       -0.657939\n",
      "kitchen_qual     -0.634168\n",
      "bsmt_qual        -0.579282\n",
      "garage_finish    -0.437326\n",
      "garage_type      -0.427649\n",
      "heating_qc       -0.424909\n",
      "bsmt_exposure    -0.340456\n",
      "lot_shape        -0.299759\n",
      "pid              -0.255052\n",
      "bsmtfin_type_1   -0.145496\n",
      "Name: saleprice, dtype: float64\n"
     ]
    }
   ],
   "source": [
    "# OPTION1\n",
    "print(train_df_60.corr().sort_values('saleprice', ascending=False)['saleprice'].head(11))\n",
    "print()\n",
    "print(train_df_60.corr().sort_values('saleprice')['saleprice'].head(10))"
   ]
  },
  {
   "cell_type": "code",
   "execution_count": 73,
   "id": "6aa72ecc",
   "metadata": {},
   "outputs": [
    {
     "name": "stdout",
     "output_type": "stream",
     "text": [
      "saleprice         1.000000\n",
      "overall_qual      0.800207\n",
      "gr_liv_area       0.697038\n",
      "garage_area       0.649897\n",
      "garage_cars       0.647781\n",
      "total_bsmt_sf     0.629303\n",
      "1st_flr_sf        0.618486\n",
      "year_built        0.571849\n",
      "year_remod/add    0.550370\n",
      "full_bath         0.537969\n",
      "totrms_abvgrd     0.504014\n",
      "Name: saleprice, dtype: float64\n",
      "\n",
      "exter_qual       -0.657939\n",
      "kitchen_qual     -0.634168\n",
      "bsmt_qual        -0.579282\n",
      "garage_finish    -0.437326\n",
      "garage_type      -0.427649\n",
      "heating_qc       -0.424909\n",
      "bsmt_exposure    -0.340456\n",
      "lot_shape        -0.299759\n",
      "pid              -0.255052\n",
      "bsmtfin_type_1   -0.145496\n",
      "Name: saleprice, dtype: float64\n"
     ]
    }
   ],
   "source": [
    "# OPTION2\n",
    "print(train_df_avg.corr().sort_values('saleprice', ascending=False)['saleprice'].head(11))\n",
    "print()\n",
    "print(train_df_avg.corr().sort_values('saleprice')['saleprice'].head(10))"
   ]
  },
  {
   "cell_type": "code",
   "execution_count": 74,
   "id": "7d493478",
   "metadata": {},
   "outputs": [
    {
     "name": "stdout",
     "output_type": "stream",
     "text": [
      "saleprice         1.000000\n",
      "overall_qual      0.800207\n",
      "gr_liv_area       0.697038\n",
      "garage_area       0.649897\n",
      "garage_cars       0.647781\n",
      "total_bsmt_sf     0.629303\n",
      "1st_flr_sf        0.618486\n",
      "year_built        0.571849\n",
      "year_remod/add    0.550370\n",
      "full_bath         0.537969\n",
      "totrms_abvgrd     0.504014\n",
      "Name: saleprice, dtype: float64\n",
      "\n",
      "exter_qual       -0.657939\n",
      "kitchen_qual     -0.634168\n",
      "bsmt_qual        -0.579282\n",
      "garage_finish    -0.437326\n",
      "garage_type      -0.427649\n",
      "heating_qc       -0.424909\n",
      "bsmt_exposure    -0.340456\n",
      "lot_shape        -0.299759\n",
      "pid              -0.255052\n",
      "bsmtfin_type_1   -0.145496\n",
      "Name: saleprice, dtype: float64\n"
     ]
    }
   ],
   "source": [
    "# OPTION3\n",
    "print(train_df.corr().sort_values('saleprice', ascending=False)['saleprice'].head(11))\n",
    "print()\n",
    "print(train_df.corr().sort_values('saleprice')['saleprice'].head(10))"
   ]
  },
  {
   "cell_type": "markdown",
   "id": "c90c4391",
   "metadata": {},
   "source": [
    "**The same top 20 features remained regardless of Lot Frontage missing value treatment.\n",
    "<br>The correlation values remained exactly the same as well.**"
   ]
  },
  {
   "cell_type": "code",
   "execution_count": 75,
   "id": "1e6458a7",
   "metadata": {},
   "outputs": [],
   "source": [
    "# Stored top 20 features\n",
    "top_features = ['overall_qual','gr_liv_area','garage_area',\n",
    "                'garage_cars','total_bsmt_sf','1st_flr_sf',\n",
    "                'year_built','year_remod/add','full_bath',\n",
    "                'totrms_abvgrd','exter_qual','kitchen_qual', \n",
    "                'bsmt_qual', 'garage_finish', 'garage_type',\n",
    "                'heating_qc', 'bsmt_exposure', 'lot_shape',\n",
    "                'pid', 'bsmtfin_type_1']\n",
    "\n",
    "# OPTION1\n",
    "X_60 = train_df_60[top_features]\n",
    "y_60 = train_df_60['saleprice']\n",
    "\n",
    "# OPTION2\n",
    "X_avg = train_df_avg[top_features]\n",
    "y_avg = train_df_avg['saleprice']\n",
    "\n",
    "# OPTION3\n",
    "X_lw = train_df_lw[top_features]\n",
    "y_lw = train_df_lw['saleprice']"
   ]
  },
  {
   "cell_type": "code",
   "execution_count": 76,
   "id": "1ea62058",
   "metadata": {},
   "outputs": [
    {
     "data": {
      "text/html": [
       "<div>\n",
       "<style scoped>\n",
       "    .dataframe tbody tr th:only-of-type {\n",
       "        vertical-align: middle;\n",
       "    }\n",
       "\n",
       "    .dataframe tbody tr th {\n",
       "        vertical-align: top;\n",
       "    }\n",
       "\n",
       "    .dataframe thead th {\n",
       "        text-align: right;\n",
       "    }\n",
       "</style>\n",
       "<table border=\"1\" class=\"dataframe\">\n",
       "  <thead>\n",
       "    <tr style=\"text-align: right;\">\n",
       "      <th></th>\n",
       "      <th>overall_qual</th>\n",
       "      <th>gr_liv_area</th>\n",
       "      <th>garage_area</th>\n",
       "      <th>garage_cars</th>\n",
       "      <th>total_bsmt_sf</th>\n",
       "      <th>1st_flr_sf</th>\n",
       "      <th>year_built</th>\n",
       "      <th>year_remod/add</th>\n",
       "      <th>full_bath</th>\n",
       "      <th>totrms_abvgrd</th>\n",
       "      <th>exter_qual</th>\n",
       "      <th>kitchen_qual</th>\n",
       "      <th>bsmt_qual</th>\n",
       "      <th>garage_finish</th>\n",
       "      <th>garage_type</th>\n",
       "      <th>heating_qc</th>\n",
       "      <th>bsmt_exposure</th>\n",
       "      <th>lot_shape</th>\n",
       "      <th>pid</th>\n",
       "      <th>bsmtfin_type_1</th>\n",
       "    </tr>\n",
       "  </thead>\n",
       "  <tbody>\n",
       "    <tr>\n",
       "      <th>overall_qual</th>\n",
       "      <td>1.000000</td>\n",
       "      <td>0.566701</td>\n",
       "      <td>0.563904</td>\n",
       "      <td>0.587447</td>\n",
       "      <td>0.549407</td>\n",
       "      <td>0.477136</td>\n",
       "      <td>0.602964</td>\n",
       "      <td>0.584654</td>\n",
       "      <td>0.515080</td>\n",
       "      <td>0.382025</td>\n",
       "      <td>-0.636847</td>\n",
       "      <td>-0.577936</td>\n",
       "      <td>-0.562879</td>\n",
       "      <td>-0.417626</td>\n",
       "      <td>-0.418889</td>\n",
       "      <td>-0.436873</td>\n",
       "      <td>-0.303140</td>\n",
       "      <td>-0.254136</td>\n",
       "      <td>-0.265863</td>\n",
       "      <td>-0.046997</td>\n",
       "    </tr>\n",
       "    <tr>\n",
       "      <th>gr_liv_area</th>\n",
       "      <td>0.566701</td>\n",
       "      <td>1.000000</td>\n",
       "      <td>0.489620</td>\n",
       "      <td>0.485166</td>\n",
       "      <td>0.454245</td>\n",
       "      <td>0.562441</td>\n",
       "      <td>0.258838</td>\n",
       "      <td>0.322407</td>\n",
       "      <td>0.617323</td>\n",
       "      <td>0.813333</td>\n",
       "      <td>-0.402550</td>\n",
       "      <td>-0.411493</td>\n",
       "      <td>-0.352317</td>\n",
       "      <td>-0.299259</td>\n",
       "      <td>-0.244614</td>\n",
       "      <td>-0.266551</td>\n",
       "      <td>-0.104234</td>\n",
       "      <td>-0.204751</td>\n",
       "      <td>-0.112936</td>\n",
       "      <td>0.033156</td>\n",
       "    </tr>\n",
       "    <tr>\n",
       "      <th>garage_area</th>\n",
       "      <td>0.563904</td>\n",
       "      <td>0.489620</td>\n",
       "      <td>1.000000</td>\n",
       "      <td>0.893442</td>\n",
       "      <td>0.488954</td>\n",
       "      <td>0.498690</td>\n",
       "      <td>0.488023</td>\n",
       "      <td>0.397731</td>\n",
       "      <td>0.396914</td>\n",
       "      <td>0.341036</td>\n",
       "      <td>-0.438083</td>\n",
       "      <td>-0.380492</td>\n",
       "      <td>-0.434918</td>\n",
       "      <td>-0.183461</td>\n",
       "      <td>-0.431173</td>\n",
       "      <td>-0.275709</td>\n",
       "      <td>-0.254302</td>\n",
       "      <td>-0.212235</td>\n",
       "      <td>-0.201717</td>\n",
       "      <td>-0.118006</td>\n",
       "    </tr>\n",
       "    <tr>\n",
       "      <th>garage_cars</th>\n",
       "      <td>0.587447</td>\n",
       "      <td>0.485166</td>\n",
       "      <td>0.893442</td>\n",
       "      <td>1.000000</td>\n",
       "      <td>0.433361</td>\n",
       "      <td>0.439006</td>\n",
       "      <td>0.543313</td>\n",
       "      <td>0.440365</td>\n",
       "      <td>0.465937</td>\n",
       "      <td>0.367860</td>\n",
       "      <td>-0.427862</td>\n",
       "      <td>-0.373370</td>\n",
       "      <td>-0.486967</td>\n",
       "      <td>-0.234694</td>\n",
       "      <td>-0.449936</td>\n",
       "      <td>-0.309030</td>\n",
       "      <td>-0.244011</td>\n",
       "      <td>-0.235162</td>\n",
       "      <td>-0.229187</td>\n",
       "      <td>-0.089284</td>\n",
       "    </tr>\n",
       "    <tr>\n",
       "      <th>total_bsmt_sf</th>\n",
       "      <td>0.549407</td>\n",
       "      <td>0.454245</td>\n",
       "      <td>0.488954</td>\n",
       "      <td>0.433361</td>\n",
       "      <td>1.000000</td>\n",
       "      <td>0.808351</td>\n",
       "      <td>0.410605</td>\n",
       "      <td>0.309795</td>\n",
       "      <td>0.326277</td>\n",
       "      <td>0.294787</td>\n",
       "      <td>-0.440722</td>\n",
       "      <td>-0.401985</td>\n",
       "      <td>-0.322542</td>\n",
       "      <td>-0.271612</td>\n",
       "      <td>-0.384691</td>\n",
       "      <td>-0.229461</td>\n",
       "      <td>-0.337927</td>\n",
       "      <td>-0.194041</td>\n",
       "      <td>-0.204623</td>\n",
       "      <td>-0.167221</td>\n",
       "    </tr>\n",
       "    <tr>\n",
       "      <th>1st_flr_sf</th>\n",
       "      <td>0.477136</td>\n",
       "      <td>0.562441</td>\n",
       "      <td>0.498690</td>\n",
       "      <td>0.439006</td>\n",
       "      <td>0.808351</td>\n",
       "      <td>1.000000</td>\n",
       "      <td>0.323315</td>\n",
       "      <td>0.244190</td>\n",
       "      <td>0.367623</td>\n",
       "      <td>0.393254</td>\n",
       "      <td>-0.395764</td>\n",
       "      <td>-0.388169</td>\n",
       "      <td>-0.310968</td>\n",
       "      <td>-0.254392</td>\n",
       "      <td>-0.404319</td>\n",
       "      <td>-0.153719</td>\n",
       "      <td>-0.260286</td>\n",
       "      <td>-0.215999</td>\n",
       "      <td>-0.145862</td>\n",
       "      <td>-0.136193</td>\n",
       "    </tr>\n",
       "    <tr>\n",
       "      <th>year_built</th>\n",
       "      <td>0.602964</td>\n",
       "      <td>0.258838</td>\n",
       "      <td>0.488023</td>\n",
       "      <td>0.543313</td>\n",
       "      <td>0.410605</td>\n",
       "      <td>0.323315</td>\n",
       "      <td>1.000000</td>\n",
       "      <td>0.629116</td>\n",
       "      <td>0.480169</td>\n",
       "      <td>0.137783</td>\n",
       "      <td>-0.491802</td>\n",
       "      <td>-0.389929</td>\n",
       "      <td>-0.631045</td>\n",
       "      <td>-0.460661</td>\n",
       "      <td>-0.537150</td>\n",
       "      <td>-0.405309</td>\n",
       "      <td>-0.313824</td>\n",
       "      <td>-0.278107</td>\n",
       "      <td>-0.347039</td>\n",
       "      <td>-0.169698</td>\n",
       "    </tr>\n",
       "    <tr>\n",
       "      <th>year_remod/add</th>\n",
       "      <td>0.584654</td>\n",
       "      <td>0.322407</td>\n",
       "      <td>0.397731</td>\n",
       "      <td>0.440365</td>\n",
       "      <td>0.309795</td>\n",
       "      <td>0.244190</td>\n",
       "      <td>0.629116</td>\n",
       "      <td>1.000000</td>\n",
       "      <td>0.471555</td>\n",
       "      <td>0.202397</td>\n",
       "      <td>-0.496900</td>\n",
       "      <td>-0.473302</td>\n",
       "      <td>-0.536809</td>\n",
       "      <td>-0.390537</td>\n",
       "      <td>-0.325087</td>\n",
       "      <td>-0.516822</td>\n",
       "      <td>-0.239505</td>\n",
       "      <td>-0.206626</td>\n",
       "      <td>-0.176666</td>\n",
       "      <td>-0.065987</td>\n",
       "    </tr>\n",
       "    <tr>\n",
       "      <th>full_bath</th>\n",
       "      <td>0.515080</td>\n",
       "      <td>0.617323</td>\n",
       "      <td>0.396914</td>\n",
       "      <td>0.465937</td>\n",
       "      <td>0.326277</td>\n",
       "      <td>0.367623</td>\n",
       "      <td>0.480169</td>\n",
       "      <td>0.471555</td>\n",
       "      <td>1.000000</td>\n",
       "      <td>0.519630</td>\n",
       "      <td>-0.394987</td>\n",
       "      <td>-0.345049</td>\n",
       "      <td>-0.464720</td>\n",
       "      <td>-0.334527</td>\n",
       "      <td>-0.275128</td>\n",
       "      <td>-0.318241</td>\n",
       "      <td>-0.092546</td>\n",
       "      <td>-0.193148</td>\n",
       "      <td>-0.179370</td>\n",
       "      <td>0.059304</td>\n",
       "    </tr>\n",
       "    <tr>\n",
       "      <th>totrms_abvgrd</th>\n",
       "      <td>0.382025</td>\n",
       "      <td>0.813333</td>\n",
       "      <td>0.341036</td>\n",
       "      <td>0.367860</td>\n",
       "      <td>0.294787</td>\n",
       "      <td>0.393254</td>\n",
       "      <td>0.137783</td>\n",
       "      <td>0.202397</td>\n",
       "      <td>0.519630</td>\n",
       "      <td>1.000000</td>\n",
       "      <td>-0.264537</td>\n",
       "      <td>-0.275682</td>\n",
       "      <td>-0.194185</td>\n",
       "      <td>-0.225754</td>\n",
       "      <td>-0.135166</td>\n",
       "      <td>-0.182409</td>\n",
       "      <td>-0.032810</td>\n",
       "      <td>-0.131687</td>\n",
       "      <td>-0.084999</td>\n",
       "      <td>0.103461</td>\n",
       "    </tr>\n",
       "    <tr>\n",
       "      <th>exter_qual</th>\n",
       "      <td>-0.636847</td>\n",
       "      <td>-0.402550</td>\n",
       "      <td>-0.438083</td>\n",
       "      <td>-0.427862</td>\n",
       "      <td>-0.440722</td>\n",
       "      <td>-0.395764</td>\n",
       "      <td>-0.491802</td>\n",
       "      <td>-0.496900</td>\n",
       "      <td>-0.394987</td>\n",
       "      <td>-0.264537</td>\n",
       "      <td>1.000000</td>\n",
       "      <td>0.668251</td>\n",
       "      <td>0.558954</td>\n",
       "      <td>0.394260</td>\n",
       "      <td>0.258327</td>\n",
       "      <td>0.443450</td>\n",
       "      <td>0.252276</td>\n",
       "      <td>0.182640</td>\n",
       "      <td>0.193170</td>\n",
       "      <td>-0.001371</td>\n",
       "    </tr>\n",
       "    <tr>\n",
       "      <th>kitchen_qual</th>\n",
       "      <td>-0.577936</td>\n",
       "      <td>-0.411493</td>\n",
       "      <td>-0.380492</td>\n",
       "      <td>-0.373370</td>\n",
       "      <td>-0.401985</td>\n",
       "      <td>-0.388169</td>\n",
       "      <td>-0.389929</td>\n",
       "      <td>-0.473302</td>\n",
       "      <td>-0.345049</td>\n",
       "      <td>-0.275682</td>\n",
       "      <td>0.668251</td>\n",
       "      <td>1.000000</td>\n",
       "      <td>0.483586</td>\n",
       "      <td>0.341635</td>\n",
       "      <td>0.217466</td>\n",
       "      <td>0.407533</td>\n",
       "      <td>0.238347</td>\n",
       "      <td>0.171884</td>\n",
       "      <td>0.136574</td>\n",
       "      <td>0.018813</td>\n",
       "    </tr>\n",
       "    <tr>\n",
       "      <th>bsmt_qual</th>\n",
       "      <td>-0.562879</td>\n",
       "      <td>-0.352317</td>\n",
       "      <td>-0.434918</td>\n",
       "      <td>-0.486967</td>\n",
       "      <td>-0.322542</td>\n",
       "      <td>-0.310968</td>\n",
       "      <td>-0.631045</td>\n",
       "      <td>-0.536809</td>\n",
       "      <td>-0.464720</td>\n",
       "      <td>-0.194185</td>\n",
       "      <td>0.558954</td>\n",
       "      <td>0.483586</td>\n",
       "      <td>1.000000</td>\n",
       "      <td>0.431366</td>\n",
       "      <td>0.305191</td>\n",
       "      <td>0.395881</td>\n",
       "      <td>0.295386</td>\n",
       "      <td>0.219659</td>\n",
       "      <td>0.137695</td>\n",
       "      <td>0.018961</td>\n",
       "    </tr>\n",
       "    <tr>\n",
       "      <th>garage_finish</th>\n",
       "      <td>-0.417626</td>\n",
       "      <td>-0.299259</td>\n",
       "      <td>-0.183461</td>\n",
       "      <td>-0.234694</td>\n",
       "      <td>-0.271612</td>\n",
       "      <td>-0.254392</td>\n",
       "      <td>-0.460661</td>\n",
       "      <td>-0.390537</td>\n",
       "      <td>-0.334527</td>\n",
       "      <td>-0.225754</td>\n",
       "      <td>0.394260</td>\n",
       "      <td>0.341635</td>\n",
       "      <td>0.431366</td>\n",
       "      <td>1.000000</td>\n",
       "      <td>0.293984</td>\n",
       "      <td>0.302958</td>\n",
       "      <td>0.234643</td>\n",
       "      <td>0.234050</td>\n",
       "      <td>0.175583</td>\n",
       "      <td>0.048996</td>\n",
       "    </tr>\n",
       "    <tr>\n",
       "      <th>garage_type</th>\n",
       "      <td>-0.418889</td>\n",
       "      <td>-0.244614</td>\n",
       "      <td>-0.431173</td>\n",
       "      <td>-0.449936</td>\n",
       "      <td>-0.384691</td>\n",
       "      <td>-0.404319</td>\n",
       "      <td>-0.537150</td>\n",
       "      <td>-0.325087</td>\n",
       "      <td>-0.275128</td>\n",
       "      <td>-0.135166</td>\n",
       "      <td>0.258327</td>\n",
       "      <td>0.217466</td>\n",
       "      <td>0.305191</td>\n",
       "      <td>0.293984</td>\n",
       "      <td>1.000000</td>\n",
       "      <td>0.191334</td>\n",
       "      <td>0.230894</td>\n",
       "      <td>0.249312</td>\n",
       "      <td>0.265570</td>\n",
       "      <td>0.194041</td>\n",
       "    </tr>\n",
       "    <tr>\n",
       "      <th>heating_qc</th>\n",
       "      <td>-0.436873</td>\n",
       "      <td>-0.266551</td>\n",
       "      <td>-0.275709</td>\n",
       "      <td>-0.309030</td>\n",
       "      <td>-0.229461</td>\n",
       "      <td>-0.153719</td>\n",
       "      <td>-0.405309</td>\n",
       "      <td>-0.516822</td>\n",
       "      <td>-0.318241</td>\n",
       "      <td>-0.182409</td>\n",
       "      <td>0.443450</td>\n",
       "      <td>0.407533</td>\n",
       "      <td>0.395881</td>\n",
       "      <td>0.302958</td>\n",
       "      <td>0.191334</td>\n",
       "      <td>1.000000</td>\n",
       "      <td>0.127150</td>\n",
       "      <td>0.125872</td>\n",
       "      <td>0.077984</td>\n",
       "      <td>-0.019455</td>\n",
       "    </tr>\n",
       "    <tr>\n",
       "      <th>bsmt_exposure</th>\n",
       "      <td>-0.303140</td>\n",
       "      <td>-0.104234</td>\n",
       "      <td>-0.254302</td>\n",
       "      <td>-0.244011</td>\n",
       "      <td>-0.337927</td>\n",
       "      <td>-0.260286</td>\n",
       "      <td>-0.313824</td>\n",
       "      <td>-0.239505</td>\n",
       "      <td>-0.092546</td>\n",
       "      <td>-0.032810</td>\n",
       "      <td>0.252276</td>\n",
       "      <td>0.238347</td>\n",
       "      <td>0.295386</td>\n",
       "      <td>0.234643</td>\n",
       "      <td>0.230894</td>\n",
       "      <td>0.127150</td>\n",
       "      <td>1.000000</td>\n",
       "      <td>0.149415</td>\n",
       "      <td>-0.019256</td>\n",
       "      <td>0.183487</td>\n",
       "    </tr>\n",
       "    <tr>\n",
       "      <th>lot_shape</th>\n",
       "      <td>-0.254136</td>\n",
       "      <td>-0.204751</td>\n",
       "      <td>-0.212235</td>\n",
       "      <td>-0.235162</td>\n",
       "      <td>-0.194041</td>\n",
       "      <td>-0.215999</td>\n",
       "      <td>-0.278107</td>\n",
       "      <td>-0.206626</td>\n",
       "      <td>-0.193148</td>\n",
       "      <td>-0.131687</td>\n",
       "      <td>0.182640</td>\n",
       "      <td>0.171884</td>\n",
       "      <td>0.219659</td>\n",
       "      <td>0.234050</td>\n",
       "      <td>0.249312</td>\n",
       "      <td>0.125872</td>\n",
       "      <td>0.149415</td>\n",
       "      <td>1.000000</td>\n",
       "      <td>0.133430</td>\n",
       "      <td>0.107093</td>\n",
       "    </tr>\n",
       "    <tr>\n",
       "      <th>pid</th>\n",
       "      <td>-0.265863</td>\n",
       "      <td>-0.112936</td>\n",
       "      <td>-0.201717</td>\n",
       "      <td>-0.229187</td>\n",
       "      <td>-0.204623</td>\n",
       "      <td>-0.145862</td>\n",
       "      <td>-0.347039</td>\n",
       "      <td>-0.176666</td>\n",
       "      <td>-0.179370</td>\n",
       "      <td>-0.084999</td>\n",
       "      <td>0.193170</td>\n",
       "      <td>0.136574</td>\n",
       "      <td>0.137695</td>\n",
       "      <td>0.175583</td>\n",
       "      <td>0.265570</td>\n",
       "      <td>0.077984</td>\n",
       "      <td>-0.019256</td>\n",
       "      <td>0.133430</td>\n",
       "      <td>1.000000</td>\n",
       "      <td>0.070754</td>\n",
       "    </tr>\n",
       "    <tr>\n",
       "      <th>bsmtfin_type_1</th>\n",
       "      <td>-0.046997</td>\n",
       "      <td>0.033156</td>\n",
       "      <td>-0.118006</td>\n",
       "      <td>-0.089284</td>\n",
       "      <td>-0.167221</td>\n",
       "      <td>-0.136193</td>\n",
       "      <td>-0.169698</td>\n",
       "      <td>-0.065987</td>\n",
       "      <td>0.059304</td>\n",
       "      <td>0.103461</td>\n",
       "      <td>-0.001371</td>\n",
       "      <td>0.018813</td>\n",
       "      <td>0.018961</td>\n",
       "      <td>0.048996</td>\n",
       "      <td>0.194041</td>\n",
       "      <td>-0.019455</td>\n",
       "      <td>0.183487</td>\n",
       "      <td>0.107093</td>\n",
       "      <td>0.070754</td>\n",
       "      <td>1.000000</td>\n",
       "    </tr>\n",
       "  </tbody>\n",
       "</table>\n",
       "</div>"
      ],
      "text/plain": [
       "                overall_qual  gr_liv_area  garage_area  garage_cars  \\\n",
       "overall_qual        1.000000     0.566701     0.563904     0.587447   \n",
       "gr_liv_area         0.566701     1.000000     0.489620     0.485166   \n",
       "garage_area         0.563904     0.489620     1.000000     0.893442   \n",
       "garage_cars         0.587447     0.485166     0.893442     1.000000   \n",
       "total_bsmt_sf       0.549407     0.454245     0.488954     0.433361   \n",
       "1st_flr_sf          0.477136     0.562441     0.498690     0.439006   \n",
       "year_built          0.602964     0.258838     0.488023     0.543313   \n",
       "year_remod/add      0.584654     0.322407     0.397731     0.440365   \n",
       "full_bath           0.515080     0.617323     0.396914     0.465937   \n",
       "totrms_abvgrd       0.382025     0.813333     0.341036     0.367860   \n",
       "exter_qual         -0.636847    -0.402550    -0.438083    -0.427862   \n",
       "kitchen_qual       -0.577936    -0.411493    -0.380492    -0.373370   \n",
       "bsmt_qual          -0.562879    -0.352317    -0.434918    -0.486967   \n",
       "garage_finish      -0.417626    -0.299259    -0.183461    -0.234694   \n",
       "garage_type        -0.418889    -0.244614    -0.431173    -0.449936   \n",
       "heating_qc         -0.436873    -0.266551    -0.275709    -0.309030   \n",
       "bsmt_exposure      -0.303140    -0.104234    -0.254302    -0.244011   \n",
       "lot_shape          -0.254136    -0.204751    -0.212235    -0.235162   \n",
       "pid                -0.265863    -0.112936    -0.201717    -0.229187   \n",
       "bsmtfin_type_1     -0.046997     0.033156    -0.118006    -0.089284   \n",
       "\n",
       "                total_bsmt_sf  1st_flr_sf  year_built  year_remod/add  \\\n",
       "overall_qual         0.549407    0.477136    0.602964        0.584654   \n",
       "gr_liv_area          0.454245    0.562441    0.258838        0.322407   \n",
       "garage_area          0.488954    0.498690    0.488023        0.397731   \n",
       "garage_cars          0.433361    0.439006    0.543313        0.440365   \n",
       "total_bsmt_sf        1.000000    0.808351    0.410605        0.309795   \n",
       "1st_flr_sf           0.808351    1.000000    0.323315        0.244190   \n",
       "year_built           0.410605    0.323315    1.000000        0.629116   \n",
       "year_remod/add       0.309795    0.244190    0.629116        1.000000   \n",
       "full_bath            0.326277    0.367623    0.480169        0.471555   \n",
       "totrms_abvgrd        0.294787    0.393254    0.137783        0.202397   \n",
       "exter_qual          -0.440722   -0.395764   -0.491802       -0.496900   \n",
       "kitchen_qual        -0.401985   -0.388169   -0.389929       -0.473302   \n",
       "bsmt_qual           -0.322542   -0.310968   -0.631045       -0.536809   \n",
       "garage_finish       -0.271612   -0.254392   -0.460661       -0.390537   \n",
       "garage_type         -0.384691   -0.404319   -0.537150       -0.325087   \n",
       "heating_qc          -0.229461   -0.153719   -0.405309       -0.516822   \n",
       "bsmt_exposure       -0.337927   -0.260286   -0.313824       -0.239505   \n",
       "lot_shape           -0.194041   -0.215999   -0.278107       -0.206626   \n",
       "pid                 -0.204623   -0.145862   -0.347039       -0.176666   \n",
       "bsmtfin_type_1      -0.167221   -0.136193   -0.169698       -0.065987   \n",
       "\n",
       "                full_bath  totrms_abvgrd  exter_qual  kitchen_qual  bsmt_qual  \\\n",
       "overall_qual     0.515080       0.382025   -0.636847     -0.577936  -0.562879   \n",
       "gr_liv_area      0.617323       0.813333   -0.402550     -0.411493  -0.352317   \n",
       "garage_area      0.396914       0.341036   -0.438083     -0.380492  -0.434918   \n",
       "garage_cars      0.465937       0.367860   -0.427862     -0.373370  -0.486967   \n",
       "total_bsmt_sf    0.326277       0.294787   -0.440722     -0.401985  -0.322542   \n",
       "1st_flr_sf       0.367623       0.393254   -0.395764     -0.388169  -0.310968   \n",
       "year_built       0.480169       0.137783   -0.491802     -0.389929  -0.631045   \n",
       "year_remod/add   0.471555       0.202397   -0.496900     -0.473302  -0.536809   \n",
       "full_bath        1.000000       0.519630   -0.394987     -0.345049  -0.464720   \n",
       "totrms_abvgrd    0.519630       1.000000   -0.264537     -0.275682  -0.194185   \n",
       "exter_qual      -0.394987      -0.264537    1.000000      0.668251   0.558954   \n",
       "kitchen_qual    -0.345049      -0.275682    0.668251      1.000000   0.483586   \n",
       "bsmt_qual       -0.464720      -0.194185    0.558954      0.483586   1.000000   \n",
       "garage_finish   -0.334527      -0.225754    0.394260      0.341635   0.431366   \n",
       "garage_type     -0.275128      -0.135166    0.258327      0.217466   0.305191   \n",
       "heating_qc      -0.318241      -0.182409    0.443450      0.407533   0.395881   \n",
       "bsmt_exposure   -0.092546      -0.032810    0.252276      0.238347   0.295386   \n",
       "lot_shape       -0.193148      -0.131687    0.182640      0.171884   0.219659   \n",
       "pid             -0.179370      -0.084999    0.193170      0.136574   0.137695   \n",
       "bsmtfin_type_1   0.059304       0.103461   -0.001371      0.018813   0.018961   \n",
       "\n",
       "                garage_finish  garage_type  heating_qc  bsmt_exposure  \\\n",
       "overall_qual        -0.417626    -0.418889   -0.436873      -0.303140   \n",
       "gr_liv_area         -0.299259    -0.244614   -0.266551      -0.104234   \n",
       "garage_area         -0.183461    -0.431173   -0.275709      -0.254302   \n",
       "garage_cars         -0.234694    -0.449936   -0.309030      -0.244011   \n",
       "total_bsmt_sf       -0.271612    -0.384691   -0.229461      -0.337927   \n",
       "1st_flr_sf          -0.254392    -0.404319   -0.153719      -0.260286   \n",
       "year_built          -0.460661    -0.537150   -0.405309      -0.313824   \n",
       "year_remod/add      -0.390537    -0.325087   -0.516822      -0.239505   \n",
       "full_bath           -0.334527    -0.275128   -0.318241      -0.092546   \n",
       "totrms_abvgrd       -0.225754    -0.135166   -0.182409      -0.032810   \n",
       "exter_qual           0.394260     0.258327    0.443450       0.252276   \n",
       "kitchen_qual         0.341635     0.217466    0.407533       0.238347   \n",
       "bsmt_qual            0.431366     0.305191    0.395881       0.295386   \n",
       "garage_finish        1.000000     0.293984    0.302958       0.234643   \n",
       "garage_type          0.293984     1.000000    0.191334       0.230894   \n",
       "heating_qc           0.302958     0.191334    1.000000       0.127150   \n",
       "bsmt_exposure        0.234643     0.230894    0.127150       1.000000   \n",
       "lot_shape            0.234050     0.249312    0.125872       0.149415   \n",
       "pid                  0.175583     0.265570    0.077984      -0.019256   \n",
       "bsmtfin_type_1       0.048996     0.194041   -0.019455       0.183487   \n",
       "\n",
       "                lot_shape       pid  bsmtfin_type_1  \n",
       "overall_qual    -0.254136 -0.265863       -0.046997  \n",
       "gr_liv_area     -0.204751 -0.112936        0.033156  \n",
       "garage_area     -0.212235 -0.201717       -0.118006  \n",
       "garage_cars     -0.235162 -0.229187       -0.089284  \n",
       "total_bsmt_sf   -0.194041 -0.204623       -0.167221  \n",
       "1st_flr_sf      -0.215999 -0.145862       -0.136193  \n",
       "year_built      -0.278107 -0.347039       -0.169698  \n",
       "year_remod/add  -0.206626 -0.176666       -0.065987  \n",
       "full_bath       -0.193148 -0.179370        0.059304  \n",
       "totrms_abvgrd   -0.131687 -0.084999        0.103461  \n",
       "exter_qual       0.182640  0.193170       -0.001371  \n",
       "kitchen_qual     0.171884  0.136574        0.018813  \n",
       "bsmt_qual        0.219659  0.137695        0.018961  \n",
       "garage_finish    0.234050  0.175583        0.048996  \n",
       "garage_type      0.249312  0.265570        0.194041  \n",
       "heating_qc       0.125872  0.077984       -0.019455  \n",
       "bsmt_exposure    0.149415 -0.019256        0.183487  \n",
       "lot_shape        1.000000  0.133430        0.107093  \n",
       "pid              0.133430  1.000000        0.070754  \n",
       "bsmtfin_type_1   0.107093  0.070754        1.000000  "
      ]
     },
     "execution_count": 76,
     "metadata": {},
     "output_type": "execute_result"
    }
   ],
   "source": [
    "# Correlation comparison between selected features\n",
    "X_60.corr()\n",
    "\n",
    "# Confirmed other two treated datasets (X_avg and X_lw) as well\n",
    "    # gr_liv_area vs totrms_abvgrd (0.813333)\n",
    "    # total_bsmt_sf vs 1st_flr_sf (0.808351)\n",
    "    # garage_area vs garage_cars (0.893442)"
   ]
  },
  {
   "cell_type": "markdown",
   "id": "71687d8a",
   "metadata": {},
   "source": [
    "**Discovered 6 features that are correlated with each other:**\n",
    "- gr_liv_area vs totrms_abvgrd (0.813333)\n",
    "- total_bsmt_sf vs 1st_flr_sf (0.808351)\n",
    "- garage_area vs garage_cars (0.893442)\n",
    "\n",
    "**Can also be observed in the following heatmap (bright-yellow boxes)**"
   ]
  },
  {
   "cell_type": "code",
   "execution_count": 77,
   "id": "ac84246e",
   "metadata": {},
   "outputs": [
    {
     "data": {
      "image/png": "[encoded data removed]",
      "text/plain": [
       "<Figure size 1080x720 with 2 Axes>"
      ]
     },
     "metadata": {
      "needs_background": "light"
     },
     "output_type": "display_data"
    }
   ],
   "source": [
    "# Heatmap of feature correlation\n",
    "plt.figure(figsize=(15,10))\n",
    "hm = sns.heatmap(X_60.corr().head(7), annot=True, cmap='cividis', vmin=-1)\n",
    "plt.savefig('../images/feature_heatmap.png', dpi=75)"
   ]
  },
  {
   "cell_type": "code",
   "execution_count": 78,
   "id": "df431c2d",
   "metadata": {},
   "outputs": [
    {
     "data": {
      "text/plain": [
       "saleprice        1.000000\n",
       "gr_liv_area      0.697038\n",
       "totrms_abvgrd    0.504014\n",
       "total_bsmt_sf    0.629303\n",
       "1st_flr_sf       0.618486\n",
       "garage_area      0.649897\n",
       "garage_cars      0.647781\n",
       "Name: saleprice, dtype: float64"
      ]
     },
     "execution_count": 78,
     "metadata": {},
     "output_type": "execute_result"
    }
   ],
   "source": [
    "# Revisited 6 features correlation with sale price \n",
    "train_df[['saleprice','gr_liv_area','totrms_abvgrd',\n",
    "          'total_bsmt_sf','1st_flr_sf','garage_area',\n",
    "          'garage_cars']].corr()['saleprice']"
   ]
  },
  {
   "cell_type": "markdown",
   "id": "07ff81f8",
   "metadata": {},
   "source": [
    "**Amongst each pair of correlated features, the one that has a lower correlation with saleprice was dropped:**\n",
    "- totrms_abvgrd\n",
    "- 1st_flr_sf\n",
    "- garage_cars"
   ]
  },
  {
   "cell_type": "code",
   "execution_count": 79,
   "id": "3a76954c",
   "metadata": {},
   "outputs": [],
   "source": [
    "# Dropped accordingly from top_features list (as we'll use it later on)\n",
    "for i in ['totrms_abvgrd','1st_flr_sf','garage_cars']:\n",
    "    top_features.remove(i)\n",
    "    \n",
    "# Redefined\n",
    "X_60 = train_df_60[top_features]\n",
    "X_avg = train_df_avg[top_features]\n",
    "X_lw = train_df_lw[top_features]"
   ]
  },
  {
   "cell_type": "markdown",
   "id": "ef3912a9",
   "metadata": {},
   "source": [
    "### 2 PART ANALYSIS:\n",
    "- Part 1: Conduct regression on only using the top features selected\n",
    "- Part 2: Conduct regression on all numerical features (should be everything except target due to label-encoding)"
   ]
  },
  {
   "cell_type": "markdown",
   "id": "728479d9",
   "metadata": {},
   "source": [
    "# PART 1 - TOP SELECTED FEATURES"
   ]
  },
  {
   "cell_type": "markdown",
   "id": "d4116472",
   "metadata": {},
   "source": [
    "## LINEAR REGRESSION -BASELINE SCORES (NON-POLY)\n",
    "**We'll compare R2 scores and RMSE (as utilized by Kaggle).**"
   ]
  },
  {
   "cell_type": "code",
   "execution_count": 80,
   "id": "dd29914a",
   "metadata": {},
   "outputs": [],
   "source": [
    "# RMSE formula\n",
    "from sklearn.metrics import mean_squared_error\n",
    "\n",
    "def rmse(target, prediction):\n",
    "    return np.sqrt(mean_squared_error(target, prediction))"
   ]
  },
  {
   "cell_type": "code",
   "execution_count": 81,
   "id": "ef145d7b",
   "metadata": {
    "scrolled": true
   },
   "outputs": [
    {
     "name": "stdout",
     "output_type": "stream",
     "text": [
      "LINEAR REGRESSION SCORES\n",
      "\n",
      "OPTION1 - MODE IMPUTATION\n",
      "Train score: 0.816888\n",
      "Test score: 0.871598\n",
      "Train CV-score: 0.797725\n",
      "RMSE: 27620.689777\n",
      "\n",
      "OPTION2 - MEAN IMPUTATION\n",
      "Train score: 0.816888\n",
      "Test score: 0.871598\n",
      "Train CV-score: 0.797725\n",
      "RMSE: 27620.689777\n",
      "\n",
      "OPTION3 - LISTWISE DELETION\n",
      "Train score: 0.816888\n",
      "Test score: 0.871598\n",
      "Train CV-score: 0.797725\n",
      "RMSE: 27620.689777\n",
      "\n"
     ]
    }
   ],
   "source": [
    "# Linear regression instantiated\n",
    "lr_model = LinearRegression()\n",
    "\n",
    "print('LINEAR REGRESSION SCORES\\n')\n",
    "\n",
    "# OPTION1 - MODE IMPUTATION\n",
    "X_train_60, X_test_60, y_train_60, y_test_60 = train_test_split(X_60,\n",
    "                                                                y_60,\n",
    "                                                                test_size=0.2,\n",
    "                                                                random_state=42)\n",
    "\n",
    "# OPTION2 - MEAN IMPUTATION\n",
    "X_train_avg, X_test_avg, y_train_avg, y_test_avg = train_test_split(X_avg,\n",
    "                                                                    y_avg,\n",
    "                                                                    test_size=0.2,\n",
    "                                                                    random_state=42)\n",
    "\n",
    "# OPTION3 - LISTWISE DELETION\n",
    "X_train_lw, X_test_lw, y_train_lw, y_test_lw = train_test_split(X_lw,\n",
    "                                                    y_lw,\n",
    "                                                    test_size=0.2,\n",
    "                                                    random_state=42)\n",
    "\n",
    "# OPTION 1  fit & scores\n",
    "lr_model.fit(X_train_60, y_train_60)\n",
    "pred_60 = lr_model.predict(X_test_60)\n",
    "print('OPTION1 - MODE IMPUTATION')\n",
    "print(f'Train score: {round(lr_model.score(X_train_60, y_train_60),6)}')\n",
    "print(f'Test score: {round(lr_model.score(X_test_60, y_test_60),6)}')\n",
    "print(f'Train CV-score: {round(cross_val_score(lr_model, X_train_60, y_train_60, cv=9).mean(),6)}')\n",
    "print(f'RMSE: {round(rmse(y_test_60, pred_60),6)}\\n')\n",
    "\n",
    "# OPTION 2 fit & scores\n",
    "lr_model.fit(X_train_avg, y_train_avg)\n",
    "pred_avg = lr_model.predict(X_test_avg)\n",
    "print('OPTION2 - MEAN IMPUTATION')\n",
    "print(f'Train score: {round(lr_model.score(X_train_avg, y_train_avg),6)}')\n",
    "print(f'Test score: {round(lr_model.score(X_test_avg, y_test_avg),6)}')\n",
    "print(f'Train CV-score: {round(cross_val_score(lr_model, X_train_avg, y_train_avg, cv=9).mean(),6)}')\n",
    "print(f'RMSE: {round(rmse(y_test_avg, pred_avg),6)}\\n')\n",
    "\n",
    "# OPTION 4 fit & scores\n",
    "lr_model.fit(X_train_lw, y_train_lw)\n",
    "pred_lw = lr_model.predict(X_test_lw)\n",
    "print('OPTION3 - LISTWISE DELETION')\n",
    "print(f'Train score: {round(lr_model.score(X_train_lw, y_train_lw),6)}')\n",
    "print(f'Test score: {round(lr_model.score(X_test_lw, y_test_lw),6)}')\n",
    "print(f'Train CV-score: {round(cross_val_score(lr_model, X_train_lw, y_train_lw, cv=9).mean(),6)}')\n",
    "print(f'RMSE: {round(rmse(y_test_lw, pred_lw),6)}\\n')\n"
   ]
  },
  {
   "cell_type": "markdown",
   "id": "9cf0a8b3",
   "metadata": {},
   "source": [
    "**LINEAR REGRESSION OBSERVATION:\n",
    "<br> (Moderate bias + high variation) -- model does not perform well**\n",
    "<br>All three datasets have the same scores due to the missing value treatment having no impact on top features selected.\n",
    "<br>**For the rest of non-polynomialized regressions, we'll continue the analysis with just the dataset from OPTION3 (LISTWISE deletion).**\n",
    "<br>We'll revisit the various options of missing value treatment when the regression is conducted again with all features included."
   ]
  },
  {
   "cell_type": "markdown",
   "id": "f6ee2a58",
   "metadata": {},
   "source": [
    "## STANDARDIZED POLYNOMIAL REGRESSION"
   ]
  },
  {
   "cell_type": "code",
   "execution_count": 82,
   "id": "ee663cbb",
   "metadata": {},
   "outputs": [],
   "source": [
    "# Warnings ignored for LassoCV regression process\n",
    "import warnings\n",
    "warnings.filterwarnings('ignore')"
   ]
  },
  {
   "cell_type": "code",
   "execution_count": 83,
   "id": "a3b8129d",
   "metadata": {},
   "outputs": [],
   "source": [
    "# Imports\n",
    "from sklearn.preprocessing import PolynomialFeatures, StandardScaler\n",
    "\n",
    "# Instantiation (degree 2 polynomial)\n",
    "poly = PolynomialFeatures(degree=2, interaction_only=False, include_bias=False)\n",
    "ss = StandardScaler()\n",
    "\n",
    "# Transformation\n",
    "X_lw_poly = poly.fit_transform(X_lw)\n",
    "\n",
    "# Train-test splot\n",
    "X_train_lw, X_test_lw, y_train_lw, y_test_lw = train_test_split(X_lw_poly,\n",
    "                                                    y_lw,\n",
    "                                                    test_size=0.2,\n",
    "                                                    random_state=42)\n",
    "# Standardization\n",
    "X_train_lw_sc = ss.fit_transform(X_train_lw)\n",
    "X_test_lw_sc = ss.transform(X_test_lw)"
   ]
  },
  {
   "cell_type": "markdown",
   "id": "976679df",
   "metadata": {},
   "source": [
    "## LINEAR REGRESSION (POLY)"
   ]
  },
  {
   "cell_type": "code",
   "execution_count": 84,
   "id": "15f3ddd3",
   "metadata": {},
   "outputs": [
    {
     "name": "stdout",
     "output_type": "stream",
     "text": [
      "LINEAR REGRESSION\n",
      "Train score: 0.918276\n",
      "Test score: 0.893245\n",
      "CV-score: 0.879171\n",
      "RMSE: 25185.005038\n",
      "\n"
     ]
    }
   ],
   "source": [
    "# Linear regression with standardized polynomial features this time\n",
    "lr_model.fit(X_train_lw_sc, y_train_lw)\n",
    "pred_lw = lr_model.predict(X_test_lw_sc)\n",
    "\n",
    "print('LINEAR REGRESSION')\n",
    "print(f'Train score: {round(lr_model.score(X_train_lw_sc, y_train_lw),6)}')\n",
    "print(f'Test score: {round(lr_model.score(X_test_lw_sc, y_test_lw),6)}')\n",
    "print(f'CV-score: {round(cross_val_score(lr_model, X_train_lw_sc, y_train_lw,cv=6).mean(),6)}')\n",
    "print(f'RMSE: {round(rmse(y_test_lw, pred_lw),6)}\\n')"
   ]
  },
  {
   "cell_type": "markdown",
   "id": "efa720e8",
   "metadata": {},
   "source": [
    "## RIDGE & LASSO REGULARIZATION"
   ]
  },
  {
   "cell_type": "code",
   "execution_count": 85,
   "id": "f6f5b409",
   "metadata": {},
   "outputs": [],
   "source": [
    "# RidgeCV + LassoCV Imports\n",
    "from sklearn.linear_model import RidgeCV, LassoCV\n",
    "\n",
    "# Ridge instantiated\n",
    "r_alphas = np.logspace(0, 10, 1000)\n",
    "ridge_model = RidgeCV(alphas=r_alphas, scoring='r2', cv=6)\n",
    "\n",
    "# Lasso instantiated\n",
    "l_alphas = np.logspace(-5, 0, 1000)\n",
    "lasso_model = LassoCV(alphas=l_alphas, cv=6)"
   ]
  },
  {
   "cell_type": "code",
   "execution_count": 86,
   "id": "d0abd13c",
   "metadata": {},
   "outputs": [
    {
     "name": "stdout",
     "output_type": "stream",
     "text": [
      "RIDGE\n",
      "Train score: 0.909898\n",
      "Test score: 0.893138\n",
      "RMSE: 25197.635836\n",
      "\n"
     ]
    }
   ],
   "source": [
    "# Ridge scores\n",
    "ridge_model.fit(X_train_lw_sc, y_train_lw)\n",
    "pred_r = ridge_model.predict(X_test_lw_sc)\n",
    "print('RIDGE')\n",
    "print(f'Train score: {round(ridge_model.score(X_train_lw_sc, y_train_lw),6)}')\n",
    "print(f'Test score: {round(ridge_model.score(X_test_lw_sc, y_test_lw),6)}')\n",
    "print(f'RMSE: {round(rmse(y_test_lw, pred_r),6)}\\n')"
   ]
  },
  {
   "cell_type": "code",
   "execution_count": 87,
   "id": "0f78a35b",
   "metadata": {
    "scrolled": true
   },
   "outputs": [
    {
     "name": "stdout",
     "output_type": "stream",
     "text": [
      "LASSO\n",
      "Train score: 0.912977\n",
      "Test score: 0.89195\n",
      "RMSE: 25337.33242\n",
      "\n"
     ]
    }
   ],
   "source": [
    "# Lasso scores\n",
    "lasso_model.fit(X_train_lw_sc, y_train_lw)\n",
    "pred_l = lasso_model.predict(X_test_lw_sc)\n",
    "print('LASSO')\n",
    "print(f'Train score: {round(lasso_model.score(X_train_lw_sc, y_train_lw),6)}')\n",
    "print(f'Test score: {round(lasso_model.score(X_test_lw_sc, y_test_lw),6)}')\n",
    "print(f'RMSE: {round(rmse(y_test_lw, pred_l),6)}\\n')"
   ]
  },
  {
   "cell_type": "markdown",
   "id": "97b141bc",
   "metadata": {},
   "source": [
    "### OBSERVATION:\n",
    "- LINEAR REGRESSION (BASELINE)\n",
    "    - Train score: 0.816888\n",
    "    - Test score: 0.871598\n",
    "    - Train CV-score: 0.797725\n",
    "    - RMSE: 27620.689777\n",
    "\n",
    "\n",
    "- LINEAR REGRESSION\n",
    "    - Train score: 0.918276\n",
    "    - Test score: 0.893245\n",
    "    - CV-score: 0.879171\n",
    "    - RSME: 25185.005038\n",
    "- RIDGE\n",
    "    - Train score: 0.909898\n",
    "    - Test score: 0.893138\n",
    "    - RSME: 25197.635836\n",
    "- LASSO\n",
    "    - Train score: 0.912977\n",
    "    - Test score: 0.89195\n",
    "    - RSME: 25337.33242\n",
    "\n",
    "    \n",
    "**All standardized-polynomial regressions scored better than the baseline linear regression.\n",
    "<br>RIDGE would be the best option amongst the three as it has the lowest variance.\n",
    "<br>We'll use the RidgeCV regression for the initial Kaggle submission.**"
   ]
  },
  {
   "cell_type": "code",
   "execution_count": 88,
   "id": "e00e967a",
   "metadata": {},
   "outputs": [
    {
     "data": {
      "image/png": "[encoded data removed]",
      "text/plain": [
       "<Figure size 720x720 with 1 Axes>"
      ]
     },
     "metadata": {
      "needs_background": "light"
     },
     "output_type": "display_data"
    }
   ],
   "source": [
    "# Predictions scatter plot\n",
    "\n",
    "plt.figure(figsize=(10,10))\n",
    "sns.scatterplot(y_test_lw,pred_r, color='#1E88E5')\n",
    "\n",
    "plt.xlabel(\"PREDICTED SALE PRICE\", weight='bold')\n",
    "plt.ylabel(\"ACTUAL SALE PRICE\", weight='bold')\n",
    "plt.title(\"PART 1 - RIDGE REGRESSION\", weight='bold')\n",
    "plt.plot(pred_r, pred_r, color=\"#D81B60\");\n",
    "\n",
    "plt.savefig('../images/first_pred_scatter.png', dpi=75)"
   ]
  },
  {
   "cell_type": "markdown",
   "id": "f803576f",
   "metadata": {},
   "source": [
    "**OBSERVATION:\n",
    "<br>The line of best fit looks well-centred within the target data.**"
   ]
  },
  {
   "cell_type": "code",
   "execution_count": 89,
   "id": "a8291fd0",
   "metadata": {
    "scrolled": false
   },
   "outputs": [
    {
     "data": {
      "image/png": "[encoded data removed]",
      "text/plain": [
       "<Figure size 720x720 with 1 Axes>"
      ]
     },
     "metadata": {
      "needs_background": "light"
     },
     "output_type": "display_data"
    }
   ],
   "source": [
    "# Residuals scatter plot\n",
    "resid = y_test_lw - pred_r\n",
    "\n",
    "plt.figure(figsize=(10,10))\n",
    "sns.scatterplot(y_test_lw,resid, color='#1E88E5')\n",
    "\n",
    "plt.xlabel(\"RESIDUALS\", weight='bold')\n",
    "plt.ylabel(\"ACTUAL SALE PRICE\", weight='bold')\n",
    "plt.title(\"PART 1 - RIDGE REGRESSION\", weight='bold')\n",
    "plt.axhline(y=0, color=\"#D81B60\");\n",
    "\n",
    "plt.savefig('../images/first_resid_scatter.png', dpi=75)"
   ]
  },
  {
   "cell_type": "markdown",
   "id": "470f0a09",
   "metadata": {},
   "source": [
    "**OBSERVATION:\n",
    "<br>The residuals look evenly spread out between the top and bottom sections.**"
   ]
  },
  {
   "cell_type": "markdown",
   "id": "9afdbacd",
   "metadata": {},
   "source": [
    "## TEST DATA TRANSFORMATION"
   ]
  },
  {
   "cell_type": "code",
   "execution_count": 90,
   "id": "53dee53a",
   "metadata": {},
   "outputs": [],
   "source": [
    "# Preprocessing already fit with training data\n",
    "# Test data transformation\n",
    "X_pred = test_df_lw[top_features]\n",
    "X_pred_poly = poly.transform(X_pred)\n",
    "X_pred_sc = ss.transform(X_pred_poly)"
   ]
  },
  {
   "cell_type": "code",
   "execution_count": 91,
   "id": "76fc1d9a",
   "metadata": {},
   "outputs": [
    {
     "name": "stdout",
     "output_type": "stream",
     "text": [
      "(1640, 170)\n",
      "(878, 170)\n"
     ]
    }
   ],
   "source": [
    "# Number of features match and 878 rows present\n",
    "print(X_train_lw_sc.shape)\n",
    "print(X_pred_sc.shape)"
   ]
  },
  {
   "cell_type": "code",
   "execution_count": 92,
   "id": "e8ffbe22",
   "metadata": {},
   "outputs": [],
   "source": [
    "# Stored predictions will be based on RidgeCV\n",
    "test_df_lw['SalePrice'] = ridge_model.predict(X_pred_sc).round(4)"
   ]
  },
  {
   "cell_type": "code",
   "execution_count": 93,
   "id": "eb34db67",
   "metadata": {},
   "outputs": [
    {
     "data": {
      "text/html": [
       "<div>\n",
       "<style scoped>\n",
       "    .dataframe tbody tr th:only-of-type {\n",
       "        vertical-align: middle;\n",
       "    }\n",
       "\n",
       "    .dataframe tbody tr th {\n",
       "        vertical-align: top;\n",
       "    }\n",
       "\n",
       "    .dataframe thead th {\n",
       "        text-align: right;\n",
       "    }\n",
       "</style>\n",
       "<table border=\"1\" class=\"dataframe\">\n",
       "  <thead>\n",
       "    <tr style=\"text-align: right;\">\n",
       "      <th></th>\n",
       "      <th>Id</th>\n",
       "      <th>SalePrice</th>\n",
       "    </tr>\n",
       "  </thead>\n",
       "  <tbody>\n",
       "    <tr>\n",
       "      <th>0</th>\n",
       "      <td>2</td>\n",
       "      <td>113931.5307</td>\n",
       "    </tr>\n",
       "    <tr>\n",
       "      <th>1</th>\n",
       "      <td>4</td>\n",
       "      <td>255815.7247</td>\n",
       "    </tr>\n",
       "    <tr>\n",
       "      <th>2</th>\n",
       "      <td>6</td>\n",
       "      <td>184789.2444</td>\n",
       "    </tr>\n",
       "    <tr>\n",
       "      <th>3</th>\n",
       "      <td>7</td>\n",
       "      <td>221997.0355</td>\n",
       "    </tr>\n",
       "    <tr>\n",
       "      <th>4</th>\n",
       "      <td>17</td>\n",
       "      <td>195768.4759</td>\n",
       "    </tr>\n",
       "  </tbody>\n",
       "</table>\n",
       "</div>"
      ],
      "text/plain": [
       "   Id    SalePrice\n",
       "0   2  113931.5307\n",
       "1   4  255815.7247\n",
       "2   6  184789.2444\n",
       "3   7  221997.0355\n",
       "4  17  195768.4759"
      ]
     },
     "execution_count": 93,
     "metadata": {},
     "output_type": "execute_result"
    }
   ],
   "source": [
    "# Modifications for Kaggle format\n",
    "pred = test_df_lw[['id','SalePrice']].sort_values('id').reset_index(drop=True)\n",
    "pred.rename(columns={'id':'Id'}, inplace=True)\n",
    "pred.head()"
   ]
  },
  {
   "cell_type": "code",
   "execution_count": 94,
   "id": "f2339666",
   "metadata": {},
   "outputs": [],
   "source": [
    "# Exported\n",
    "pred.to_csv('../datasets/submission_first.csv',index=False)"
   ]
  },
  {
   "cell_type": "markdown",
   "id": "bdc65277",
   "metadata": {},
   "source": [
    "## KAGGLE RESULTS:\n",
    "- PRIVATE: 23689.68473\n",
    "- PUBLIC: 28792.50789"
   ]
  },
  {
   "cell_type": "markdown",
   "id": "f2902979",
   "metadata": {},
   "source": [
    "# PART 2 - ALL NUMERICAL FEATUREs INCLUSIVE\n",
    "**All 3 options of missing value treatments are re-introduced in this re-analysis.**"
   ]
  },
  {
   "cell_type": "code",
   "execution_count": 95,
   "id": "7f5213f8",
   "metadata": {},
   "outputs": [],
   "source": [
    "# Cleared previous results\n",
    "test_df_lw.drop('SalePrice', axis=1, inplace=True)"
   ]
  },
  {
   "cell_type": "code",
   "execution_count": 96,
   "id": "eac82b62",
   "metadata": {},
   "outputs": [],
   "source": [
    "# Features and targets redefined with all features utilized\n",
    "\n",
    "# OPTION1\n",
    "X_60 = train_df_60.drop('saleprice', axis=1)\n",
    "y_60 = train_df_60['saleprice']\n",
    "\n",
    "# OPTION2\n",
    "X_avg = train_df_avg.drop('saleprice', axis=1)\n",
    "y_avg = train_df_avg['saleprice']\n",
    "\n",
    "# OPTION3\n",
    "X_lw = train_df_lw.drop('saleprice', axis=1)\n",
    "y_lw = train_df_lw['saleprice']"
   ]
  },
  {
   "cell_type": "markdown",
   "id": "d40e0f1e",
   "metadata": {},
   "source": [
    "## LINEAR REGRESSION -- BASELINE SCORE (NON-POLY)"
   ]
  },
  {
   "cell_type": "code",
   "execution_count": 97,
   "id": "45ba1c29",
   "metadata": {},
   "outputs": [
    {
     "name": "stdout",
     "output_type": "stream",
     "text": [
      "LINEAR REGRESSION SCORES\n",
      "\n",
      "OPTION1 - MODE IMPUTATION\n",
      "Train score: 0.867087\n",
      "Test score: 0.886727\n",
      "Train CV-score: 0.796789\n",
      "RMSE: 25942.535823\n",
      "\n",
      "OPTION2 - MEAN IMPUTATION\n",
      "Train score: 0.867217\n",
      "Test score: 0.886609\n",
      "Train CV-score: 0.797254\n",
      "RMSE: 25956.061398\n",
      "\n",
      "OPTION3 - LISTWISE DELETION\n",
      "Train score: 0.866912\n",
      "Test score: 0.886977\n",
      "Train CV-score: 0.799743\n",
      "RMSE: 25913.818963\n",
      "\n"
     ]
    }
   ],
   "source": [
    "# Linear regression repeated as before\n",
    "# already instantiated\n",
    "\n",
    "print('LINEAR REGRESSION SCORES\\n')\n",
    "\n",
    "# OPTION1 - MODE IMPUTATION\n",
    "X_train_60, X_test_60, y_train_60, y_test_60 = train_test_split(X_60,\n",
    "                                                                y_60,\n",
    "                                                                test_size=0.2,\n",
    "                                                                random_state=42)\n",
    "\n",
    "# OPTION2 - MEAN IMPUTATION\n",
    "X_train_avg, X_test_avg, y_train_avg, y_test_avg = train_test_split(X_avg,\n",
    "                                                                    y_avg,\n",
    "                                                                    test_size=0.2,\n",
    "                                                                    random_state=42)\n",
    "\n",
    "# OPTION3 - LISTWISE DELETION\n",
    "X_train_lw, X_test_lw, y_train_lw, y_test_lw = train_test_split(X_lw,\n",
    "                                                    y_lw,\n",
    "                                                    test_size=0.2,\n",
    "                                                    random_state=42)\n",
    "\n",
    "# OPTION 1 fit & scores\n",
    "lr_model.fit(X_train_60, y_train_60)\n",
    "pred_60 = lr_model.predict(X_test_60)\n",
    "print('OPTION1 - MODE IMPUTATION')\n",
    "print(f'Train score: {round(lr_model.score(X_train_60, y_train_60),6)}')\n",
    "print(f'Test score: {round(lr_model.score(X_test_60, y_test_60),6)}')\n",
    "print(f'Train CV-score: {round(cross_val_score(lr_model, X_train_60, y_train_60, cv=9).mean(),6)}')\n",
    "print(f'RMSE: {round(rmse(y_test_60, pred_60),6)}\\n')\n",
    "\n",
    "# OPTION 2 fit & scores\n",
    "lr_model.fit(X_train_avg, y_train_avg)\n",
    "pred_avg = lr_model.predict(X_test_avg)\n",
    "print('OPTION2 - MEAN IMPUTATION')\n",
    "print(f'Train score: {round(lr_model.score(X_train_avg, y_train_avg),6)}')\n",
    "print(f'Test score: {round(lr_model.score(X_test_avg, y_test_avg),6)}')\n",
    "print(f'Train CV-score: {round(cross_val_score(lr_model, X_train_avg, y_train_avg, cv=9).mean(),6)}')\n",
    "print(f'RMSE: {round(rmse(y_test_avg, pred_avg),6)}\\n')\n",
    "\n",
    "# OPTION 4 fit & scores\n",
    "lr_model.fit(X_train_lw, y_train_lw)\n",
    "pred_lw = lr_model.predict(X_test_lw)\n",
    "print('OPTION3 - LISTWISE DELETION')\n",
    "print(f'Train score: {round(lr_model.score(X_train_lw, y_train_lw),6)}')\n",
    "print(f'Test score: {round(lr_model.score(X_test_lw, y_test_lw),6)}')\n",
    "print(f'Train CV-score: {round(cross_val_score(lr_model, X_train_lw, y_train_lw, cv=9).mean(),6)}')\n",
    "print(f'RMSE: {round(rmse(y_test_lw, pred_lw),6)}\\n')"
   ]
  },
  {
   "cell_type": "markdown",
   "id": "1263136a",
   "metadata": {},
   "source": [
    "**LINEAR REGRESSION OBSERVATION:**\n",
    "\n",
    "- OPTION1 - MODE IMPUTATION\n",
    "    - Train score: 0.867087\n",
    "    - Test score: 0.886727\n",
    "    - Train CV-score: 0.796789\n",
    "    - RSME: 25942.535823\n",
    "\n",
    "- OPTION2 - MEAN IMPUTATION\n",
    "    - Train score: 0.867217\n",
    "    - Test score: 0.886609\n",
    "    - Train CV-score: 0.797254\n",
    "    - RSME: 25956.061398\n",
    "\n",
    "- OPTION3 - LISTWISE DELETION\n",
    "    - Train score: 0.866912\n",
    "    - Test score: 0.886977\n",
    "    - Train CV-score: 0.799743\n",
    "    - RSME: 25913.818963\n",
    "\n",
    "\n",
    "**All three options display very similar levels of bias and variance that's not preferred.\n",
    "<br> We'll take a look at regularized/standardized/polynomial scores next.**"
   ]
  },
  {
   "cell_type": "markdown",
   "id": "d060c540",
   "metadata": {},
   "source": [
    "## STANDARDIZED POLYNOMIAL REGRESSION"
   ]
  },
  {
   "cell_type": "code",
   "execution_count": 98,
   "id": "84a9959d",
   "metadata": {},
   "outputs": [],
   "source": [
    "# Repeated as before\n",
    "\n",
    "# Instantiation (degree 2 polynomial)\n",
    "\n",
    "# Transformation & Train-test split - OPTION1\n",
    "X_60_poly = poly.fit_transform(X_60)\n",
    "X_train_60, X_test_60, y_train_60, y_test_60 = train_test_split(X_60_poly,\n",
    "                                                    y_60,\n",
    "                                                    test_size=0.2,\n",
    "                                                    random_state=42)\n",
    "\n",
    "# Transformation & Train-test split - OPTION2\n",
    "X_avg_poly = poly.fit_transform(X_avg)\n",
    "X_train_avg, X_test_avg, y_train_avg, y_test_avg = train_test_split(X_avg_poly,\n",
    "                                                    y_avg,\n",
    "                                                    test_size=0.2,\n",
    "                                                    random_state=42)\n",
    "\n",
    "# Transformation & Train-test split - OPTION3\n",
    "X_lw_poly = poly.fit_transform(X_lw)\n",
    "X_train_lw, X_test_lw, y_train_lw, y_test_lw = train_test_split(X_lw_poly,\n",
    "                                                    y_lw,\n",
    "                                                    test_size=0.2,\n",
    "                                                    random_state=42)\n",
    "\n",
    "# Standardization\n",
    "X_train_60_sc = ss.fit_transform(X_train_60)\n",
    "X_test_60_sc = ss.transform(X_test_60)\n",
    "\n",
    "X_train_avg_sc = ss.fit_transform(X_train_avg)\n",
    "X_test_avg_sc = ss.transform(X_test_avg)\n",
    "\n",
    "X_train_lw_sc = ss.fit_transform(X_train_lw)\n",
    "X_test_lw_sc = ss.transform(X_test_lw)"
   ]
  },
  {
   "cell_type": "markdown",
   "id": "6031920f",
   "metadata": {},
   "source": [
    "## LINEAR REGRESSION (POLY)"
   ]
  },
  {
   "cell_type": "code",
   "execution_count": 99,
   "id": "7b0f6e86",
   "metadata": {},
   "outputs": [
    {
     "name": "stdout",
     "output_type": "stream",
     "text": [
      "OPTION1 - MODE IMPUTATION\n",
      "Train score: 1.0\n",
      "Test score: -7545887.93691\n",
      "Train CV-score: -0.32635\n",
      "RMSE: 211740444.964203\n",
      "\n",
      "OPTION2 - MEAN IMPUTATION\n",
      "Train score: 1.0\n",
      "Test score: -610787.59103\n",
      "Train CV-score: -0.240996\n",
      "RMSE: 60241263.906716\n",
      "\n",
      "OPTION3 - LISTWISE DELETION\n",
      "Train score: 1.0\n",
      "Test score: -1100279.261618\n",
      "Train CV-score: -0.25453\n",
      "RMSE: 80853770.61088\n",
      "\n"
     ]
    }
   ],
   "source": [
    "# Linear regression with standardized polynomial features this time\n",
    "\n",
    "# OPTION 1 fit & scores\n",
    "lr_model.fit(X_train_60_sc, y_train_60)\n",
    "pred_60 = lr_model.predict(X_test_60_sc)\n",
    "print('OPTION1 - MODE IMPUTATION')\n",
    "print(f'Train score: {round(lr_model.score(X_train_60_sc, y_train_60),6)}')\n",
    "print(f'Test score: {round(lr_model.score(X_test_60_sc, y_test_60),6)}')\n",
    "print(f'Train CV-score: {round(cross_val_score(lr_model, X_train_60_sc, y_train_60, cv=9).mean(),6)}')\n",
    "print(f'RMSE: {round(rmse(y_test_60, pred_60),6)}\\n')\n",
    "\n",
    "# OPTION 2  fit & scores\n",
    "lr_model.fit(X_train_avg_sc, y_train_avg)\n",
    "pred_avg = lr_model.predict(X_test_avg_sc)\n",
    "print('OPTION2 - MEAN IMPUTATION')\n",
    "print(f'Train score: {round(lr_model.score(X_train_avg_sc, y_train_avg),6)}')\n",
    "print(f'Test score: {round(lr_model.score(X_test_avg_sc, y_test_avg),6)}')\n",
    "print(f'Train CV-score: {round(cross_val_score(lr_model, X_train_avg_sc, y_train_avg, cv=9).mean(),6)}')\n",
    "print(f'RMSE: {round(rmse(y_test_avg, pred_avg),6)}\\n')\n",
    "\n",
    "# OPTION 4 fit & scores\n",
    "lr_model.fit(X_train_lw_sc, y_train_lw)\n",
    "pred_lw = lr_model.predict(X_test_lw_sc)\n",
    "print('OPTION3 - LISTWISE DELETION')\n",
    "print(f'Train score: {round(lr_model.score(X_train_lw_sc, y_train_lw),6)}')\n",
    "print(f'Test score: {round(lr_model.score(X_test_lw_sc, y_test_lw),6)}')\n",
    "print(f'Train CV-score: {round(cross_val_score(lr_model, X_train_lw_sc, y_train_lw, cv=9).mean(),6)}')\n",
    "print(f'RMSE: {round(rmse(y_test_lw, pred_lw),6)}\\n')"
   ]
  },
  {
   "cell_type": "markdown",
   "id": "e205c75d",
   "metadata": {},
   "source": [
    "**Linear regression does not seem to function with standardized polynomial features.\n",
    "<br>We'll observe at RidgeCV and LassoCV regularization instead.**"
   ]
  },
  {
   "cell_type": "markdown",
   "id": "a3f3cb86",
   "metadata": {},
   "source": [
    "## RIDGE REGULARIZATION"
   ]
  },
  {
   "cell_type": "code",
   "execution_count": 100,
   "id": "b1d0f5c0",
   "metadata": {
    "scrolled": true
   },
   "outputs": [
    {
     "name": "stdout",
     "output_type": "stream",
     "text": [
      "RIDGECV REGULARIZATION SCORES\n",
      "\n",
      "OPTION1 - MODE IMPUTATION\n",
      "Train score: 0.89513\n",
      "Test score: 0.903802\n",
      "RMSE: 23907.387191\n",
      "\n",
      "OPTION2 - MEAN IMPUTATION\n",
      "Train score: 0.8951\n",
      "Test score: 0.903751\n",
      "RMSE: 23913.653878\n",
      "\n",
      "OPTION3 - LISTWISE DELETION\n",
      "Train score: 0.894126\n",
      "Test score: 0.903012\n",
      "RMSE: 24005.363596\n",
      "\n"
     ]
    }
   ],
   "source": [
    "# RIDGECV\n",
    "\n",
    "# Ridge instantiated (alpha range reduced to 100 numbers)\n",
    "r_alphas = np.logspace(0, 10, 100)\n",
    "ridge_model = RidgeCV(alphas=r_alphas, scoring='r2', cv=6)\n",
    "print('RIDGECV REGULARIZATION SCORES\\n')\n",
    "\n",
    "# OPTION 1 fit & scores\n",
    "ridge_model.fit(X_train_60_sc, y_train_60)\n",
    "pred_60 = ridge_model.predict(X_test_60_sc)\n",
    "print('OPTION1 - MODE IMPUTATION')\n",
    "print(f'Train score: {round(ridge_model.score(X_train_60_sc, y_train_60),6)}')\n",
    "print(f'Test score: {round(ridge_model.score(X_test_60_sc, y_test_60),6)}')\n",
    "print(f'RMSE: {round(rmse(y_test_60, pred_60),6)}\\n')\n",
    "\n",
    "# OPTION 2  fit & scores\n",
    "ridge_model.fit(X_train_avg_sc, y_train_avg)\n",
    "pred_avg = ridge_model.predict(X_test_avg_sc)\n",
    "print('OPTION2 - MEAN IMPUTATION')\n",
    "print(f'Train score: {round(ridge_model.score(X_train_avg_sc, y_train_avg),6)}')\n",
    "print(f'Test score: {round(ridge_model.score(X_test_avg_sc, y_test_avg),6)}')\n",
    "print(f'RMSE: {round(rmse(y_test_avg, pred_avg),6)}\\n')\n",
    "\n",
    "# OPTION 4 fit & scores\n",
    "ridge_model.fit(X_train_lw_sc, y_train_lw)\n",
    "pred_lw = ridge_model.predict(X_test_lw_sc)\n",
    "print('OPTION3 - LISTWISE DELETION')\n",
    "print(f'Train score: {round(ridge_model.score(X_train_lw_sc, y_train_lw),6)}')\n",
    "print(f'Test score: {round(ridge_model.score(X_test_lw_sc, y_test_lw),6)}')\n",
    "print(f'RMSE: {round(rmse(y_test_lw, pred_lw),6)}\\n')"
   ]
  },
  {
   "cell_type": "markdown",
   "id": "11797eea",
   "metadata": {},
   "source": [
    "**RIDGECV OBSERVATION:**\n",
    "- OPTION1 - MODE IMPUTATION\n",
    "    - Train score: 0.89513\n",
    "    - Test score: 0.903802\n",
    "    - RMSE: 23907.387191\n",
    "\n",
    "- OPTION2 - MEAN IMPUTATION\n",
    "    - Train score: 0.8951\n",
    "    - Test score: 0.903751\n",
    "    - RMSE: 23913.653878\n",
    "\n",
    "- OPTION3 - LISTWISE DELETION\n",
    "    - Train score: 0.894126\n",
    "    - Test score: 0.903012\n",
    "    - RMSE: 24005.363596\n",
    "    \n",
    "**VERY CLOSE: OPTION1 and OPTION2 matching degrees of low variance, low bias, and RMSE. <br>Both slightly underfit.**\n",
    "- OPTION1 score delta: 0.008672\n",
    "- OPTION2 score delta: 0.008651\n",
    "- OPTION3 score delta: 0.008886"
   ]
  },
  {
   "cell_type": "markdown",
   "id": "8a4469dc",
   "metadata": {},
   "source": [
    "## SCATTERPLOT VISUALIZATIONS"
   ]
  },
  {
   "cell_type": "code",
   "execution_count": 101,
   "id": "1c065ebc",
   "metadata": {},
   "outputs": [
    {
     "data": {
      "image/png": "[encoded data removed]",
      "text/plain": [
       "<Figure size 720x720 with 1 Axes>"
      ]
     },
     "metadata": {
      "needs_background": "light"
     },
     "output_type": "display_data"
    }
   ],
   "source": [
    "# Predictions scatter plot\n",
    "\n",
    "plt.figure(figsize=(10,10))\n",
    "sns.scatterplot(y_test_60,pred_60, color='#1E88E5')\n",
    "\n",
    "plt.xlabel(\"PREDICTED SALE PRICE\", weight='bold')\n",
    "plt.ylabel(\"ACTUAL SALE PRICE\", weight='bold')\n",
    "plt.title(\"PART 2 - RIDGE REGRESSION\", weight='bold')\n",
    "plt.plot(pred_60, pred_60, color=\"#D81B60\");\n",
    "\n",
    "plt.savefig('../images/ridge_predicted_scatter.png', dpi=75)"
   ]
  },
  {
   "cell_type": "markdown",
   "id": "060b5cfc",
   "metadata": {},
   "source": [
    "**OBSERVATION:\n",
    "<br>The line of best fit looks well-centred within the target data.**"
   ]
  },
  {
   "cell_type": "code",
   "execution_count": 102,
   "id": "76ab9c24",
   "metadata": {
    "scrolled": false
   },
   "outputs": [
    {
     "data": {
      "image/png": "[encoded data removed]",
      "text/plain": [
       "<Figure size 720x720 with 1 Axes>"
      ]
     },
     "metadata": {
      "needs_background": "light"
     },
     "output_type": "display_data"
    }
   ],
   "source": [
    "# Residuals scatter plot\n",
    "resid = y_test_60 - pred_60\n",
    "\n",
    "plt.figure(figsize=(10,10))\n",
    "sns.scatterplot(y_test_60,resid, color='#1E88E5')\n",
    "\n",
    "plt.xlabel(\"RESIDUALS\", weight='bold')\n",
    "plt.ylabel(\"ACTUAL SALE PRICE\", weight='bold')\n",
    "plt.title(\"PART 2 - RIDGE REGRESSION\", weight='bold')\n",
    "plt.axhline(y=0, color=\"#D81B60\");\n",
    "\n",
    "plt.savefig('../images/ridge_resid_scatter.png', dpi=75)"
   ]
  },
  {
   "cell_type": "markdown",
   "id": "5bec5876",
   "metadata": {},
   "source": [
    "**OBSERVATION:\n",
    "<br>The residuals look evenly spread out between the top and bottom sections.**"
   ]
  },
  {
   "cell_type": "markdown",
   "id": "79b63a68",
   "metadata": {},
   "source": [
    "## LASSO REGULARIZATION"
   ]
  },
  {
   "cell_type": "code",
   "execution_count": 103,
   "id": "87e89e2c",
   "metadata": {
    "scrolled": true
   },
   "outputs": [
    {
     "name": "stdout",
     "output_type": "stream",
     "text": [
      "LASSOCV REGULARIZATION SCORES\n",
      "\n",
      "OPTION1 - MODE IMPUTATION\n",
      "Train score: 0.99711\n",
      "Test score: 0.610676\n",
      "RSME: 48095.465923\n",
      "\n",
      "OPTION2 - MEAN IMPUTATION\n",
      "Train score: 0.997132\n",
      "Test score: 0.617316\n",
      "RSME: 47683.543401\n",
      "\n",
      "OPTION3 - LISTWISE DELETION\n",
      "Train score: 0.996717\n",
      "Test score: 0.462459\n",
      "RSME: 56513.786037\n",
      "\n"
     ]
    }
   ],
   "source": [
    "#LASSOCV\n",
    "\n",
    "# Lasso instantiated (alpha range reduced to 100 numbers)\n",
    "l_alphas = np.logspace(-5, 0, 100)\n",
    "lasso_model = LassoCV(alphas=l_alphas, cv=6)\n",
    "print('LASSOCV REGULARIZATION SCORES\\n')\n",
    "\n",
    "# OPTION 1 fit & scores\n",
    "lasso_model.fit(X_train_60_sc, y_train_60)\n",
    "pred_60 = lasso_model.predict(X_test_60_sc)\n",
    "print('OPTION1 - MODE IMPUTATION')\n",
    "print(f'Train score: {round(lasso_model.score(X_train_60_sc, y_train_60),6)}')\n",
    "print(f'Test score: {round(lasso_model.score(X_test_60_sc, y_test_60),6)}')\n",
    "print(f'RSME: {round(rmse(y_test_60, pred_60),6)}\\n')\n",
    "\n",
    "# OPTION 2  fit & scores\n",
    "lasso_model.fit(X_train_avg_sc, y_train_avg)\n",
    "pred_avg = lasso_model.predict(X_test_avg_sc)\n",
    "print('OPTION2 - MEAN IMPUTATION')\n",
    "print(f'Train score: {round(lasso_model.score(X_train_avg_sc, y_train_avg),6)}')\n",
    "print(f'Test score: {round(lasso_model.score(X_test_avg_sc, y_test_avg),6)}')\n",
    "print(f'RSME: {round(rmse(y_test_avg, pred_avg),6)}\\n')\n",
    "\n",
    "# OPTION 4 fit & scores\n",
    "lasso_model.fit(X_train_lw_sc, y_train_lw)\n",
    "pred_lw = lasso_model.predict(X_test_lw_sc)\n",
    "print('OPTION3 - LISTWISE DELETION')\n",
    "print(f'Train score: {round(lasso_model.score(X_train_lw_sc, y_train_lw),6)}')\n",
    "print(f'Test score: {round(lasso_model.score(X_test_lw_sc, y_test_lw),6)}')\n",
    "print(f'RSME: {round(rmse(y_test_lw, pred_lw),6)}\\n')"
   ]
  },
  {
   "cell_type": "markdown",
   "id": "43cf6a97",
   "metadata": {},
   "source": [
    "**LASSOCV OBSERVATIONS**\n",
    "\n",
    "- OPTION1 - MODE IMPUTATION\n",
    "    - Train score: 0.99711\n",
    "    - Test score: 0.610676\n",
    "    - RSME: 48095.465923\n",
    "\n",
    "- OPTION2 - MEAN IMPUTATION\n",
    "    - Train score: 0.997132\n",
    "    - Test score: 0.617316\n",
    "    - RSME: 47683.543401\n",
    "\n",
    "- OPTION3 - LISTWISE DELETION\n",
    "    - Train score: 0.996717\n",
    "    - Test score: 0.462459\n",
    "    - RSME: 56513.786037\n",
    "    \n",
    "**All scores under the Lasso regularization conveys that they're extremely overfit (extremely low bias + very high variance). Therefore lasso regularization is not the preferred approach for this data. We will not observe the predicted values or residuals plots.**"
   ]
  },
  {
   "cell_type": "markdown",
   "id": "b98727fb",
   "metadata": {},
   "source": [
    "## RE-CAP & SCORE TABLES:\n",
    "Across all R2 scores, the scores from the Ridge regularization of standardized polynomial features (degree=2), inclusive of all features, displayed the least variance with a decently low bias:**\n",
    "- OPTION1 - MODE IMPUTATION\n",
    "    - Train score: 0.89513\n",
    "    - Test score: 0.903802\n",
    "        - Score delta: **0.008672**\n",
    "    - RMSE: 23907.387191\n",
    "\n",
    "- OPTION2 - MEAN IMPUTATION\n",
    "    - Train score: 0.8951\n",
    "    - Test score: 0.903751\n",
    "        - Score delta: **0.008651**\n",
    "    - RMSE: 23913.653878\n",
    "\n",
    "- OPTION3 - LISTWISE DELETION\n",
    "    - Train score: 0.894126\n",
    "    - Test score: 0.903012\n",
    "        - Score delta: **0.008886**\n",
    "    - RMSE: 24005.363596\n",
    "\n",
    "**Refer to the following tables for a visual comparison of scores.**\n",
    "\n",
    "    \n",
    "### PART 1 - TOP FEATURES\n",
    "\n",
    "**AS ALL 3 OPTIONS OF MISSING VALUE TREATEMENT HAD NO IMPACT ON THE TOP FEATURES, THE SCORES ARE BASED ON ONE OF THEM (LISTWISE) TO REPRESENT ALL 3**\n",
    "\n",
    "|MODEL|STANDARDIZED-POLYNOMIAL|ALPHA|CV-FOLD|TRAIN|TEST|CV|RMSE|\n",
    "|:---|:---|:---|---:|---:|---:|---:|---:|\n",
    "|LINEAR-BASELINE|NO|-|6|0.816888|0.871598|0.797725|27620.689777|\n",
    "|LINEAR|YES|-|6|0.918276|0.893245|0.879171|25185.005038|\n",
    "|RIDGE|YES|logspace(0, 10, 1000)|6|0.909898|0.893138|-|25197.635836|\n",
    "|LASSO|YES|logspace(-5, 0, 1000)|6|0.912977|0.89195|-|25337.33242|\n",
    "\n",
    "\n",
    "\n",
    "### PART 2 - ALL FEATURES\n",
    "\n",
    "**OPTION 1 - MODE IMPUTATION**\n",
    "    \n",
    "|MODEL|STANDARDIZED-POLYNOMIAL|ALPHA|CV-FOLD|TRAIN|TEST|CV|RMSE|\n",
    "|:---|:---|:---|---:|---:|---:|---:|---:|\n",
    "|LINEAR-BASELINE|NO|-|6|0.867087|0.886727|0.796789|25942.535823|\n",
    "|LINEAR|YES|-|6|1.0|-7545887.93691|-0.32635|211740444.964203|\n",
    "|RIDGE|YES|logspace(0, 10, 100)|6|0.89513|0.903802|-|23907.387191|\n",
    "|LASSO|YES|logspace(-5, 0, 100)|6|0.99711|0.610676|-|48095.465923|\n",
    "\n",
    "**OPTION 2 - MEAN IMPUTATION**\n",
    "\n",
    "|MODEL|STANDARDIZED-POLYNOMIAL|ALPHA|CV-FOLD|TRAIN|TEST|CV|RMSE|\n",
    "|:---|:---|:---|---:|---:|---:|---:|---:|\n",
    "|LINEAR-BASELINE|NO|-|6|0.867087|0.886727|0.796789|25942.535823|\n",
    "|LINEAR|YES|-|6|1.0|-610787.59103|-0.240996|60241263.906716|\n",
    "|RIDGE|YES|logspace(0, 10, 100)|6|0.8951|0.903751|-|23913.653878|\n",
    "|LASSO|YES|logspace(-5, 0, 100)|6|0.997132|0.617316|-|47683.543401|\n",
    "\n",
    "**OPTION 3 -  LISTWISE DELETION**\n",
    "\n",
    "|MODEL|STANDARDIZED-POLYNOMIAL|ALPHA|CV-FOLD|TRAIN|TEST|CV|RMSE|\n",
    "|:---|:---|:---|---:|---:|---:|---:|---:|\n",
    "|LINEAR-BASELINE|NO|-|6|0.867217|0.886609|0.797254|25956.061398|\n",
    "|LINEAR|YES|-|6|1.0|-1100279.261618|-0.25453|80853770.61088|\n",
    "|RIDGE|YES|logspace(0, 10, 100)|6|0.894126|0.903012|-|24005.363596|\n",
    "|LASSO|YES|logspace(-5, 0, 100)|6|0.996717|0.462459|-|56513.786037|\n",
    "\n",
    "**For the kaggle submission, all 3 missing value treatments will be considered.\n",
    "<br> 3 sets of saleprice predictions will be generated based the RidgeCV Regularization on standardized polynomial features.**"
   ]
  },
  {
   "cell_type": "markdown",
   "id": "5af9c72a",
   "metadata": {},
   "source": [
    "## TEST DATA TRANSFORMATION"
   ]
  },
  {
   "cell_type": "code",
   "execution_count": 104,
   "id": "b1035837",
   "metadata": {},
   "outputs": [],
   "source": [
    "# TEST DATA TRANSFORMATION\n",
    "\n",
    "# OPTION1 - refit & transform\n",
    "ss.fit(poly.fit_transform(X_60))\n",
    "\n",
    "X_pred_test_60 = test_df_60\n",
    "X_pred_test_poly_60 = poly.transform(X_pred_test_60)\n",
    "X_pred_test_60_sc = ss.transform(X_pred_test_poly_60)\n",
    "\n",
    "# OPTION2 - refit & transform\n",
    "ss.fit(poly.fit_transform(X_avg))\n",
    "\n",
    "X_pred_test_avg = test_df_avg\n",
    "X_pred_test_avg_poly = poly.transform(X_pred_test_avg)\n",
    "X_pred_test_avg_sc = ss.transform(X_pred_test_avg_poly)\n",
    "\n",
    "# OPTION3 - refit & transform\n",
    "ss.fit(poly.fit_transform(X_lw))\n",
    "\n",
    "X_pred_test_lw = test_df_lw\n",
    "X_pred_test_lw_poly = poly.transform(X_pred_test_lw)\n",
    "X_pred_test_lw_sc = ss.transform(X_pred_test_lw_poly)"
   ]
  },
  {
   "cell_type": "code",
   "execution_count": 105,
   "id": "05b796ca",
   "metadata": {},
   "outputs": [],
   "source": [
    "# VARIABLES RE-DEFINED FOR EASIER COMPREHENSION\n",
    "\n",
    "# OPTION1\n",
    "X_final_train_60 = ss.fit_transform(poly.fit_transform(X_60))\n",
    "y_final_train_60 = y_60\n",
    "X_final_test_60 = X_pred_test_60_sc # From fit/transform code block above\n",
    "\n",
    "# OPTION2\n",
    "X_final_train_avg = ss.fit_transform(poly.fit_transform(X_avg))\n",
    "y_final_train_avg = y_avg\n",
    "X_final_test_avg = X_pred_test_avg_sc # From fit/transform code block above\n",
    "\n",
    "# OPTION3\n",
    "X_final_train_lw = ss.fit_transform(poly.fit_transform(X_lw))\n",
    "y_final_train_lw = y_lw\n",
    "X_final_test_lw = X_pred_test_lw_sc # From fit/transform code block above"
   ]
  },
  {
   "cell_type": "code",
   "execution_count": 106,
   "id": "a4ae905a",
   "metadata": {},
   "outputs": [
    {
     "name": "stdout",
     "output_type": "stream",
     "text": [
      "(2051, 3320)\n",
      "(878, 3320)\n",
      "\n",
      "(2051, 3320)\n",
      "(878, 3320)\n",
      "\n",
      "(2051, 3239)\n",
      "(878, 3239)\n"
     ]
    }
   ],
   "source": [
    "# Shape confirmation -- number of features aligned, all 878 rows present\n",
    "print(X_final_train_60.shape)\n",
    "print(X_final_test_60.shape)\n",
    "print()\n",
    "print(X_final_train_avg.shape)\n",
    "print(X_final_test_avg.shape)\n",
    "print()\n",
    "print(X_final_train_lw.shape)\n",
    "print(X_final_test_lw.shape)"
   ]
  },
  {
   "cell_type": "code",
   "execution_count": 107,
   "id": "8fdfa5e2",
   "metadata": {},
   "outputs": [],
   "source": [
    "# Values predicted and stored\n",
    "r_alphas = np.logspace(0, 10, 100)\n",
    "ridge_model = RidgeCV(alphas=r_alphas, scoring='r2', cv=6)\n",
    "\n",
    "# OPTION1 - ridgeCV fit & predictions stored\n",
    "ridge_model.fit(X_final_train_60, y_final_train_60)\n",
    "test_df_60['SalePrice'] = ridge_model.predict(X_final_test_60).round(4)\n",
    "\n",
    "# OPTION2 - ridgeCV fit & predictions stored\n",
    "ridge_model.fit(X_final_train_avg, y_final_train_avg)\n",
    "test_df_avg['SalePrice'] = ridge_model.predict(X_final_test_avg).round(4)\n",
    "\n",
    "# OPTION3 - ridgeCV fit & predictions stored\n",
    "ridge_model.fit(X_final_train_lw, y_final_train_lw)\n",
    "test_df_lw['SalePrice'] = ridge_model.predict(X_final_test_lw).round(4)"
   ]
  },
  {
   "cell_type": "code",
   "execution_count": 108,
   "id": "8b79d73e",
   "metadata": {},
   "outputs": [],
   "source": [
    "# test_df_60['SalePrice'].head()"
   ]
  },
  {
   "cell_type": "code",
   "execution_count": 109,
   "id": "27e1bec9",
   "metadata": {},
   "outputs": [],
   "source": [
    "# test_df['SalePrice'].head()"
   ]
  },
  {
   "cell_type": "code",
   "execution_count": 110,
   "id": "30c4f9a8",
   "metadata": {},
   "outputs": [],
   "source": [
    "# id + SalePrice columns extracted, sorted by id, and renamed for Kaggle format\n",
    "\n",
    "# OPTION1\n",
    "pred_60 = test_df_60[['id','SalePrice']].sort_values('id').reset_index(drop=True)\n",
    "pred_60.rename(columns={'id':'Id'}, inplace=True)\n",
    "\n",
    "# OPTION2\n",
    "pred_avg = test_df_avg[['id','SalePrice']].sort_values('id').reset_index(drop=True)\n",
    "pred.rename(columns={'id':'Id'}, inplace=True)\n",
    "\n",
    "# OPTION3\n",
    "pred_lw = test_df_lw[['id','SalePrice']].sort_values('id').reset_index(drop=True)\n",
    "pred.rename(columns={'id':'Id'}, inplace=True)"
   ]
  },
  {
   "cell_type": "code",
   "execution_count": 111,
   "id": "2c92faa2",
   "metadata": {},
   "outputs": [],
   "source": [
    "# Exported with index column dropped for Kaggle format\n",
    "pred_60.to_csv('../datasets/submission_60.csv',index=False)\n",
    "pred_avg.to_csv('../datasets/submission_avg.csv',index=False)\n",
    "pred_lw.to_csv('../datasets/submission_lw.csv',index=False)"
   ]
  },
  {
   "cell_type": "markdown",
   "id": "a55ad6fd",
   "metadata": {},
   "source": [
    "## KAGGLE RESULTS:\n",
    "- OPTION1 - MODE IMPUTATION\n",
    "    - PRIVATE: 27447.06049\n",
    "    - PUBLIC: 36053.58819\n",
    "    \n",
    "- OPTION2 - MEAN IMPUTATION\n",
    "    - PRIVATE: 27439.94897\n",
    "    - PUBLIC: 36047.60455\n",
    "    \n",
    "- OPTION3 - LISTWISE DELETION\n",
    "    - PRIVATE: 27408.75382\n",
    "    - PUBLIC: 36092.94386    "
   ]
  },
  {
   "cell_type": "markdown",
   "id": "5c1e97b0",
   "metadata": {},
   "source": [
    "# FINAL ATTEMPT  FOR BETTER KAGGLE SCORE\n",
    "**Only selecting features with over ||0.3|| correlation with sale price**"
   ]
  },
  {
   "cell_type": "code",
   "execution_count": 112,
   "id": "93d15555",
   "metadata": {
    "scrolled": false
   },
   "outputs": [
    {
     "data": {
      "text/plain": [
       "lot_area          0.296566\n",
       "lot_frontage      0.316293\n",
       "wood_deck_sf      0.326490\n",
       "open_porch_sf     0.333476\n",
       "foundation        0.419417\n",
       "bsmtfin_sf_1      0.423856\n",
       "garage_yr_blt     0.431836\n",
       "fireplaces        0.471093\n",
       "mas_vnr_area      0.503579\n",
       "totrms_abvgrd     0.504014\n",
       "full_bath         0.537969\n",
       "year_remod/add    0.550370\n",
       "year_built        0.571849\n",
       "1st_flr_sf        0.618486\n",
       "total_bsmt_sf     0.629303\n",
       "garage_cars       0.647781\n",
       "garage_area       0.649897\n",
       "gr_liv_area       0.697038\n",
       "overall_qual      0.800207\n",
       "saleprice         1.000000\n",
       "Name: saleprice, dtype: float64"
      ]
     },
     "execution_count": 112,
     "metadata": {},
     "output_type": "execute_result"
    }
   ],
   "source": [
    "# Choosing dataset with lot frontage missing values filled with 60\n",
    "train_df_60.corr().sort_values('saleprice')['saleprice'].tail(20)"
   ]
  },
  {
   "cell_type": "code",
   "execution_count": 113,
   "id": "ec86707a",
   "metadata": {},
   "outputs": [
    {
     "data": {
      "text/plain": [
       "exter_qual       -0.657939\n",
       "kitchen_qual     -0.634168\n",
       "bsmt_qual        -0.579282\n",
       "garage_finish    -0.437326\n",
       "garage_type      -0.427649\n",
       "heating_qc       -0.424909\n",
       "bsmt_exposure    -0.340456\n",
       "lot_shape        -0.299759\n",
       "pid              -0.255052\n",
       "bsmtfin_type_1   -0.145496\n",
       "Name: saleprice, dtype: float64"
      ]
     },
     "execution_count": 113,
     "metadata": {},
     "output_type": "execute_result"
    }
   ],
   "source": [
    "train_df_60.corr().sort_values('saleprice')['saleprice'].head(10)"
   ]
  },
  {
   "cell_type": "code",
   "execution_count": 114,
   "id": "b91eab4f",
   "metadata": {},
   "outputs": [],
   "source": [
    "# New top features above ABS(0.30) correlations with saleprice included\n",
    "top_feat_30 = ['overall_qual','gr_liv_area','garage_area',\n",
    "                'garage_cars','total_bsmt_sf','1st_flr_sf',\n",
    "                'year_built','year_remod/add','full_bath',\n",
    "                'totrms_abvgrd','exter_qual','kitchen_qual', \n",
    "                'bsmt_qual', 'garage_finish', 'garage_type',\n",
    "                'heating_qc', 'bsmt_exposure', 'lot_shape',\n",
    "                'pid', 'bsmtfin_type_1','foundation','open_porch_sf',\n",
    "               'wood_deck_sf','lot_frontage','exter_qual','kitchen_qual',\n",
    "               'bsmt_qual', 'garage_finish', 'garage_type', 'heating_qc',\n",
    "              'bsmt_exposure']"
   ]
  },
  {
   "cell_type": "code",
   "execution_count": 115,
   "id": "b50237e5",
   "metadata": {},
   "outputs": [],
   "source": [
    "# Feature assignment, polynomial-ized, train-test split, standardized\n",
    "X__60 = train_df_60[top_feat_30]\n",
    "y__60 = train_df_60['saleprice']\n",
    "\n",
    "poly = PolynomialFeatures(degree=2, interaction_only=False, include_bias=False)\n",
    "ss = StandardScaler()\n",
    "\n",
    "X__60_poly = poly.fit_transform(X__60)\n",
    "\n",
    "X__60_train, X__60_test, y__60_train, y__60_test = train_test_split(X__60_poly,\n",
    "                                                 y__60,\n",
    "                                                 test_size=0.2,\n",
    "                                                 random_state=42)\n",
    "X__final_train = ss.fit_transform(X__60_train)\n",
    "X__final_test = ss.transform(X__60_test)\n",
    "y__final_train = y__60_train\n",
    "\n",
    "X__60__pred = test_df_60[top_feat_30]\n",
    "X__60_pred_poly = poly.transform(X__60__pred)\n",
    "X__final_pred = ss.transform(X__60_pred_poly)"
   ]
  },
  {
   "cell_type": "code",
   "execution_count": 116,
   "id": "072ee519",
   "metadata": {},
   "outputs": [],
   "source": [
    "# RidgeCV Regularization\n",
    "r_alphas = np.logspace(0, 10, 100)\n",
    "ridge_model = RidgeCV(alphas=r_alphas, scoring='r2', cv=6)\n",
    "\n",
    "ridge_model.fit(X__final_train, y__final_train)\n",
    "\n",
    "# Stored predictions\n",
    "test_df_60['SalePrice'] = ridge_model.predict(X__final_pred).round(4)"
   ]
  },
  {
   "cell_type": "code",
   "execution_count": 117,
   "id": "ec0fe6b7",
   "metadata": {},
   "outputs": [],
   "source": [
    "# Formatted and exported by Kaggle standards\n",
    "pred_60_2 = test_df_60[['id','SalePrice']].sort_values('id').reset_index(drop=True)\n",
    "pred_60_2.rename(columns={'id':'Id'}, inplace=True)\n",
    "pred_60_2.to_csv('../datasets/submission_best.csv',index=False)"
   ]
  },
  {
   "cell_type": "markdown",
   "id": "77776ac1",
   "metadata": {},
   "source": [
    "### A QUICK LOOK AT SCORES AND RESIDUALS PLOT"
   ]
  },
  {
   "cell_type": "code",
   "execution_count": 121,
   "id": "e814c9fc",
   "metadata": {},
   "outputs": [
    {
     "name": "stdout",
     "output_type": "stream",
     "text": [
      "Training score: 0.917352\n",
      "Test score: 0.897467\n",
      "RMSE: 24681.966994\n"
     ]
    }
   ],
   "source": [
    "# Score comparison, seems to exhibit a bit of variance\n",
    "print(f'Training score: {round(ridge_model.score(X__final_train, y__final_train),6)}')\n",
    "print(f'Test score: {round(ridge_model.score(X__final_test, y__60_test),6)}')\n",
    "print(f'RMSE: {round(rmse(y__60_test,ridge_model.predict(X__final_test)),6)}')"
   ]
  },
  {
   "cell_type": "code",
   "execution_count": 122,
   "id": "ad6bd124",
   "metadata": {},
   "outputs": [
    {
     "data": {
      "image/png": "[encoded data removed]",
      "text/plain": [
       "<Figure size 720x720 with 1 Axes>"
      ]
     },
     "metadata": {
      "needs_background": "light"
     },
     "output_type": "display_data"
    }
   ],
   "source": [
    "# Predictions vs. Actual\n",
    "pred_60_2 = ridge_model.predict(X__final_test)\n",
    "\n",
    "plt.figure(figsize=(10,10))\n",
    "sns.scatterplot(y__60_test,pred_60_2, color='#1E88E5')\n",
    "\n",
    "plt.xlabel(\"PREDICTED SALE PRICE\", weight='bold')\n",
    "plt.ylabel(\"ACTUAL SALE PRICE\", weight='bold')\n",
    "plt.title(\"BONUS - RIDGE REGRESSION\", weight='bold')\n",
    "plt.plot(pred_60_2, pred_60_2, color=\"#D81B60\");\n",
    "\n",
    "plt.savefig('../images/best_predicted_scatter.png', dpi=75)"
   ]
  },
  {
   "cell_type": "markdown",
   "id": "88c08cd4",
   "metadata": {},
   "source": [
    "**OBSERVATION:\n",
    "<br>The line of best fit looks well-centred within the target data.**"
   ]
  },
  {
   "cell_type": "code",
   "execution_count": 123,
   "id": "35bbf76e",
   "metadata": {
    "scrolled": false
   },
   "outputs": [
    {
     "data": {
      "image/png": "[encoded data removed]",
      "text/plain": [
       "<Figure size 720x720 with 1 Axes>"
      ]
     },
     "metadata": {
      "needs_background": "light"
     },
     "output_type": "display_data"
    }
   ],
   "source": [
    "# Residuals\n",
    "resid = y__60_test - pred_60_2\n",
    "\n",
    "plt.figure(figsize=(10,10))\n",
    "sns.scatterplot(y__60_test,resid, color='#1E88E5')\n",
    "\n",
    "plt.xlabel(\"RESIDUALS\", weight='bold')\n",
    "plt.ylabel(\"ACTUAL SALE PRICE\", weight='bold')\n",
    "plt.title(\"BONUS - RIDGE REGRESSION\", weight='bold')\n",
    "plt.axhline(y=0, color=\"#D81B60\");\n",
    "\n",
    "plt.savefig('../images/best_resid_scatter.png', dpi=75)"
   ]
  },
  {
   "cell_type": "markdown",
   "id": "06b25de8",
   "metadata": {},
   "source": [
    "**OBSERVATION:\n",
    "<br>The residual plots look evenly spread out between the top and bottom portion of the graph.**"
   ]
  },
  {
   "cell_type": "markdown",
   "id": "e347943f",
   "metadata": {},
   "source": [
    "## KAGGLE RESULTS:\n",
    "- EXTRA MODEL\n",
    "    - PRIVATE: 23037.35443\n",
    "    - PUBLIC: 27908.56387\n",
    "    \n",
    "**Despite being a model yielding the highest RMSE and exhibiting the highest variance compared to the models of that other submissions -- this model's Kaggle score was the lowest (lowest RMSE on missing data).**"
   ]
  },
  {
   "cell_type": "markdown",
   "id": "3ee2eaad",
   "metadata": {},
   "source": [
    "# CONCLUSION\n",
    "Despite the Kaggle competition results, I'm believe the Ridge model with the extremely low variance (from key findings) would be the best model for solving our problem. I'm confident that it has a stronger ability to generalize towards predicting future sale prices.\n",
    "\n",
    "\n",
    "As kaggle has given the highest score to the final model, based on selecting features with over 30% correlation (negative or positive), we can conclude that the following features have the greatest weight on sale price:\n",
    "-Overal quality of materials and finish quality\n",
    "-Square footage (all floors & basement)\n",
    "-Garage size (measured in square feet and car capacity)\n",
    "-Age of the home (year built and year of re-modelling)\n",
    "-Number of bathrooms\n",
    "\n",
    "\n",
    "There are many more features, but these features are the top contributors to sale price which aligns very well with the perspective of a consumer."
   ]
  }
 ],
 "metadata": {
  "kernelspec": {
   "display_name": "Python 3 (ipykernel)",
   "language": "python",
   "name": "python3"
  },
  "language_info": {
   "codemirror_mode": {
    "name": "ipython",
    "version": 3
   },
   "file_extension": ".py",
   "mimetype": "text/x-python",
   "name": "python",
   "nbconvert_exporter": "python",
   "pygments_lexer": "ipython3",
   "version": "3.9.7"
  }
 },
 "nbformat": 4,
 "nbformat_minor": 5
}
