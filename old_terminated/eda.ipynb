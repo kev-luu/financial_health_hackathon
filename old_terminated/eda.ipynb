{
 "cells": [
  {
   "cell_type": "code",
   "execution_count": 1,
   "id": "f717c067",
   "metadata": {},
   "outputs": [],
   "source": [
    "import numpy as np, pandas as pd, matplotlib.pyplot as plt, seaborn as sns"
   ]
  },
  {
   "cell_type": "code",
   "execution_count": 2,
   "id": "27cbe828",
   "metadata": {},
   "outputs": [
    {
     "name": "stdout",
     "output_type": "stream",
     "text": [
      "(41566, 128)\n"
     ]
    },
    {
     "data": {
      "text/html": [
       "<div>\n",
       "<style scoped>\n",
       "    .dataframe tbody tr th:only-of-type {\n",
       "        vertical-align: middle;\n",
       "    }\n",
       "\n",
       "    .dataframe tbody tr th {\n",
       "        vertical-align: top;\n",
       "    }\n",
       "\n",
       "    .dataframe thead th {\n",
       "        text-align: right;\n",
       "    }\n",
       "</style>\n",
       "<table border=\"1\" class=\"dataframe\">\n",
       "  <thead>\n",
       "    <tr style=\"text-align: right;\">\n",
       "      <th></th>\n",
       "      <th>Id</th>\n",
       "      <th>Product_Info_1</th>\n",
       "      <th>Product_Info_2</th>\n",
       "      <th>Product_Info_3</th>\n",
       "      <th>Product_Info_4</th>\n",
       "      <th>Product_Info_5</th>\n",
       "      <th>Product_Info_6</th>\n",
       "      <th>Product_Info_7</th>\n",
       "      <th>Ins_Age</th>\n",
       "      <th>Ht</th>\n",
       "      <th>...</th>\n",
       "      <th>Medical_Keyword_40</th>\n",
       "      <th>Medical_Keyword_41</th>\n",
       "      <th>Medical_Keyword_42</th>\n",
       "      <th>Medical_Keyword_43</th>\n",
       "      <th>Medical_Keyword_44</th>\n",
       "      <th>Medical_Keyword_45</th>\n",
       "      <th>Medical_Keyword_46</th>\n",
       "      <th>Medical_Keyword_47</th>\n",
       "      <th>Medical_Keyword_48</th>\n",
       "      <th>Response</th>\n",
       "    </tr>\n",
       "  </thead>\n",
       "  <tbody>\n",
       "    <tr>\n",
       "      <th>0</th>\n",
       "      <td>1</td>\n",
       "      <td>1</td>\n",
       "      <td>D3</td>\n",
       "      <td>10</td>\n",
       "      <td>0.076923</td>\n",
       "      <td>2</td>\n",
       "      <td>1</td>\n",
       "      <td>1</td>\n",
       "      <td>0.641791</td>\n",
       "      <td>0.581818</td>\n",
       "      <td>...</td>\n",
       "      <td>0</td>\n",
       "      <td>0</td>\n",
       "      <td>0</td>\n",
       "      <td>0</td>\n",
       "      <td>0</td>\n",
       "      <td>0</td>\n",
       "      <td>0</td>\n",
       "      <td>0</td>\n",
       "      <td>0</td>\n",
       "      <td>8</td>\n",
       "    </tr>\n",
       "    <tr>\n",
       "      <th>1</th>\n",
       "      <td>2</td>\n",
       "      <td>1</td>\n",
       "      <td>E1</td>\n",
       "      <td>26</td>\n",
       "      <td>0.076923</td>\n",
       "      <td>2</td>\n",
       "      <td>3</td>\n",
       "      <td>1</td>\n",
       "      <td>0.029851</td>\n",
       "      <td>0.745455</td>\n",
       "      <td>...</td>\n",
       "      <td>0</td>\n",
       "      <td>0</td>\n",
       "      <td>0</td>\n",
       "      <td>0</td>\n",
       "      <td>0</td>\n",
       "      <td>0</td>\n",
       "      <td>0</td>\n",
       "      <td>0</td>\n",
       "      <td>0</td>\n",
       "      <td>8</td>\n",
       "    </tr>\n",
       "    <tr>\n",
       "      <th>2</th>\n",
       "      <td>3</td>\n",
       "      <td>1</td>\n",
       "      <td>D4</td>\n",
       "      <td>10</td>\n",
       "      <td>0.487179</td>\n",
       "      <td>2</td>\n",
       "      <td>3</td>\n",
       "      <td>1</td>\n",
       "      <td>0.164179</td>\n",
       "      <td>0.672727</td>\n",
       "      <td>...</td>\n",
       "      <td>0</td>\n",
       "      <td>0</td>\n",
       "      <td>0</td>\n",
       "      <td>0</td>\n",
       "      <td>0</td>\n",
       "      <td>0</td>\n",
       "      <td>0</td>\n",
       "      <td>0</td>\n",
       "      <td>0</td>\n",
       "      <td>8</td>\n",
       "    </tr>\n",
       "    <tr>\n",
       "      <th>3</th>\n",
       "      <td>4</td>\n",
       "      <td>1</td>\n",
       "      <td>D2</td>\n",
       "      <td>26</td>\n",
       "      <td>0.230769</td>\n",
       "      <td>2</td>\n",
       "      <td>3</td>\n",
       "      <td>1</td>\n",
       "      <td>0.417910</td>\n",
       "      <td>0.654545</td>\n",
       "      <td>...</td>\n",
       "      <td>0</td>\n",
       "      <td>0</td>\n",
       "      <td>0</td>\n",
       "      <td>0</td>\n",
       "      <td>0</td>\n",
       "      <td>0</td>\n",
       "      <td>0</td>\n",
       "      <td>0</td>\n",
       "      <td>0</td>\n",
       "      <td>8</td>\n",
       "    </tr>\n",
       "    <tr>\n",
       "      <th>4</th>\n",
       "      <td>5</td>\n",
       "      <td>1</td>\n",
       "      <td>D2</td>\n",
       "      <td>26</td>\n",
       "      <td>0.230769</td>\n",
       "      <td>3</td>\n",
       "      <td>1</td>\n",
       "      <td>1</td>\n",
       "      <td>0.507463</td>\n",
       "      <td>0.836364</td>\n",
       "      <td>...</td>\n",
       "      <td>0</td>\n",
       "      <td>0</td>\n",
       "      <td>0</td>\n",
       "      <td>0</td>\n",
       "      <td>0</td>\n",
       "      <td>0</td>\n",
       "      <td>0</td>\n",
       "      <td>0</td>\n",
       "      <td>0</td>\n",
       "      <td>8</td>\n",
       "    </tr>\n",
       "  </tbody>\n",
       "</table>\n",
       "<p>5 rows × 128 columns</p>\n",
       "</div>"
      ],
      "text/plain": [
       "   Id  Product_Info_1 Product_Info_2  Product_Info_3  Product_Info_4  \\\n",
       "0   1               1             D3              10        0.076923   \n",
       "1   2               1             E1              26        0.076923   \n",
       "2   3               1             D4              10        0.487179   \n",
       "3   4               1             D2              26        0.230769   \n",
       "4   5               1             D2              26        0.230769   \n",
       "\n",
       "   Product_Info_5  Product_Info_6  Product_Info_7   Ins_Age        Ht  ...  \\\n",
       "0               2               1               1  0.641791  0.581818  ...   \n",
       "1               2               3               1  0.029851  0.745455  ...   \n",
       "2               2               3               1  0.164179  0.672727  ...   \n",
       "3               2               3               1  0.417910  0.654545  ...   \n",
       "4               3               1               1  0.507463  0.836364  ...   \n",
       "\n",
       "   Medical_Keyword_40  Medical_Keyword_41  Medical_Keyword_42  \\\n",
       "0                   0                   0                   0   \n",
       "1                   0                   0                   0   \n",
       "2                   0                   0                   0   \n",
       "3                   0                   0                   0   \n",
       "4                   0                   0                   0   \n",
       "\n",
       "   Medical_Keyword_43  Medical_Keyword_44  Medical_Keyword_45  \\\n",
       "0                   0                   0                   0   \n",
       "1                   0                   0                   0   \n",
       "2                   0                   0                   0   \n",
       "3                   0                   0                   0   \n",
       "4                   0                   0                   0   \n",
       "\n",
       "   Medical_Keyword_46  Medical_Keyword_47  Medical_Keyword_48  Response  \n",
       "0                   0                   0                   0         8  \n",
       "1                   0                   0                   0         8  \n",
       "2                   0                   0                   0         8  \n",
       "3                   0                   0                   0         8  \n",
       "4                   0                   0                   0         8  \n",
       "\n",
       "[5 rows x 128 columns]"
      ]
     },
     "execution_count": 2,
     "metadata": {},
     "output_type": "execute_result"
    }
   ],
   "source": [
    "df = pd.read_csv('data/self_train.csv')\n",
    "\n",
    "# Shape & first 5 rows\n",
    "print(df.shape)\n",
    "df.head()"
   ]
  },
  {
   "cell_type": "code",
   "execution_count": 3,
   "id": "c5eea166",
   "metadata": {},
   "outputs": [
    {
     "name": "stdout",
     "output_type": "stream",
     "text": [
      "<class 'pandas.core.frame.DataFrame'>\n",
      "RangeIndex: 41566 entries, 0 to 41565\n",
      "Columns: 128 entries, Id to Response\n",
      "dtypes: float64(18), int64(109), object(1)\n",
      "memory usage: 40.6+ MB\n"
     ]
    }
   ],
   "source": [
    "# Prelim information\n",
    "df.info()"
   ]
  },
  {
   "cell_type": "code",
   "execution_count": 4,
   "id": "31126f1f",
   "metadata": {},
   "outputs": [
    {
     "data": {
      "text/plain": [
       "Id                      int64\n",
       "Product_Info_1          int64\n",
       "Product_Info_2         object\n",
       "Product_Info_3          int64\n",
       "Product_Info_4        float64\n",
       "                       ...   \n",
       "Medical_Keyword_45      int64\n",
       "Medical_Keyword_46      int64\n",
       "Medical_Keyword_47      int64\n",
       "Medical_Keyword_48      int64\n",
       "Response                int64\n",
       "Length: 128, dtype: object"
      ]
     },
     "execution_count": 4,
     "metadata": {},
     "output_type": "execute_result"
    }
   ],
   "source": [
    "# Prelim information\n",
    "df.dtypes"
   ]
  },
  {
   "cell_type": "code",
   "execution_count": 8,
   "id": "0a1afe1f",
   "metadata": {},
   "outputs": [
    {
     "data": {
      "text/plain": [
       "Medical_History_10     41179\n",
       "Medical_History_32     40788\n",
       "Medical_History_24     38900\n",
       "Medical_History_15     31211\n",
       "Family_Hist_5          29279\n",
       "Family_Hist_3          23894\n",
       "Family_Hist_2          20140\n",
       "Insurance_History_5    17829\n",
       "Family_Hist_4          13425\n",
       "Employment_Info_6       7546\n",
       "Medical_History_1       6153\n",
       "Employment_Info_4       4827\n",
       "Employment_Info_1         15\n",
       "Medical_Keyword_13         0\n",
       "Medical_Keyword_14         0\n",
       "dtype: int64"
      ]
     },
     "execution_count": 8,
     "metadata": {},
     "output_type": "execute_result"
    }
   ],
   "source": [
    "# Missing values -- 13 columns will missing values\n",
    "df.isnull().sum().sort_values(ascending=False).head(15)"
   ]
  },
  {
   "cell_type": "code",
   "execution_count": 9,
   "id": "035ee963",
   "metadata": {},
   "outputs": [
    {
     "data": {
      "text/plain": [
       "Medical_History_10     0.990690\n",
       "Medical_History_32     0.981283\n",
       "Medical_History_24     0.935861\n",
       "Medical_History_15     0.750878\n",
       "Family_Hist_5          0.704398\n",
       "Family_Hist_3          0.574845\n",
       "Family_Hist_2          0.484531\n",
       "Insurance_History_5    0.428932\n",
       "Family_Hist_4          0.322980\n",
       "Employment_Info_6      0.181543\n",
       "Medical_History_1      0.148030\n",
       "Employment_Info_4      0.116129\n",
       "Employment_Info_1      0.000361\n",
       "Medical_Keyword_13     0.000000\n",
       "Medical_Keyword_14     0.000000\n",
       "dtype: float64"
      ]
     },
     "execution_count": 9,
     "metadata": {},
     "output_type": "execute_result"
    }
   ],
   "source": [
    "# Missing values (ratio out of all rows)\n",
    "(df.isnull().sum()/df.shape[0]).sort_values(ascending=False).head(15)"
   ]
  },
  {
   "cell_type": "markdown",
   "id": "a25465eb",
   "metadata": {},
   "source": [
    "### Removing columns with 70% or higher missing values\n",
    "- should expect 5 less columns "
   ]
  },
  {
   "cell_type": "code",
   "execution_count": 10,
   "id": "61a1cdfc",
   "metadata": {},
   "outputs": [
    {
     "data": {
      "text/plain": [
       "['Family_Hist_5',\n",
       " 'Medical_History_10',\n",
       " 'Medical_History_15',\n",
       " 'Medical_History_24',\n",
       " 'Medical_History_32']"
      ]
     },
     "execution_count": 10,
     "metadata": {},
     "output_type": "execute_result"
    }
   ],
   "source": [
    "# Stored all columns with 70% or higher null values\n",
    "null_ratio = df.isnull().sum()/df.shape[0]\n",
    "dropping = [i for i in null_ratio.index if null_ratio[i] >= 0.7]\n",
    "\n",
    "dropping\n",
    "\n",
    "# Will re-use to drop columns from test dataset"
   ]
  },
  {
   "cell_type": "code",
   "execution_count": 11,
   "id": "ca5ff22b",
   "metadata": {},
   "outputs": [
    {
     "data": {
      "text/plain": [
       "(41566, 123)"
      ]
     },
     "execution_count": 11,
     "metadata": {},
     "output_type": "execute_result"
    }
   ],
   "source": [
    "# Dropped columns -- confirmed 5 less columns\n",
    "df = df.drop(dropping, axis=1)\n",
    "df.shape"
   ]
  },
  {
   "cell_type": "code",
   "execution_count": 33,
   "id": "15396ecf",
   "metadata": {},
   "outputs": [
    {
     "data": {
      "text/plain": [
       "Family_Hist_3          23894\n",
       "Family_Hist_2          20140\n",
       "Insurance_History_5    17829\n",
       "Family_Hist_4          13425\n",
       "Employment_Info_6       7546\n",
       "Medical_History_1       6153\n",
       "Employment_Info_4       4827\n",
       "Employment_Info_1         15\n",
       "Medical_Keyword_12         0\n",
       "Medical_Keyword_13         0\n",
       "dtype: int64"
      ]
     },
     "execution_count": 33,
     "metadata": {},
     "output_type": "execute_result"
    }
   ],
   "source": [
    "# Remaining columns with null values to be dealt with later if needed\n",
    "df.isnull().sum().sort_values(ascending=False).head(10)"
   ]
  },
  {
   "cell_type": "markdown",
   "id": "42425287",
   "metadata": {},
   "source": [
    "### We'll focus on the interpretable features first\n",
    "- BMI\n",
    "- Weight\n",
    "- Age\n",
    "- Height"
   ]
  },
  {
   "cell_type": "code",
   "execution_count": 36,
   "id": "481264cc",
   "metadata": {},
   "outputs": [],
   "source": [
    "# Methods\n",
    "def box_dist(feature):\n",
    "    fig, ax = plt.subplots(1, 2, figsize=(16,8))\n",
    "    sns.boxplot(x=feature, data=df, orient='v', ax=ax[0])\n",
    "    sns.distplot(df[feature], ax=ax[1]);\n",
    "    \n",
    "def mean_mode(feature):\n",
    "    print(f'MEAN: {df[feature].mean()}')\n",
    "    print(f'MODE: {df[feature].mode()}')"
   ]
  },
  {
   "cell_type": "code",
   "execution_count": 24,
   "id": "16508fdb",
   "metadata": {},
   "outputs": [
    {
     "name": "stderr",
     "output_type": "stream",
     "text": [
      "/home/kl/anaconda3/lib/python3.9/site-packages/seaborn/_core.py:1326: UserWarning: Vertical orientation ignored with only `x` specified.\n",
      "  warnings.warn(single_var_warning.format(\"Vertical\", \"x\"))\n",
      "/home/kl/anaconda3/lib/python3.9/site-packages/seaborn/distributions.py:2619: FutureWarning: `distplot` is a deprecated function and will be removed in a future version. Please adapt your code to use either `displot` (a figure-level function with similar flexibility) or `histplot` (an axes-level function for histograms).\n",
      "  warnings.warn(msg, FutureWarning)\n"
     ]
    },
    {
     "data": {
      "image/png": "[encoded data removed]",
      "text/plain": [
       "<Figure size 1152x576 with 2 Axes>"
      ]
     },
     "metadata": {
      "needs_background": "light"
     },
     "output_type": "display_data"
    }
   ],
   "source": [
    "# BMI\n",
    "box_dist('BMI')"
   ]
  },
  {
   "cell_type": "code",
   "execution_count": 37,
   "id": "149104f9",
   "metadata": {},
   "outputs": [
    {
     "name": "stdout",
     "output_type": "stream",
     "text": [
      "MEAN: 0.4693728208702357\n",
      "MODE: 0    0.42878\n",
      "dtype: float64\n"
     ]
    }
   ],
   "source": [
    "mean_mode('BMI')"
   ]
  },
  {
   "cell_type": "code",
   "execution_count": 25,
   "id": "a7186dde",
   "metadata": {},
   "outputs": [
    {
     "name": "stderr",
     "output_type": "stream",
     "text": [
      "/home/kl/anaconda3/lib/python3.9/site-packages/seaborn/_core.py:1326: UserWarning: Vertical orientation ignored with only `x` specified.\n",
      "  warnings.warn(single_var_warning.format(\"Vertical\", \"x\"))\n",
      "/home/kl/anaconda3/lib/python3.9/site-packages/seaborn/distributions.py:2619: FutureWarning: `distplot` is a deprecated function and will be removed in a future version. Please adapt your code to use either `displot` (a figure-level function with similar flexibility) or `histplot` (an axes-level function for histograms).\n",
      "  warnings.warn(msg, FutureWarning)\n"
     ]
    },
    {
     "data": {
      "image/png": "[encoded data removed]",
      "text/plain": [
       "<Figure size 1152x576 with 2 Axes>"
      ]
     },
     "metadata": {
      "needs_background": "light"
     },
     "output_type": "display_data"
    }
   ],
   "source": [
    "# Weight\n",
    "box_dist('Wt')"
   ]
  },
  {
   "cell_type": "code",
   "execution_count": 27,
   "id": "ec71b956",
   "metadata": {},
   "outputs": [
    {
     "name": "stderr",
     "output_type": "stream",
     "text": [
      "/home/kl/anaconda3/lib/python3.9/site-packages/seaborn/_core.py:1326: UserWarning: Vertical orientation ignored with only `x` specified.\n",
      "  warnings.warn(single_var_warning.format(\"Vertical\", \"x\"))\n",
      "/home/kl/anaconda3/lib/python3.9/site-packages/seaborn/distributions.py:2619: FutureWarning: `distplot` is a deprecated function and will be removed in a future version. Please adapt your code to use either `displot` (a figure-level function with similar flexibility) or `histplot` (an axes-level function for histograms).\n",
      "  warnings.warn(msg, FutureWarning)\n"
     ]
    },
    {
     "data": {
      "image/png": "[encoded data removed]",
      "text/plain": [
       "<Figure size 1152x576 with 2 Axes>"
      ]
     },
     "metadata": {
      "needs_background": "light"
     },
     "output_type": "display_data"
    }
   ],
   "source": [
    "# Age\n",
    "box_dist('Ins_Age')"
   ]
  },
  {
   "cell_type": "code",
   "execution_count": 28,
   "id": "058e43e1",
   "metadata": {},
   "outputs": [
    {
     "name": "stderr",
     "output_type": "stream",
     "text": [
      "/home/kl/anaconda3/lib/python3.9/site-packages/seaborn/_core.py:1326: UserWarning: Vertical orientation ignored with only `x` specified.\n",
      "  warnings.warn(single_var_warning.format(\"Vertical\", \"x\"))\n",
      "/home/kl/anaconda3/lib/python3.9/site-packages/seaborn/distributions.py:2619: FutureWarning: `distplot` is a deprecated function and will be removed in a future version. Please adapt your code to use either `displot` (a figure-level function with similar flexibility) or `histplot` (an axes-level function for histograms).\n",
      "  warnings.warn(msg, FutureWarning)\n"
     ]
    },
    {
     "data": {
      "image/png": "[encoded data removed]",
      "text/plain": [
       "<Figure size 1152x576 with 2 Axes>"
      ]
     },
     "metadata": {
      "needs_background": "light"
     },
     "output_type": "display_data"
    }
   ],
   "source": [
    "# Height\n",
    "box_dist('Ht')"
   ]
  },
  {
   "cell_type": "markdown",
   "id": "71680739",
   "metadata": {},
   "source": [
    "### Target Class"
   ]
  },
  {
   "cell_type": "code",
   "execution_count": 5,
   "id": "a9e625f6",
   "metadata": {
    "scrolled": true
   },
   "outputs": [
    {
     "data": {
      "text/plain": [
       "8    13574\n",
       "6     7909\n",
       "7     5648\n",
       "2     4633\n",
       "1     4327\n",
       "5     3757\n",
       "4     1015\n",
       "3      703\n",
       "Name: Response, dtype: int64"
      ]
     },
     "execution_count": 5,
     "metadata": {},
     "output_type": "execute_result"
    }
   ],
   "source": [
    "# Distribution of target class\n",
    "df.Response.value_counts()"
   ]
  },
  {
   "cell_type": "code",
   "execution_count": 6,
   "id": "6b8313f1",
   "metadata": {
    "scrolled": true
   },
   "outputs": [
    {
     "data": {
      "text/plain": [
       "8    0.326565\n",
       "6    0.190276\n",
       "7    0.135880\n",
       "2    0.111461\n",
       "1    0.104100\n",
       "5    0.090386\n",
       "4    0.024419\n",
       "3    0.016913\n",
       "Name: Response, dtype: float64"
      ]
     },
     "execution_count": 6,
     "metadata": {},
     "output_type": "execute_result"
    }
   ],
   "source": [
    "# Distribution of target class (ratio)\n",
    "df.Response.value_counts(normalize=True)"
   ]
  },
  {
   "cell_type": "code",
   "execution_count": 7,
   "id": "2c2dc4be",
   "metadata": {},
   "outputs": [
    {
     "data": {
      "image/png": "[encoded data removed]",
      "text/plain": [
       "<Figure size 864x720 with 1 Axes>"
      ]
     },
     "metadata": {
      "needs_background": "light"
     },
     "output_type": "display_data"
    }
   ],
   "source": [
    "# Visualization\n",
    "plt.figure(figsize=(12,10))\n",
    "sns.countplot(x=df.Response).set_title('Target Distribution');"
   ]
  },
  {
   "cell_type": "markdown",
   "id": "5fc97b26",
   "metadata": {},
   "source": [
    "### Safe to assume that Class 8 represents policies/plans with least complications & minimal conditions (low risk), while the rest comes with conditions/complications (high risk)\n",
    "- To further understand the relationship of features, we can consider a binary classification approach:\n",
    "    - Low-risk (1): response 8\n",
    "    - High-risk (0): response 1-7"
   ]
  },
  {
   "cell_type": "code",
   "execution_count": 29,
   "id": "51fb13e4",
   "metadata": {},
   "outputs": [
    {
     "data": {
      "text/plain": [
       "array([8, 1, 2, 3, 5, 7, 6, 4])"
      ]
     },
     "execution_count": 29,
     "metadata": {},
     "output_type": "execute_result"
    }
   ],
   "source": [
    "# Confirmed no nulls or values outside of 1-8 range\n",
    "df['Response'].unique()"
   ]
  },
  {
   "cell_type": "code",
   "execution_count": 30,
   "id": "0b92b866",
   "metadata": {},
   "outputs": [
    {
     "data": {
      "text/plain": [
       "0        1\n",
       "1        1\n",
       "2        1\n",
       "3        1\n",
       "4        1\n",
       "        ..\n",
       "41561    0\n",
       "41562    0\n",
       "41563    1\n",
       "41564    1\n",
       "41565    0\n",
       "Name: target, Length: 41566, dtype: int64"
      ]
     },
     "execution_count": 30,
     "metadata": {},
     "output_type": "execute_result"
    }
   ],
   "source": [
    "# Created binary target column\n",
    "df['target'] = (df['Response'] == 8).astype(int)\n",
    "\n",
    "df['target']"
   ]
  },
  {
   "cell_type": "code",
   "execution_count": 31,
   "id": "f3b140c9",
   "metadata": {},
   "outputs": [
    {
     "data": {
      "text/plain": [
       "0    0.673435\n",
       "1    0.326565\n",
       "Name: target, dtype: float64"
      ]
     },
     "execution_count": 31,
     "metadata": {},
     "output_type": "execute_result"
    }
   ],
   "source": [
    "# Distribution -- imbalanced\n",
    "df.target.value_counts(normalize=True)"
   ]
  },
  {
   "cell_type": "markdown",
   "id": "a1236b45",
   "metadata": {},
   "source": [
    "# Project terminated due to nature of the data not aligning with end goal"
   ]
  }
 ],
 "metadata": {
  "kernelspec": {
   "display_name": "Python 3 (ipykernel)",
   "language": "python",
   "name": "python3"
  },
  "language_info": {
   "codemirror_mode": {
    "name": "ipython",
    "version": 3
   },
   "file_extension": ".py",
   "mimetype": "text/x-python",
   "name": "python",
   "nbconvert_exporter": "python",
   "pygments_lexer": "ipython3",
   "version": "3.9.7"
  }
 },
 "nbformat": 4,
 "nbformat_minor": 5
}
