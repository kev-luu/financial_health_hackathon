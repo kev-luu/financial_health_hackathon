{
 "cells": [
  {
   "cell_type": "markdown",
   "id": "43c9b998",
   "metadata": {},
   "source": [
    "## EXPLORATORY DATA ANALYSIS"
   ]
  },
  {
   "cell_type": "code",
   "execution_count": 1,
   "id": "f717c067",
   "metadata": {},
   "outputs": [],
   "source": [
    "import numpy as np, pandas as pd, matplotlib.pyplot as plt, seaborn as sns"
   ]
  },
  {
   "cell_type": "code",
   "execution_count": 2,
   "id": "27cbe828",
   "metadata": {},
   "outputs": [
    {
     "name": "stdout",
     "output_type": "stream",
     "text": [
      "(1338, 7)\n"
     ]
    },
    {
     "data": {
      "text/html": [
       "<div>\n",
       "<style scoped>\n",
       "    .dataframe tbody tr th:only-of-type {\n",
       "        vertical-align: middle;\n",
       "    }\n",
       "\n",
       "    .dataframe tbody tr th {\n",
       "        vertical-align: top;\n",
       "    }\n",
       "\n",
       "    .dataframe thead th {\n",
       "        text-align: right;\n",
       "    }\n",
       "</style>\n",
       "<table border=\"1\" class=\"dataframe\">\n",
       "  <thead>\n",
       "    <tr style=\"text-align: right;\">\n",
       "      <th></th>\n",
       "      <th>age</th>\n",
       "      <th>sex</th>\n",
       "      <th>bmi</th>\n",
       "      <th>children</th>\n",
       "      <th>smoker</th>\n",
       "      <th>region</th>\n",
       "      <th>charges</th>\n",
       "    </tr>\n",
       "  </thead>\n",
       "  <tbody>\n",
       "    <tr>\n",
       "      <th>0</th>\n",
       "      <td>19</td>\n",
       "      <td>female</td>\n",
       "      <td>27.900</td>\n",
       "      <td>0</td>\n",
       "      <td>yes</td>\n",
       "      <td>southwest</td>\n",
       "      <td>16884.92400</td>\n",
       "    </tr>\n",
       "    <tr>\n",
       "      <th>1</th>\n",
       "      <td>18</td>\n",
       "      <td>male</td>\n",
       "      <td>33.770</td>\n",
       "      <td>1</td>\n",
       "      <td>no</td>\n",
       "      <td>southeast</td>\n",
       "      <td>1725.55230</td>\n",
       "    </tr>\n",
       "    <tr>\n",
       "      <th>2</th>\n",
       "      <td>28</td>\n",
       "      <td>male</td>\n",
       "      <td>33.000</td>\n",
       "      <td>3</td>\n",
       "      <td>no</td>\n",
       "      <td>southeast</td>\n",
       "      <td>4449.46200</td>\n",
       "    </tr>\n",
       "    <tr>\n",
       "      <th>3</th>\n",
       "      <td>33</td>\n",
       "      <td>male</td>\n",
       "      <td>22.705</td>\n",
       "      <td>0</td>\n",
       "      <td>no</td>\n",
       "      <td>northwest</td>\n",
       "      <td>21984.47061</td>\n",
       "    </tr>\n",
       "    <tr>\n",
       "      <th>4</th>\n",
       "      <td>32</td>\n",
       "      <td>male</td>\n",
       "      <td>28.880</td>\n",
       "      <td>0</td>\n",
       "      <td>no</td>\n",
       "      <td>northwest</td>\n",
       "      <td>3866.85520</td>\n",
       "    </tr>\n",
       "  </tbody>\n",
       "</table>\n",
       "</div>"
      ],
      "text/plain": [
       "   age     sex     bmi  children smoker     region      charges\n",
       "0   19  female  27.900         0    yes  southwest  16884.92400\n",
       "1   18    male  33.770         1     no  southeast   1725.55230\n",
       "2   28    male  33.000         3     no  southeast   4449.46200\n",
       "3   33    male  22.705         0     no  northwest  21984.47061\n",
       "4   32    male  28.880         0     no  northwest   3866.85520"
      ]
     },
     "execution_count": 2,
     "metadata": {},
     "output_type": "execute_result"
    }
   ],
   "source": [
    "df = pd.read_csv('data/insurance.csv')\n",
    "\n",
    "# Shape & first 5 rows\n",
    "print(df.shape)\n",
    "df.head()"
   ]
  },
  {
   "cell_type": "code",
   "execution_count": 3,
   "id": "c5eea166",
   "metadata": {},
   "outputs": [
    {
     "name": "stdout",
     "output_type": "stream",
     "text": [
      "<class 'pandas.core.frame.DataFrame'>\n",
      "RangeIndex: 1338 entries, 0 to 1337\n",
      "Data columns (total 7 columns):\n",
      " #   Column    Non-Null Count  Dtype  \n",
      "---  ------    --------------  -----  \n",
      " 0   age       1338 non-null   int64  \n",
      " 1   sex       1338 non-null   object \n",
      " 2   bmi       1338 non-null   float64\n",
      " 3   children  1338 non-null   int64  \n",
      " 4   smoker    1338 non-null   object \n",
      " 5   region    1338 non-null   object \n",
      " 6   charges   1338 non-null   float64\n",
      "dtypes: float64(2), int64(2), object(3)\n",
      "memory usage: 73.3+ KB\n"
     ]
    }
   ],
   "source": [
    "# Prelim information\n",
    "df.info()"
   ]
  },
  {
   "cell_type": "code",
   "execution_count": 4,
   "id": "0a1afe1f",
   "metadata": {},
   "outputs": [
    {
     "data": {
      "text/plain": [
       "age         0\n",
       "sex         0\n",
       "bmi         0\n",
       "children    0\n",
       "smoker      0\n",
       "region      0\n",
       "charges     0\n",
       "dtype: int64"
      ]
     },
     "execution_count": 4,
     "metadata": {},
     "output_type": "execute_result"
    }
   ],
   "source": [
    "# Missing values -- none\n",
    "df.isnull().sum()"
   ]
  },
  {
   "cell_type": "code",
   "execution_count": 5,
   "id": "a720b296",
   "metadata": {},
   "outputs": [
    {
     "name": "stdout",
     "output_type": "stream",
     "text": [
      "['female' 'male']\n",
      "['yes' 'no']\n",
      "['southwest' 'southeast' 'northwest' 'northeast']\n"
     ]
    }
   ],
   "source": [
    "# No unusual categories -- clean data overall\n",
    "print(df.sex.unique())\n",
    "print(df.smoker.unique())\n",
    "print(df.region.unique())"
   ]
  },
  {
   "cell_type": "markdown",
   "id": "3c7f1ffc",
   "metadata": {},
   "source": [
    "### FEATURE ENGINEERING\n",
    "- convert categorical object type columns to numeric type"
   ]
  },
  {
   "cell_type": "code",
   "execution_count": 6,
   "id": "1fbe77db",
   "metadata": {},
   "outputs": [
    {
     "name": "stdout",
     "output_type": "stream",
     "text": [
      "male      0.505232\n",
      "female    0.494768\n",
      "Name: sex, dtype: float64 \n",
      "\n",
      "no     0.795217\n",
      "yes    0.204783\n",
      "Name: smoker, dtype: float64 \n",
      "\n",
      "southeast    0.272048\n",
      "southwest    0.242900\n",
      "northwest    0.242900\n",
      "northeast    0.242152\n",
      "Name: region, dtype: float64\n"
     ]
    }
   ],
   "source": [
    "# Distribution of categorical features\n",
    "print(df.sex.value_counts(normalize=True), '\\n')\n",
    "print(df.smoker.value_counts(normalize=True), '\\n')\n",
    "print(df.region.value_counts(normalize=True))"
   ]
  },
  {
   "cell_type": "markdown",
   "id": "c7b600b9",
   "metadata": {},
   "source": [
    "### Positive class assignment:\n",
    "- sex = male\n",
    "- smoker = no\n",
    "- region doesn't matter for multiclass"
   ]
  },
  {
   "cell_type": "code",
   "execution_count": 7,
   "id": "6960aaea",
   "metadata": {},
   "outputs": [],
   "source": [
    "from sklearn.preprocessing import LabelEncoder"
   ]
  },
  {
   "cell_type": "code",
   "execution_count": 8,
   "id": "fefd1215",
   "metadata": {},
   "outputs": [],
   "source": [
    "# Fortunately, the first row has female and yes to assign as 0\n",
    "le = LabelEncoder()\n",
    "\n",
    "# Sex -- female = 0, male = 1\n",
    "df['sex'] = (df.sex == 'male').astype(int)\n",
    "\n",
    "# Smoker -- yes = 0, no = 1\n",
    "df['smoker'] = (df.smoker == 'no').astype(int)\n",
    "\n",
    "# Region -- northeast = 0, northwest = 1, southeast = 2, southwest = 3\n",
    "df['region'] = le.fit_transform(df['region'])"
   ]
  },
  {
   "cell_type": "code",
   "execution_count": 9,
   "id": "692a9d2f",
   "metadata": {},
   "outputs": [
    {
     "name": "stdout",
     "output_type": "stream",
     "text": [
      "age           int64\n",
      "sex           int64\n",
      "bmi         float64\n",
      "children      int64\n",
      "smoker        int64\n",
      "region        int64\n",
      "charges     float64\n",
      "dtype: object\n"
     ]
    },
    {
     "data": {
      "text/html": [
       "<div>\n",
       "<style scoped>\n",
       "    .dataframe tbody tr th:only-of-type {\n",
       "        vertical-align: middle;\n",
       "    }\n",
       "\n",
       "    .dataframe tbody tr th {\n",
       "        vertical-align: top;\n",
       "    }\n",
       "\n",
       "    .dataframe thead th {\n",
       "        text-align: right;\n",
       "    }\n",
       "</style>\n",
       "<table border=\"1\" class=\"dataframe\">\n",
       "  <thead>\n",
       "    <tr style=\"text-align: right;\">\n",
       "      <th></th>\n",
       "      <th>age</th>\n",
       "      <th>sex</th>\n",
       "      <th>bmi</th>\n",
       "      <th>children</th>\n",
       "      <th>smoker</th>\n",
       "      <th>region</th>\n",
       "      <th>charges</th>\n",
       "    </tr>\n",
       "  </thead>\n",
       "  <tbody>\n",
       "    <tr>\n",
       "      <th>0</th>\n",
       "      <td>19</td>\n",
       "      <td>0</td>\n",
       "      <td>27.900</td>\n",
       "      <td>0</td>\n",
       "      <td>0</td>\n",
       "      <td>3</td>\n",
       "      <td>16884.92400</td>\n",
       "    </tr>\n",
       "    <tr>\n",
       "      <th>1</th>\n",
       "      <td>18</td>\n",
       "      <td>1</td>\n",
       "      <td>33.770</td>\n",
       "      <td>1</td>\n",
       "      <td>1</td>\n",
       "      <td>2</td>\n",
       "      <td>1725.55230</td>\n",
       "    </tr>\n",
       "    <tr>\n",
       "      <th>2</th>\n",
       "      <td>28</td>\n",
       "      <td>1</td>\n",
       "      <td>33.000</td>\n",
       "      <td>3</td>\n",
       "      <td>1</td>\n",
       "      <td>2</td>\n",
       "      <td>4449.46200</td>\n",
       "    </tr>\n",
       "    <tr>\n",
       "      <th>3</th>\n",
       "      <td>33</td>\n",
       "      <td>1</td>\n",
       "      <td>22.705</td>\n",
       "      <td>0</td>\n",
       "      <td>1</td>\n",
       "      <td>1</td>\n",
       "      <td>21984.47061</td>\n",
       "    </tr>\n",
       "    <tr>\n",
       "      <th>4</th>\n",
       "      <td>32</td>\n",
       "      <td>1</td>\n",
       "      <td>28.880</td>\n",
       "      <td>0</td>\n",
       "      <td>1</td>\n",
       "      <td>1</td>\n",
       "      <td>3866.85520</td>\n",
       "    </tr>\n",
       "  </tbody>\n",
       "</table>\n",
       "</div>"
      ],
      "text/plain": [
       "   age  sex     bmi  children  smoker  region      charges\n",
       "0   19    0  27.900         0       0       3  16884.92400\n",
       "1   18    1  33.770         1       1       2   1725.55230\n",
       "2   28    1  33.000         3       1       2   4449.46200\n",
       "3   33    1  22.705         0       1       1  21984.47061\n",
       "4   32    1  28.880         0       1       1   3866.85520"
      ]
     },
     "execution_count": 9,
     "metadata": {},
     "output_type": "execute_result"
    }
   ],
   "source": [
    "# Confirmed all numeric types\n",
    "print(df.dtypes)\n",
    "df.head()"
   ]
  },
  {
   "cell_type": "markdown",
   "id": "8f7217bb",
   "metadata": {},
   "source": [
    "### FEATURE ANALYSIS\n",
    "- distributions of continuous features"
   ]
  },
  {
   "cell_type": "code",
   "execution_count": 10,
   "id": "481264cc",
   "metadata": {},
   "outputs": [],
   "source": [
    "# Methods for \n",
    "def info(feature):\n",
    "    print(f'MEAN: {round(df[feature].mean(),2)}')\n",
    "    print(f'MODE: {df[feature].mode().values[0]}')\n",
    "    \n",
    "    fig, ax = plt.subplots(1, 2, figsize=(16,8))\n",
    "    sns.boxplot(x=feature, data=df, orient='v', ax=ax[0])\n",
    "    sns.distplot(df[feature], ax=ax[1]);"
   ]
  },
  {
   "cell_type": "code",
   "execution_count": 11,
   "id": "16508fdb",
   "metadata": {},
   "outputs": [
    {
     "name": "stdout",
     "output_type": "stream",
     "text": [
      "MEAN: 39.21\n",
      "MODE: 18\n"
     ]
    },
    {
     "name": "stderr",
     "output_type": "stream",
     "text": [
      "/home/kl/anaconda3/lib/python3.9/site-packages/seaborn/_core.py:1326: UserWarning: Vertical orientation ignored with only `x` specified.\n",
      "  warnings.warn(single_var_warning.format(\"Vertical\", \"x\"))\n",
      "/home/kl/anaconda3/lib/python3.9/site-packages/seaborn/distributions.py:2619: FutureWarning: `distplot` is a deprecated function and will be removed in a future version. Please adapt your code to use either `displot` (a figure-level function with similar flexibility) or `histplot` (an axes-level function for histograms).\n",
      "  warnings.warn(msg, FutureWarning)\n"
     ]
    },
    {
     "data": {
      "image/png": "[encoded data removed]",
      "text/plain": [
       "<Figure size 1152x576 with 2 Axes>"
      ]
     },
     "metadata": {
      "needs_background": "light"
     },
     "output_type": "display_data"
    }
   ],
   "source": [
    "# Age\n",
    "info('age')"
   ]
  },
  {
   "cell_type": "code",
   "execution_count": 55,
   "id": "67cdf11c",
   "metadata": {},
   "outputs": [
    {
     "data": {
      "image/png": "[encoded data removed]",
      "text/plain": [
       "<Figure size 576x432 with 1 Axes>"
      ]
     },
     "metadata": {
      "needs_background": "light"
     },
     "output_type": "display_data"
    }
   ],
   "source": [
    "# Scatter of age\n",
    "plt.figure(figsize=(8,6))\n",
    "sns.scatterplot(x=df.age, y=df.charges);\n",
    "\n",
    "# Unsupervised clustering would be useful here"
   ]
  },
  {
   "cell_type": "code",
   "execution_count": 12,
   "id": "a7186dde",
   "metadata": {
    "scrolled": false
   },
   "outputs": [
    {
     "name": "stdout",
     "output_type": "stream",
     "text": [
      "MEAN: 30.66\n",
      "MODE: 32.3\n"
     ]
    },
    {
     "name": "stderr",
     "output_type": "stream",
     "text": [
      "/home/kl/anaconda3/lib/python3.9/site-packages/seaborn/_core.py:1326: UserWarning: Vertical orientation ignored with only `x` specified.\n",
      "  warnings.warn(single_var_warning.format(\"Vertical\", \"x\"))\n",
      "/home/kl/anaconda3/lib/python3.9/site-packages/seaborn/distributions.py:2619: FutureWarning: `distplot` is a deprecated function and will be removed in a future version. Please adapt your code to use either `displot` (a figure-level function with similar flexibility) or `histplot` (an axes-level function for histograms).\n",
      "  warnings.warn(msg, FutureWarning)\n"
     ]
    },
    {
     "data": {
      "image/png": "[encoded data removed]",
      "text/plain": [
       "<Figure size 1152x576 with 2 Axes>"
      ]
     },
     "metadata": {
      "needs_background": "light"
     },
     "output_type": "display_data"
    }
   ],
   "source": [
    "# BMI\n",
    "info('bmi')"
   ]
  },
  {
   "cell_type": "code",
   "execution_count": 56,
   "id": "61fcbf17",
   "metadata": {},
   "outputs": [
    {
     "data": {
      "image/png": "[encoded data removed]",
      "text/plain": [
       "<Figure size 576x432 with 1 Axes>"
      ]
     },
     "metadata": {
      "needs_background": "light"
     },
     "output_type": "display_data"
    }
   ],
   "source": [
    "# SCatter of BMI\n",
    "plt.figure(figsize=(8,6))\n",
    "sns.scatterplot(x=df.bmi, y=df.charges);"
   ]
  },
  {
   "cell_type": "markdown",
   "id": "71680739",
   "metadata": {},
   "source": [
    "### Target Analysis"
   ]
  },
  {
   "cell_type": "code",
   "execution_count": 13,
   "id": "ec71b956",
   "metadata": {},
   "outputs": [
    {
     "name": "stdout",
     "output_type": "stream",
     "text": [
      "MEAN: 13270.42\n",
      "MODE: 1639.5631\n"
     ]
    },
    {
     "name": "stderr",
     "output_type": "stream",
     "text": [
      "/home/kl/anaconda3/lib/python3.9/site-packages/seaborn/_core.py:1326: UserWarning: Vertical orientation ignored with only `x` specified.\n",
      "  warnings.warn(single_var_warning.format(\"Vertical\", \"x\"))\n",
      "/home/kl/anaconda3/lib/python3.9/site-packages/seaborn/distributions.py:2619: FutureWarning: `distplot` is a deprecated function and will be removed in a future version. Please adapt your code to use either `displot` (a figure-level function with similar flexibility) or `histplot` (an axes-level function for histograms).\n",
      "  warnings.warn(msg, FutureWarning)\n"
     ]
    },
    {
     "data": {
      "image/png": "[encoded data removed]",
      "text/plain": [
       "<Figure size 1152x576 with 2 Axes>"
      ]
     },
     "metadata": {
      "needs_background": "light"
     },
     "output_type": "display_data"
    }
   ],
   "source": [
    "# Insurance charges (TARGET)\n",
    "info('charges')"
   ]
  },
  {
   "cell_type": "code",
   "execution_count": 14,
   "id": "bb88d77a",
   "metadata": {},
   "outputs": [],
   "source": [
    "# Correlation\n"
   ]
  },
  {
   "cell_type": "code",
   "execution_count": 15,
   "id": "c34d2f24",
   "metadata": {},
   "outputs": [
    {
     "data": {
      "image/png": "[encoded data removed]",
      "text/plain": [
       "<Figure size 576x432 with 2 Axes>"
      ]
     },
     "metadata": {
      "needs_background": "light"
     },
     "output_type": "display_data"
    }
   ],
   "source": [
    "# Visualization\n",
    "plt.figure(figsize=(8,6))\n",
    "sns.heatmap(df.corr(), annot = True);"
   ]
  },
  {
   "cell_type": "markdown",
   "id": "842434ce",
   "metadata": {},
   "source": [
    "### Observation:\n",
    "- little multi-collinearity, features are barely correlated to one another\n",
    "- being a smoker has the strongest impact on insurance charges"
   ]
  },
  {
   "cell_type": "code",
   "execution_count": 16,
   "id": "a41ba0ed",
   "metadata": {},
   "outputs": [],
   "source": [
    "df.to_csv('data/insurance_updated.csv', index=False)"
   ]
  },
  {
   "cell_type": "markdown",
   "id": "ea9d4b7a",
   "metadata": {},
   "source": [
    "## MODELING"
   ]
  },
  {
   "cell_type": "code",
   "execution_count": 17,
   "id": "859c8269",
   "metadata": {},
   "outputs": [],
   "source": [
    "from sklearn.model_selection import train_test_split, cross_val_score\n",
    "from sklearn.metrics import mean_squared_error, mean_absolute_error\n",
    "from sklearn.pipeline import Pipeline\n",
    "from sklearn.preprocessing import StandardScaler\n",
    "from sklearn.linear_model import LinearRegression, Ridge, Lasso\n",
    "\n",
    "def rmse(target, prediction):\n",
    "    return np.sqrt(mean_squared_error(target, prediction))"
   ]
  },
  {
   "cell_type": "code",
   "execution_count": 18,
   "id": "0a2092eb",
   "metadata": {},
   "outputs": [],
   "source": [
    "X = df.drop('charges', axis=1)\n",
    "y = df['charges']\n",
    "\n",
    "X_train, X_test, y_train, y_test = train_test_split(X, y, random_state=42, test_size=0.2)"
   ]
  },
  {
   "cell_type": "code",
   "execution_count": 19,
   "id": "46884824",
   "metadata": {},
   "outputs": [],
   "source": [
    "# Pipeline method\n",
    "def pipeCV(model, cv=3):\n",
    "    #Pipeline transformer + estimator\n",
    "    pipe = Pipeline([\n",
    "        ('ss', StandardScaler()),\n",
    "        ('regressor', model)\n",
    "    ])\n",
    "\n",
    "    cv_train = cross_val_score(pipe, X_train, y_train, cv=cv).mean()\n",
    "    \n",
    "    pipe.fit(X_train, y_train)\n",
    "    pred = pipe.predict(X_test)\n",
    "\n",
    "    print('SCORES')\n",
    "    print(f'Training CV-R2: {cv_train}')\n",
    "    print(f'Training R2: {pipe.score(X_train, y_train)}')\n",
    "    print(f'Test R2: {pipe.score(X_test, y_test)}')\n",
    "    print(f'Test RMSE: {rmse(y_test, pred)}')\n",
    "    print(f'Test MAE: {mean_absolute_error(y_test, pred)}')"
   ]
  },
  {
   "cell_type": "code",
   "execution_count": 20,
   "id": "0c49c4e7",
   "metadata": {},
   "outputs": [
    {
     "name": "stdout",
     "output_type": "stream",
     "text": [
      "SCORES\n",
      "Training CV-R2: 0.73394292442297\n",
      "Training R2: 0.7417049283233981\n",
      "Test R2: 0.7833463107364537\n",
      "Test RMSE: 5799.587091438359\n",
      "Test MAE: 4186.508898366437\n"
     ]
    }
   ],
   "source": [
    "# Linear Regression\n",
    "pipeCV(LinearRegression(), cv=5)"
   ]
  },
  {
   "cell_type": "code",
   "execution_count": 21,
   "id": "3ffc8233",
   "metadata": {},
   "outputs": [
    {
     "name": "stdout",
     "output_type": "stream",
     "text": [
      "SCORES\n",
      "Training CV-R2: 0.7339574325532207\n",
      "Training R2: 0.7417042540295933\n",
      "Test R2: 0.7833037457661384\n",
      "Test RMSE: 5800.156772780014\n",
      "Test MAE: 4187.971685427726\n"
     ]
    }
   ],
   "source": [
    "# Ridge Regression\n",
    "pipeCV(Ridge(), cv=5)"
   ]
  },
  {
   "cell_type": "code",
   "execution_count": 22,
   "id": "4d9aae31",
   "metadata": {},
   "outputs": [
    {
     "name": "stdout",
     "output_type": "stream",
     "text": [
      "SCORES\n",
      "Training CV-R2: 0.7339515480455793\n",
      "Training R2: 0.7417048844028533\n",
      "Test R2: 0.7833293535279202\n",
      "Test RMSE: 5799.814050147892\n",
      "Test MAE: 4186.623542226471\n"
     ]
    }
   ],
   "source": [
    "# Lasso Regression\n",
    "pipeCV(Lasso(), cv=5)"
   ]
  },
  {
   "cell_type": "markdown",
   "id": "8f3edfa9",
   "metadata": {},
   "source": [
    "### All too low\n",
    "- trying random forest regressor"
   ]
  },
  {
   "cell_type": "code",
   "execution_count": 23,
   "id": "82c5d568",
   "metadata": {},
   "outputs": [],
   "source": [
    "from sklearn.ensemble import RandomForestRegressor"
   ]
  },
  {
   "cell_type": "code",
   "execution_count": 24,
   "id": "54c4f8ed",
   "metadata": {},
   "outputs": [
    {
     "name": "stdout",
     "output_type": "stream",
     "text": [
      "Training R2:  0.9752157816758112\n",
      "Test R2:  0.8669133361234669\n"
     ]
    }
   ],
   "source": [
    "# Manual standardizing\n",
    "ss = StandardScaler().fit(X_train)\n",
    "X_train_sc = ss.transform(X_train)\n",
    "X_test_sc = ss.transform(X_test)\n",
    "\n",
    "rf = RandomForestRegressor(random_state=42, n_jobs=-1)\n",
    "rf.fit(X_train_sc, y_train)\n",
    "\n",
    "print('Training R2: ', rf.score(X_train_sc, y_train))\n",
    "print('Test R2: ', rf.score(X_test_sc, y_test))"
   ]
  },
  {
   "cell_type": "markdown",
   "id": "0c6db7cf",
   "metadata": {},
   "source": [
    "### Very overfit"
   ]
  },
  {
   "cell_type": "code",
   "execution_count": 25,
   "id": "ebd99892",
   "metadata": {},
   "outputs": [],
   "source": [
    "from sklearn.model_selection import GridSearchCV"
   ]
  },
  {
   "cell_type": "code",
   "execution_count": 31,
   "id": "c154f58a",
   "metadata": {},
   "outputs": [
    {
     "name": "stdout",
     "output_type": "stream",
     "text": [
      "Fitting 3 folds for each of 40 candidates, totalling 120 fits\n",
      "TRAINING\n",
      "Best Parameters: {'rf__criterion': 'mse', 'rf__max_depth': 3, 'rf__n_estimators': 1000}\n",
      "Best Score: 0.8457987134674331\n"
     ]
    }
   ],
   "source": [
    "params = {'rf__criterion': ['mse', 'mae'],\n",
    "          'rf__max_depth': [None, 1, 3, 5, 10],\n",
    "#           'rf__min_samples_leaf': [3, 4, 5],\n",
    "#           'rf__min_samples_split': [8, 10, 12],\n",
    "          'rf__n_estimators': [100, 200, 300, 1000]\n",
    "}\n",
    "\n",
    "grid = GridSearchCV(Pipeline([('ss', StandardScaler()),\n",
    "                              ('rf', RandomForestRegressor(random_state=42, n_jobs=-1))\n",
    "                             ]),\n",
    "                    params,\n",
    "                    cv=3,\n",
    "                    verbose=1)\n",
    "\n",
    "grid.fit(X_train, y_train)\n",
    "pred = grid.predict(X_test) \n",
    "\n",
    "print('TRAINING')\n",
    "print(f'Best Parameters: {grid.best_params_}')\n",
    "print(f'Best Score: {grid.best_score_}')\n",
    "\n",
    "\n",
    "## RESULTS SAVED\n",
    "    # Fitting 3 folds for each of 40 candidates, totalling 120 fits\n",
    "    # TRAINING\n",
    "    # Best Parameters: {'rf__criterion': 'mse', 'rf__max_depth': 3, 'rf__n_estimators': 1000}\n",
    "    # Best Score: 0.8457987134674331"
   ]
  },
  {
   "cell_type": "code",
   "execution_count": 33,
   "id": "e36f1099",
   "metadata": {},
   "outputs": [
    {
     "name": "stdout",
     "output_type": "stream",
     "text": [
      "TESTING\n",
      "Test R2: 0.8672539382162959\n",
      "Test RMSE: 4539.675946854429\n",
      "Test MAE: 2717.2743475938964\n"
     ]
    }
   ],
   "source": [
    "print('TESTING')\n",
    "print(f'Test R2: {grid.score(X_test, y_test)}')\n",
    "print(f'Test RMSE: {rmse(y_test, pred)}')\n",
    "print(f'Test MAE: {mean_absolute_error(y_test, pred)}')"
   ]
  },
  {
   "cell_type": "code",
   "execution_count": 37,
   "id": "de27638a",
   "metadata": {},
   "outputs": [
    {
     "name": "stdout",
     "output_type": "stream",
     "text": [
      "0.8605063050032508\n",
      "0.8672539382162959\n"
     ]
    }
   ],
   "source": [
    "# Final fit of best gridsearchCV\n",
    "gs_best = grid.best_estimator_\n",
    "gs_best.fit(X_train, y_train)\n",
    "print(gs_best.score(X_train, y_train))\n",
    "print(gs_best.score(X_test, y_test))"
   ]
  },
  {
   "cell_type": "markdown",
   "id": "ad4346d2",
   "metadata": {},
   "source": [
    "### RESULT:\n",
    "- Very low variance, but moderate amount of bias\n",
    "- Scores:\n",
    "    - TRAINING: 0.8605063050032508\n",
    "    - TESTING: 0.8672539382162959"
   ]
  },
  {
   "cell_type": "code",
   "execution_count": 39,
   "id": "67c5ef5a",
   "metadata": {},
   "outputs": [],
   "source": [
    "import pickle\n",
    "\n",
    "# Saved\n",
    "with open('rforest.pickle', 'wb') as handle:\n",
    "    pickle.dump(gs_best, handle, protocol=pickle.HIGHEST_PROTOCOL)"
   ]
  },
  {
   "cell_type": "code",
   "execution_count": null,
   "id": "e2dab304",
   "metadata": {},
   "outputs": [],
   "source": []
  },
  {
   "cell_type": "code",
   "execution_count": null,
   "id": "c9e40d23",
   "metadata": {},
   "outputs": [],
   "source": []
  },
  {
   "cell_type": "code",
   "execution_count": null,
   "id": "e3a025bc",
   "metadata": {},
   "outputs": [],
   "source": []
  },
  {
   "cell_type": "code",
   "execution_count": 40,
   "id": "d196ca26",
   "metadata": {},
   "outputs": [
    {
     "data": {
      "text/html": [
       "<div>\n",
       "<style scoped>\n",
       "    .dataframe tbody tr th:only-of-type {\n",
       "        vertical-align: middle;\n",
       "    }\n",
       "\n",
       "    .dataframe tbody tr th {\n",
       "        vertical-align: top;\n",
       "    }\n",
       "\n",
       "    .dataframe thead th {\n",
       "        text-align: right;\n",
       "    }\n",
       "</style>\n",
       "<table border=\"1\" class=\"dataframe\">\n",
       "  <thead>\n",
       "    <tr style=\"text-align: right;\">\n",
       "      <th></th>\n",
       "      <th>age</th>\n",
       "      <th>sex</th>\n",
       "      <th>bmi</th>\n",
       "      <th>children</th>\n",
       "      <th>smoker</th>\n",
       "      <th>region</th>\n",
       "      <th>charges</th>\n",
       "    </tr>\n",
       "  </thead>\n",
       "  <tbody>\n",
       "    <tr>\n",
       "      <th>0</th>\n",
       "      <td>19</td>\n",
       "      <td>0</td>\n",
       "      <td>27.900</td>\n",
       "      <td>0</td>\n",
       "      <td>0</td>\n",
       "      <td>3</td>\n",
       "      <td>16884.92400</td>\n",
       "    </tr>\n",
       "    <tr>\n",
       "      <th>1</th>\n",
       "      <td>18</td>\n",
       "      <td>1</td>\n",
       "      <td>33.770</td>\n",
       "      <td>1</td>\n",
       "      <td>1</td>\n",
       "      <td>2</td>\n",
       "      <td>1725.55230</td>\n",
       "    </tr>\n",
       "    <tr>\n",
       "      <th>2</th>\n",
       "      <td>28</td>\n",
       "      <td>1</td>\n",
       "      <td>33.000</td>\n",
       "      <td>3</td>\n",
       "      <td>1</td>\n",
       "      <td>2</td>\n",
       "      <td>4449.46200</td>\n",
       "    </tr>\n",
       "    <tr>\n",
       "      <th>3</th>\n",
       "      <td>33</td>\n",
       "      <td>1</td>\n",
       "      <td>22.705</td>\n",
       "      <td>0</td>\n",
       "      <td>1</td>\n",
       "      <td>1</td>\n",
       "      <td>21984.47061</td>\n",
       "    </tr>\n",
       "    <tr>\n",
       "      <th>4</th>\n",
       "      <td>32</td>\n",
       "      <td>1</td>\n",
       "      <td>28.880</td>\n",
       "      <td>0</td>\n",
       "      <td>1</td>\n",
       "      <td>1</td>\n",
       "      <td>3866.85520</td>\n",
       "    </tr>\n",
       "    <tr>\n",
       "      <th>...</th>\n",
       "      <td>...</td>\n",
       "      <td>...</td>\n",
       "      <td>...</td>\n",
       "      <td>...</td>\n",
       "      <td>...</td>\n",
       "      <td>...</td>\n",
       "      <td>...</td>\n",
       "    </tr>\n",
       "    <tr>\n",
       "      <th>1333</th>\n",
       "      <td>50</td>\n",
       "      <td>1</td>\n",
       "      <td>30.970</td>\n",
       "      <td>3</td>\n",
       "      <td>1</td>\n",
       "      <td>1</td>\n",
       "      <td>10600.54830</td>\n",
       "    </tr>\n",
       "    <tr>\n",
       "      <th>1334</th>\n",
       "      <td>18</td>\n",
       "      <td>0</td>\n",
       "      <td>31.920</td>\n",
       "      <td>0</td>\n",
       "      <td>1</td>\n",
       "      <td>0</td>\n",
       "      <td>2205.98080</td>\n",
       "    </tr>\n",
       "    <tr>\n",
       "      <th>1335</th>\n",
       "      <td>18</td>\n",
       "      <td>0</td>\n",
       "      <td>36.850</td>\n",
       "      <td>0</td>\n",
       "      <td>1</td>\n",
       "      <td>2</td>\n",
       "      <td>1629.83350</td>\n",
       "    </tr>\n",
       "    <tr>\n",
       "      <th>1336</th>\n",
       "      <td>21</td>\n",
       "      <td>0</td>\n",
       "      <td>25.800</td>\n",
       "      <td>0</td>\n",
       "      <td>1</td>\n",
       "      <td>3</td>\n",
       "      <td>2007.94500</td>\n",
       "    </tr>\n",
       "    <tr>\n",
       "      <th>1337</th>\n",
       "      <td>61</td>\n",
       "      <td>0</td>\n",
       "      <td>29.070</td>\n",
       "      <td>0</td>\n",
       "      <td>0</td>\n",
       "      <td>1</td>\n",
       "      <td>29141.36030</td>\n",
       "    </tr>\n",
       "  </tbody>\n",
       "</table>\n",
       "<p>1338 rows × 7 columns</p>\n",
       "</div>"
      ],
      "text/plain": [
       "      age  sex     bmi  children  smoker  region      charges\n",
       "0      19    0  27.900         0       0       3  16884.92400\n",
       "1      18    1  33.770         1       1       2   1725.55230\n",
       "2      28    1  33.000         3       1       2   4449.46200\n",
       "3      33    1  22.705         0       1       1  21984.47061\n",
       "4      32    1  28.880         0       1       1   3866.85520\n",
       "...   ...  ...     ...       ...     ...     ...          ...\n",
       "1333   50    1  30.970         3       1       1  10600.54830\n",
       "1334   18    0  31.920         0       1       0   2205.98080\n",
       "1335   18    0  36.850         0       1       2   1629.83350\n",
       "1336   21    0  25.800         0       1       3   2007.94500\n",
       "1337   61    0  29.070         0       0       1  29141.36030\n",
       "\n",
       "[1338 rows x 7 columns]"
      ]
     },
     "execution_count": 40,
     "metadata": {},
     "output_type": "execute_result"
    }
   ],
   "source": [
    "df"
   ]
  },
  {
   "cell_type": "markdown",
   "id": "555d71c1",
   "metadata": {},
   "source": [
    "## WITHOUT REGIONS"
   ]
  },
  {
   "cell_type": "code",
   "execution_count": 58,
   "id": "477cd3b2",
   "metadata": {},
   "outputs": [],
   "source": [
    "X_2 = df[['age', 'sex', 'bmi', 'children', 'smoker']]\n",
    "y_2 = df['charges']\n",
    "\n",
    "X_train, X_test, y_train, y_test = train_test_split(X_2, y_2, test_size=0.2, random_state=42)"
   ]
  },
  {
   "cell_type": "code",
   "execution_count": 45,
   "id": "87af1a7d",
   "metadata": {},
   "outputs": [
    {
     "name": "stdout",
     "output_type": "stream",
     "text": [
      "Fitting 3 folds for each of 40 candidates, totalling 120 fits\n",
      "TRAINING\n",
      "Best Parameters: {'rf__criterion': 'mse', 'rf__max_depth': 5, 'rf__n_estimators': 200}\n",
      "Best Score: 0.846101936592178\n"
     ]
    }
   ],
   "source": [
    "params2 = {'rf__criterion': ['mse', 'mae'],\n",
    "          'rf__max_depth': [None, 1, 3, 5, 10],\n",
    "#           'rf__min_samples_leaf': [3, 4, 5],\n",
    "#           'rf__min_samples_split': [8, 10, 12],\n",
    "          'rf__n_estimators': [100, 200, 300, 1000]\n",
    "}\n",
    "\n",
    "grid2 = GridSearchCV(Pipeline([('ss', StandardScaler()),\n",
    "                              ('rf', RandomForestRegressor(random_state=42, n_jobs=-1))\n",
    "                             ]),\n",
    "                    params,\n",
    "                    cv=3,\n",
    "                    verbose=1)\n",
    "\n",
    "grid2.fit(X_train, y_train)\n",
    "\n",
    "pred2 = grid2.predict(X_test) \n",
    "\n",
    "print('TRAINING')\n",
    "print(f'Best Parameters: {grid2.best_params_}')\n",
    "print(f'Best Score: {grid2.best_score_}')\n",
    "\n",
    "\n",
    "## RESULTS SAVED\n",
    "    # Fitting 3 folds for each of 40 candidates, totalling 120 fits\n",
    "    # TRAINING\n",
    "    # Best Parameters: {'rf__criterion': 'mse', 'rf__max_depth': 3, 'rf__n_estimators': 1000}\n",
    "    # Best Score: 0.8457987134674331"
   ]
  },
  {
   "cell_type": "code",
   "execution_count": 46,
   "id": "9ec461ce",
   "metadata": {},
   "outputs": [
    {
     "name": "stdout",
     "output_type": "stream",
     "text": [
      "TESTING\n",
      "Test R2: 0.8717556417198307\n",
      "Test RMSE: 4462.036972501775\n",
      "Test MAE: 2561.659988524293\n"
     ]
    }
   ],
   "source": [
    "print('TESTING')\n",
    "print(f'Test R2: {grid2.score(X_test, y_test)}')\n",
    "print(f'Test RMSE: {rmse(y_test, pred2)}')\n",
    "print(f'Test MAE: {mean_absolute_error(y_test, pred2)}')"
   ]
  },
  {
   "cell_type": "code",
   "execution_count": 47,
   "id": "11ef4159",
   "metadata": {},
   "outputs": [
    {
     "name": "stdout",
     "output_type": "stream",
     "text": [
      "0.8605065618632126\n",
      "0.8672546153806103\n"
     ]
    }
   ],
   "source": [
    "# Final fit of best gridsearchCV\n",
    "gs_best2 = grid.best_estimator_\n",
    "gs_best2.fit(X_train, y_train)\n",
    "print(gs_best2.score(X_train, y_train))\n",
    "print(gs_best2.score(X_test, y_test))"
   ]
  },
  {
   "cell_type": "code",
   "execution_count": 48,
   "id": "905f7580",
   "metadata": {},
   "outputs": [],
   "source": [
    "# Saved\n",
    "with open('rforest2.pickle', 'wb') as handle:\n",
    "    pickle.dump(gs_best2, handle, protocol=pickle.HIGHEST_PROTOCOL)"
   ]
  },
  {
   "cell_type": "code",
   "execution_count": 59,
   "id": "0ddc9087",
   "metadata": {},
   "outputs": [],
   "source": [
    "# Saved standard scalar fit for web app\n",
    "\n",
    "ss = StandardScaler().fit(X_train)\n",
    "\n",
    "with open('standard_scalar.pickle', 'wb') as handle:\n",
    "    pickle.dump(ss, handle, protocol=pickle.HIGHEST_PROTOCOL)"
   ]
  },
  {
   "cell_type": "code",
   "execution_count": null,
   "id": "0141261d",
   "metadata": {},
   "outputs": [],
   "source": []
  },
  {
   "cell_type": "code",
   "execution_count": 49,
   "id": "dae8b35f",
   "metadata": {},
   "outputs": [
    {
     "name": "stdout",
     "output_type": "stream",
     "text": [
      "Fitting 5 folds for each of 40 candidates, totalling 200 fits\n",
      "TRAINING\n",
      "Best Parameters: {'rf__criterion': 'mse', 'rf__max_depth': 3, 'rf__n_estimators': 100}\n",
      "Best Score: 0.8454243590392171\n"
     ]
    }
   ],
   "source": [
    "params2 = {'rf__criterion': ['mse', 'mae'],\n",
    "          'rf__max_depth': [None, 1, 3, 5, 10],\n",
    "          'rf__min_samples_leaf': [1, 3, 4, 5],\n",
    "          'rf__min_samples_split': [1, 8, 10, 12],\n",
    "          'rf__n_estimators': [100, 200, 300, 1000]\n",
    "}\n",
    "\n",
    "grid2 = GridSearchCV(Pipeline([('ss', StandardScaler()),\n",
    "                              ('rf', RandomForestRegressor(random_state=42, n_jobs=-1))\n",
    "                             ]),\n",
    "                    params,\n",
    "                    cv=5,\n",
    "                    verbose=1)\n",
    "\n",
    "grid2.fit(X_train, y_train)\n",
    "pred2 = grid2.predict(X_test) \n",
    "\n",
    "print('TRAINING')\n",
    "print(f'Best Parameters: {grid2.best_params_}')\n",
    "print(f'Best Score: {grid2.best_score_}')\n",
    "\n",
    "\n",
    "## RESULTS SAVED\n",
    "    # Fitting 3 folds for each of 40 candidates, totalling 120 fits\n",
    "    # TRAINING\n",
    "    # Best Parameters: {'rf__criterion': 'mse', 'rf__max_depth': 3, 'rf__n_estimators': 1000}\n",
    "    # Best Score: 0.8457987134674331"
   ]
  },
  {
   "cell_type": "code",
   "execution_count": null,
   "id": "7ec80615",
   "metadata": {},
   "outputs": [],
   "source": []
  },
  {
   "cell_type": "code",
   "execution_count": null,
   "id": "83c147a9",
   "metadata": {},
   "outputs": [],
   "source": []
  },
  {
   "cell_type": "code",
   "execution_count": null,
   "id": "37db93ef",
   "metadata": {},
   "outputs": [],
   "source": []
  },
  {
   "cell_type": "code",
   "execution_count": null,
   "id": "1df719b6",
   "metadata": {},
   "outputs": [],
   "source": []
  },
  {
   "cell_type": "code",
   "execution_count": null,
   "id": "f8e62448",
   "metadata": {},
   "outputs": [],
   "source": []
  },
  {
   "cell_type": "code",
   "execution_count": null,
   "id": "850588de",
   "metadata": {},
   "outputs": [],
   "source": [
    "from tensorflow.keras.models import Sequential\n",
    "from tensorflow.keras.layers import Dense, Dropout"
   ]
  },
  {
   "cell_type": "code",
   "execution_count": null,
   "id": "990b7c58",
   "metadata": {},
   "outputs": [],
   "source": []
  },
  {
   "cell_type": "code",
   "execution_count": null,
   "id": "415ecef3",
   "metadata": {},
   "outputs": [],
   "source": []
  },
  {
   "cell_type": "code",
   "execution_count": null,
   "id": "a623a800",
   "metadata": {},
   "outputs": [],
   "source": []
  },
  {
   "cell_type": "code",
   "execution_count": null,
   "id": "9ae4d791",
   "metadata": {},
   "outputs": [],
   "source": []
  },
  {
   "cell_type": "code",
   "execution_count": null,
   "id": "5c037bdf",
   "metadata": {},
   "outputs": [],
   "source": []
  },
  {
   "cell_type": "code",
   "execution_count": null,
   "id": "e238f0cc",
   "metadata": {},
   "outputs": [],
   "source": []
  },
  {
   "cell_type": "markdown",
   "id": "c2b8ef53",
   "metadata": {},
   "source": [
    "- polynomial\n",
    "- neural network\n"
   ]
  }
 ],
 "metadata": {
  "kernelspec": {
   "display_name": "Python 3 (ipykernel)",
   "language": "python",
   "name": "python3"
  },
  "language_info": {
   "codemirror_mode": {
    "name": "ipython",
    "version": 3
   },
   "file_extension": ".py",
   "mimetype": "text/x-python",
   "name": "python",
   "nbconvert_exporter": "python",
   "pygments_lexer": "ipython3",
   "version": "3.9.7"
  }
 },
 "nbformat": 4,
 "nbformat_minor": 5
}
